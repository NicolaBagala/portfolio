{
 "cells": [
  {
   "cell_type": "markdown",
   "id": "c1405773-e541-4f00-89a2-9dd9ae95179b",
   "metadata": {},
   "source": [
    "# Testing Hypotheses On Medical Insurance Costs (Code-free)"
   ]
  },
  {
   "cell_type": "markdown",
   "id": "9feefce1-8b5e-4478-a6d8-a883e83f5f6a",
   "metadata": {
    "tags": []
   },
   "source": [
    "## Introduction"
   ]
  },
  {
   "cell_type": "markdown",
   "id": "69d5c584-bf80-4465-9533-69d40fa92e57",
   "metadata": {},
   "source": [
    "In this project, I'm going to test four different hypotheses on medical expenses for US patients using a [Kaggle dataset]( https://www.kaggle.com/datasets/mirichoi0218/insurance) of medical insurance costs. (This is the code-free version of the project; for the code, see [here](https://github.com/NicolaBagala/portfolio/blob/master/insurance/insurance.ipynb).)\n",
    "\n",
    "The four hypotheses are:\n",
    "1. Average medical expenses are the same for male and female patients.\n",
    "2. Average medical expenses are higher for people with higher BMI. (Body mass index; see below for more information.)\n",
    "3. Smokers have higher average expenses than non-smokers.\n",
    "4. Medical expenses grow with age.\n",
    "\n",
    "**Note:** In this project, the terms \"expenses\", \"expenditures\", \"costs\", \"charges\", and variations thereof are all used in the same sense—medical costs billed by health insurance."
   ]
  },
  {
   "cell_type": "markdown",
   "id": "5c851e58-1ed9-498e-98b1-69833ae9032d",
   "metadata": {
    "tags": []
   },
   "source": [
    "## The dataset"
   ]
  },
  {
   "cell_type": "markdown",
   "id": "e56454fb-0e89-4574-99b6-bcb00f265cd9",
   "metadata": {},
   "source": [
    "According to the original source, the dataset is a simulated dataset created for the book *Machine Learning with R* by Brett Lantz. The book itself states that it is\n",
    "\n",
    "> a simulated dataset containing medical expenses\n",
    "for patients in the United States. These data were created for this book using\n",
    "demographic statistics from the U.S. Census Bureau, and thus approximately\n",
    "reflect real-world conditions.\n",
    "\n",
    "That said, the dataset is good enough for the scope of this project, so let's familiarise with it. \n",
    "The dataset contains seven columns and 1338 rows, with no nulls. Let's see what each column represents.\n",
    "\n",
    "- `age`: age of the insurance contractor's primary beneficiary\n",
    "- `sex`: sex of the insurance contractor, female or male\n",
    "- `bmi`: [Body mass index](https://en.wikipedia.org/wiki/Body_mass_index), a general indicator of body fitness\n",
    "- `children`: number of children covered by health insurance\n",
    "- `smoker`: whether the insurance contractor is a smoker, yes or no\n",
    "- `region`: the beneficiary's residential area in the US, northeast, southeast, southwest, northwest\n",
    "- `charges`: individual medical costs billed by health insurance for one calendar year."
   ]
  },
  {
   "cell_type": "markdown",
   "id": "68080a7d-cb44-4895-af20-0fca8829aa49",
   "metadata": {
    "tags": []
   },
   "source": [
    "## Hypothesis 1: Average medical expenditures are the same for males and females"
   ]
  },
  {
   "cell_type": "markdown",
   "id": "38d2453c-1762-413b-aa25-8ed0fca9bad8",
   "metadata": {},
   "source": [
    "The starting hypothesis is that the patient's sex doesn't significantly affect the magnitude of his or her medical expenses. That is, on average, male patients will have the same expenditures as female patients. The alternative hypothesis is that these two averages will be different. For males in the sample, the average cost is 13.957 dollars; for females, it's 12.570. The difference between the two is 1387, i.e. **on average, male insurance costs are $1387 higher than female costs.** Is this consistent with the hypothesis that the two costs are the same at the population level? In other words, **is the difference in the sample due to chance, or does it reflect a difference at the population level?** Let's explore the samples."
   ]
  },
  {
   "cell_type": "markdown",
   "id": "16cfb791-bf38-46c9-aedd-79239740c5f3",
   "metadata": {},
   "source": [
    "![](figures/figure_1.png)"
   ]
  },
  {
   "cell_type": "markdown",
   "id": "03d2b69c-d855-41d2-bc63-8ab0d7ee73eb",
   "metadata": {},
   "source": [
    "*`Figure 1. Distribution of male (blue) and female (purple) medical expenditures.`*"
   ]
  },
  {
   "cell_type": "markdown",
   "id": "b4242d54-3d5c-4722-af15-c7ffd9cfdffc",
   "metadata": {},
   "source": [
    "The chart shows the fraction of medical expenditures that fall within a certain range. (This means that the area under each curve is 1, i.e. the whole \"fraction\" of medical expenditures for each sex.) We see that both expenditure distributions are right-skewed, with a larger fraction of costs falling between 0 and about 20.000 USD, and a smaller fraction of higher costs. More importantly for the project's purposes, **both distributions are very close to each other and likely not significantly different.** \n",
    "\n",
    "We're going to see in a moment whether the difference between the average expenditures for males and females, $1387, is statistically significant or not; however, its *practical* significance is debatable. According to Cohen's *d*, the difference is rather small."
   ]
  },
  {
   "cell_type": "markdown",
   "id": "559a2f6c-c390-47da-96a1-48f78cef68ed",
   "metadata": {},
   "source": [
    "![](figures/figure_2.png)"
   ]
  },
  {
   "cell_type": "markdown",
   "id": "6cc58ba5-4b38-4dc0-bdb3-0da132bea5c7",
   "metadata": {},
   "source": [
    "*`Figure 2. Cohen's d for male and female average medical expenditures. The low value indicates that the two expenditure distributions largely overlap.`*"
   ]
  },
  {
   "cell_type": "markdown",
   "id": "bc9b117f-578c-4e23-9974-1ace5f075259",
   "metadata": {},
   "source": [
    "A low *d* value means that the observed difference is small in relation to the variability of the data. In other words, a low *d* means that the two distributions being compared have a lot of overlap, which is certainly true in our case. Still, an insurance company would probably like to keep in mind that male patients are more \"expensive\".\n",
    "\n",
    "Let's now see whether the observed difference between male and female expenditures is statistically significant or not. Given the large sample sizes, the sampling distribution of the average male and female costs is likely normal, but here and in the following, I'm going to test all hypotheses using both the z-test and the t-test, for the sake of comparison.\n",
    " \n",
    "The starting hypothesis is that, at the population level, average male and female costs are the same, i.e. their difference is zero; what needs checking is if the difference observed in the sample is consistent with this hypothesis or not. \n",
    "\n",
    "Running the z-test and the t-test on the data yields the following results:\n",
    "\n",
    "**Z-test summary:**<br>\n",
    "Z-score of observed value 1387: **2.0991**<br>\n",
    "Probability of observing value 1387 if the null value is 0 (p-value): **0.0358**<br>\n",
    "95.0% confidence interval: **(91.9098, 2682.0902)**\n",
    "\n",
    "**T-test summary:**<br>\n",
    "T-score of observed value 1387: 2.1009<br>\n",
    "Probability of observing value 1387 if the null value is 0 (p-value): 0.0358<br>\n",
    "95.0% confidence interval: (90.7354, 2683.2646)\n",
    "\n",
    "According to the z-test, the starting hypothesis can be rejected at a 95% confidence level, because the probability of observing a difference between male and female expenditures of $1387 in the sample if there was no difference at the population level is smaller than 5%. In other words, despite the appearances, **the difference observed in the sample is significant, and it suggests that male and female average costs are different at the population level as well.** The confidence interval—the range of possible values for this difference—is rather large, meaning that the average medical expenses for males could be anywhere between about 92 and 2682 dollars higher than for females. Regardless of the exact amount, the data strongly suggests that average medical costs for males are higher than for females. (Remember that the difference between the two averages was calculated as `male cost - female cost`.) The results of the t-test are very similar, and further confirm the results of the z-test."
   ]
  },
  {
   "cell_type": "markdown",
   "id": "218974d7-405a-4d33-a88a-30f5e88bac6a",
   "metadata": {
    "tags": []
   },
   "source": [
    "## Hypothesis 2: Average medical expenditures correlate with higher BMI values"
   ]
  },
  {
   "cell_type": "markdown",
   "id": "75e58142-9eda-4243-ba0c-4361ae7fe9a8",
   "metadata": {},
   "source": [
    "Adults are classified according to [body mass index](https://en.wikipedia.org/wiki/Body_mass_index) as follows:\n",
    "- BMI less than 18.5: underweight\n",
    "- BMI between 18.5 and 24.9: normal weight\n",
    "- BMI between 25 and 29.9: overweight\n",
    "- BMI 30 or above: obese\n",
    "\n",
    "As being overweight or obese typically comes with compounded health problems, it's reasonable to expect higher medical expenses for individuals with higher BMI. Let's check that with a scatter plot."
   ]
  },
  {
   "cell_type": "markdown",
   "id": "dd841b75-ea12-45b3-bf15-31a061c5cbd1",
   "metadata": {},
   "source": [
    "![](figures/figure_3.png)"
   ]
  },
  {
   "cell_type": "markdown",
   "id": "ba642328-af89-4a90-88ce-f88caded1de8",
   "metadata": {},
   "source": [
    "*`Figure 3. On the left, medical expenditures are plotted against BMI; a linear model has been fitted to the data. On the right, the chart shows the difference between the observed expenditures and the linear model prediction.`*"
   ]
  },
  {
   "cell_type": "markdown",
   "id": "6a8a602c-e52a-4e63-b2c9-4af9578884a3",
   "metadata": {},
   "source": [
    "The charts shows the data, a linear model fitted to it, and the residual difference between observed data and the linear model. The low value of the correlation coefficient *r*, the residuals scattered all over the place, often far from zero, and the low percentage of variance in the charges explained by the BMI ($r^2$, equal to about 4%), show that a linear model is a very poor fit for the data. (Which is also quite apparent at a glance, to be fair.) What the scatter plot seems to show is that **the bulk of medical expenses clusters mostly below 10.000 USD, regardless of BMI, but any exceptions and outliers tend to be higher for higher BMIs.**\n",
    "\n",
    "Regardless, there's definitely a clear uptick as BMI goes up, which can be seeen more clearly by grouping the data based on BMI values."
   ]
  },
  {
   "cell_type": "markdown",
   "id": "9cefbe8f-f6e0-4eaf-b20e-f9db0c653361",
   "metadata": {},
   "source": [
    "![](figures/table_1.png)"
   ]
  },
  {
   "cell_type": "markdown",
   "id": "2185307b-c493-41bf-925c-a9ca3439867c",
   "metadata": {},
   "source": [
    "*`Table 1. Mean charges (medical expenditures) for people in each BMI range. The number of people in the range is also reported for context.`*"
   ]
  },
  {
   "cell_type": "markdown",
   "id": "b111d709-6af4-46ed-a0fc-81529d614765",
   "metadata": {},
   "source": [
    "The average charge does indeed grow with weight status (or equivalently, with BMI), and so does the size of the set of people within the given BMI range. (As it is probably to be expected in random sample of Americans...) Forgetting the `underweight` group, which is too small to reliably infer anything out of it, let's plot the distribution of the other three groups, and then try to see if the difference between the observed averages reflects a difference at the population level or is due to random chance."
   ]
  },
  {
   "cell_type": "markdown",
   "id": "b2578665-170d-4daf-a6a4-c88be546f53a",
   "metadata": {},
   "source": [
    "![](figures/figure_4.png)"
   ]
  },
  {
   "cell_type": "markdown",
   "id": "aadd5e78-9d5a-46a9-afb0-da344cdd7bf6",
   "metadata": {},
   "source": [
    "*`Figure 4. On the left, distribution of medical expenditures for normal, overweight, and obese people. On the right, a box plot shows the three distributions and any outliers separately.`*"
   ]
  },
  {
   "cell_type": "markdown",
   "id": "8917ae54-aa07-4be3-8191-ddb30a744366",
   "metadata": {},
   "source": [
    "The average cost is quite a bit higher for obese people than for normal or overweight people; the distributions of the latter two ranges are very similar, with just a few outliers for the overweight people. The distribution of charges for obese people is more spread out, with several outliers that account for the \"bump\" of the red line on the left-hand side chart. \n",
    "\n",
    "There are two hypotheses to test; the first is that, at the population level, the average insurance charges of normal-weight people are the same as that of overweight people. The alternative hypothesis is that the two averages are different.\n",
    "\n",
    "**Z-test summary:**<br>\n",
    "Z-score of observed value -578: **-0.8925**<br>\n",
    "Probability of observing value -578 if the null value is 0 (p-value): **0.3721**<br>\n",
    "95.0% confidence interval: **(-1847.245, 691.245)**\n",
    "\n",
    "\n",
    "**T-test summary:**<br>\n",
    "T-score of observed value -578: **-0.8945**<br>\n",
    "Probability of observing value -578 if the null value is 0 (p-value): **0.3715**<br>\n",
    "95.0% confidence interval: **(-1849.7725, 693.7725)**\n",
    "\n",
    "Once again, both tests yield very similar results. In the sample, normal-weight people have medical expenses that are, on average, $578 cheaper than for overweight people. Both tests say that there's about a 37% chance of observing a difference of this magnitude in the sample even if the same difference at the population level was zero. This means that **the hypothesis that normal-weight and overweight people have on average the same medical expenditures can't be ruled out.**\n",
    "\n",
    "The practical significance of this difference, as measured by Cohen's *d*, is again rather small, reflecting the significant overlap between the green and yellow distributions in `Figure 4`. (Still, one could argue that there's no such thing as an insignificant dollar spent on health care.)"
   ]
  },
  {
   "cell_type": "markdown",
   "id": "1496772d-055c-4a57-8d5a-7c6c62e48dc7",
   "metadata": {},
   "source": [
    "![](figures/figure_5.png)"
   ]
  },
  {
   "cell_type": "markdown",
   "id": "e1a9a0e4-6caa-4c40-932f-a017e7d5d2e6",
   "metadata": {},
   "source": [
    "*`Figure 5. Cohen's d for the difference between normal-weight and overweight people's medical expenditures. The value is very low, so there is very significant overlap between the two distributions.`*"
   ]
  },
  {
   "cell_type": "markdown",
   "id": "e5e7bc45-a393-4fbd-be78-cc5a390cd358",
   "metadata": {},
   "source": [
    "The second hypothesis to test is that the average insurance charges for normal-weight and obese people are the same at the population level. Again, the alternative hypothesis is that they are different.\n",
    "\n",
    "**Z-test summary:**<br>\n",
    "Z-score of observed value -5143: **-6.9257**<br>\n",
    "Probability of observing value -5143 if the null value is 0 (p-value): **0.0**<br>\n",
    "95.0% confidence interval: **(-6598.4597, -3687.5403)**\n",
    "\n",
    "**T-test summary:**<br>\n",
    "T-score of observed value -5143: -6.9354<br>\n",
    "Probability of observing value -5143 if the null value is 0 (p-value): 0.0<br>\n",
    "95.0% confidence interval: (-6600.3564, -3685.6436)\n",
    "\n",
    "**Both tests reject the hypothesis as virtually impossible:** in the sample, the medical expenditures of normal-weight people are on average $5143 cheaper than for obese people, and **the probability of observing such a difference in the sample if there was no difference in the population is zero.** Both confidence intervals lie comfortably to the left of zero, suggesting that, indeed, medical expenses for normal-weight people are on average lower than for obese people. The observed difference is statistically very significant, although according to Cohen's *d* its practical significance is small-to-medium; the overlap between the expenditure distribution of normal-weight and obese people is quite a bit smaller than in previous cases, but it's still there."
   ]
  },
  {
   "cell_type": "markdown",
   "id": "0b99658f-05c3-4594-b376-4f019e0a9c6b",
   "metadata": {},
   "source": [
    "![](figures/figure_6.png)"
   ]
  },
  {
   "cell_type": "markdown",
   "id": "32cf673a-3223-460a-b6e2-2ed5b85fdd47",
   "metadata": {},
   "source": [
    "*`Figure 6. Cohen's d for the difference between the average medical expenditures of normal-weight and obese people. This value indicates a smaller overlap between the two distributions than we've seen so far.`*"
   ]
  },
  {
   "cell_type": "markdown",
   "id": "ee3c0795-4ce3-4ebc-a5c3-7890b7ac43ff",
   "metadata": {
    "tags": []
   },
   "source": [
    "## Hypothesis 3: Average medical expenditures of smokers are higher than those of non-smokers"
   ]
  },
  {
   "cell_type": "markdown",
   "id": "ce728981-ef06-4745-b453-b1ecba6ab576",
   "metadata": {},
   "source": [
    "The third hypothesis to test is whether smokers have higher average medical expenses than non-smokers. Let's start by checking these values in the sample and plotting the two distributions.\n",
    "\n",
    "Smokers in the sample are 274, and their average expenditures are 32050 USD; non-smokers are 1064, with average expenditures of 8434 USD. The difference in sample size is not small, but the average charge of smokers is almost 4 times larger than for non-smokers, suggesting that they may in general have higher medical expenditures."
   ]
  },
  {
   "cell_type": "markdown",
   "id": "a2ccfad4-b194-41cd-9da7-d62ddddeaa7c",
   "metadata": {},
   "source": [
    "![](figures/figure_7.png)"
   ]
  },
  {
   "cell_type": "markdown",
   "id": "8eafccf0-a8ab-499f-b16d-c160cea35497",
   "metadata": {},
   "source": [
    "*`Figure 7. Distribution of medical expenditures for smokers and non-smokers. In both charts, the two distributions have visibly little overlap.`*"
   ]
  },
  {
   "cell_type": "markdown",
   "id": "48ce4350-944a-48d8-8918-8249a8815c69",
   "metadata": {},
   "source": [
    "The charts leave little doubt that **smokers in the sample have much higher medical expenditures, both in general and on average.** Their expenditure range is larger, with the top 25% expenditures reaching as far as over $60.000. Also notice the absence of outliers amongst smokers: high expenditures are common in this group, unlike for the non-smoker group, where very high expenses are exceptional, infrequent, and *almost entirely below the average health expenses of smokers!*\n",
    "\n",
    "Let's now assess the statistical significance of this difference. As usual, the starting assumption is that, at the population level, there is no difference between the average medical expenditure of the two groups.\n",
    "\n",
    "**Z-test summary:**<br>\n",
    "Z-score of observed value 23616: 32.695<br>\n",
    "Probability of observing value 23616 if the null value is 0 (p-value): 0.0<br>\n",
    "95.0% confidence interval: (22200.2938, 25031.7062)\n",
    "\n",
    "**T-test summary:**<br>\n",
    "T-score of observed value 23616: 32.7519<br>\n",
    "Probability of observing value 23616 if the null value is 0 (p-value): 0.0<br>\n",
    "95.0% confidence interval: (22199.0101, 25032.9899)\n",
    "\n",
    "The difference between smokers and non-smokers is 23616 USD—that is, an average smoker's medical expenditures are well over $20.000 higher than those of an average non-smoker. Both tests say the same thing—**the probability of observing such a difference in the sample, if there was no difference in the population, is basically zero.** The confidence intervals are also fairly narrow, suggesting that the observed sample difference of 23616 dollars  is a pretty good estimate of the difference between smoker and non-smoker average medical expenses in the population. Cohen's *d* is also very large, highlighting the small overlap between the two distributions."
   ]
  },
  {
   "cell_type": "markdown",
   "id": "11761569-e57c-47fb-af2e-32b2679a25cf",
   "metadata": {},
   "source": [
    "![](figures/figure_8.png)"
   ]
  },
  {
   "cell_type": "markdown",
   "id": "5c8d99fa-d083-47c7-9113-9f820ba222b4",
   "metadata": {},
   "source": [
    "*`Figure 8. The value of Cohen's d in the case of smokers and non-smokers is extremely large. A good part of the overlap between the two distributions is due to outliers amongst non-smokers!`*"
   ]
  },
  {
   "cell_type": "markdown",
   "id": "bf93eec3-4d07-4e58-8c55-673bf91af3db",
   "metadata": {},
   "source": [
    "## Hypothesis 4: Expenditures grow with age"
   ]
  },
  {
   "cell_type": "markdown",
   "id": "28acaf64-0e24-48e3-ba5a-9e68912ec5e6",
   "metadata": {},
   "source": [
    "As health deteriorates with age, it's reasonable to expect that health care costs will go up with age. This is certainly true for the sample, as it can be seen below."
   ]
  },
  {
   "cell_type": "markdown",
   "id": "4c7e3787-b9b7-4c28-865c-346be2f78616",
   "metadata": {},
   "source": [
    "![](figures/figure_9.png)"
   ]
  },
  {
   "cell_type": "markdown",
   "id": "6793f0c3-07c7-4650-951f-24f7b8a3c08d",
   "metadata": {},
   "source": [
    "*`Figure 9. A scatter plot of age vs medical expenditures reveals a linear-looking growth in three different expenditure groups.`*"
   ]
  },
  {
   "cell_type": "markdown",
   "id": "a4a7a66b-db14-465a-ae39-a3373cc297aa",
   "metadata": {},
   "source": [
    "Overall, a linear, growing trend in the data is apparent, but measuring the strength of the correlation between age and expenditures yields a surprisingly low value: about 0.3. That's because, rather than one, there seem to be *three* distinct linear trends; a very strong one at the bottom, and two increasingly weaker ones as charges increase."
   ]
  },
  {
   "cell_type": "markdown",
   "id": "e01382f4-52a8-4fec-b997-04de8c5a1068",
   "metadata": {},
   "source": [
    "![](figures/figure_10.png)"
   ]
  },
  {
   "cell_type": "markdown",
   "id": "05f64040-3ff2-4cc9-89f9-6b49657f9964",
   "metadata": {},
   "source": [
    "*`Figure 10. Three distinct sets of data points concentrate in the 'low', 'medium', and 'high' charge clusters.`*"
   ]
  },
  {
   "cell_type": "markdown",
   "id": "7e968528-dcac-4f62-9b41-0cbc459e67cf",
   "metadata": {},
   "source": [
    "`Figure 10` shows the data points along with two straight lines that separate them into 'low', 'medium', and 'high' charge clusters. (In some cases, it's difficult to tell which cluster a data point belongs to; the lines have been chosen somewhat arbitrarily to separate the bulk of each cluster from the rest.) Separating the data as in `Figure 10` and running linear regression on the resulting clusters reveals, expectectly, a much stronger linear correlation in all three cases."
   ]
  },
  {
   "cell_type": "markdown",
   "id": "5329853e-69c3-4a09-809d-3e97a3fce275",
   "metadata": {},
   "source": [
    "![](figures/figure_11.png)"
   ]
  },
  {
   "cell_type": "markdown",
   "id": "398ff261-2d9e-4073-9887-09d60772ff2f",
   "metadata": {},
   "source": [
    "*`Figure 11. Scatterplot, linear fit, and residuals for the low-, medium-, and high-charge data clusters.`*"
   ]
  },
  {
   "cell_type": "markdown",
   "id": "51e6b4fc-e939-4eea-8b4d-515a67a078c9",
   "metadata": {},
   "source": [
    "All three clusters display moderate-to-excellent linear correlation, and in all three cases, the p-value is zero. This means that **the slope of the data trendline at the population level is almost surely not zero, i.e. age *does* correlate with the magnitude of medical expenses.**\n",
    "\n",
    "Given the average distance of the medium- and high-charge cluster from the low-charge data cluster, it's probable they represent exceptions; medical expenses that are unusually or even very unusually high for each age. This is also corroborated by the fact the data density for medium and high charges is visibly lower compared to low charges.\n",
    "\n",
    "High charges have the weakest correlation of all three, with only about 40% of the variation in the data explained by the linear model. There are a few high-leverage points that are likely to influence the slope of the high-charge fitted line (especially on the top-right corner of the chart), though the central cloud follows a fairly clear linear trajectory. \n",
    "\n",
    "Medium charges have a much stronger correlation, with over 64% of the data variability explained by the linear fit. The linear fit of low charges is nearly perfect, with about 95% of data variability explained by the model; however, unlike the other two cases, the data follows very clearly a curved trajectory, which is also visible in the residuals chart. This suggests that, despite the near-perfect fit, a different model may fit the data better. Below, I tried to fit a second-order polynomial to the data."
   ]
  },
  {
   "cell_type": "markdown",
   "id": "ea3794ab-8a75-48e2-b16a-6288a51bc96f",
   "metadata": {},
   "source": [
    "![](figures/figure_12.png)"
   ]
  },
  {
   "cell_type": "markdown",
   "id": "52ecbf11-9953-46c5-811f-c916a2eef8c9",
   "metadata": {},
   "source": [
    "*`Figure 12. The low-charge cluster with a curved model fitted to it. This fit is only very marginally better.`*"
   ]
  },
  {
   "cell_type": "markdown",
   "id": "6f081caa-d2c4-4756-9e2c-91caa6ec7295",
   "metadata": {},
   "source": [
    "Visually, a curve fits the data slightly better; Spearman's correlation coefficient (which measures non-linear, monotonic correlations between variables), is also a little \n",
    "bit higher than Pearson's *r* (0.9765 vs 0.9749). The difference is minimal, but it does suggest that the observed relation is not perfectly linear although very close to it. The p-value of zero confirms that, had there been no correlation between age and medical expenditures in the population, there would be virtually no possibility of observing a dataset with such a strong correlation between the two just out of random chance.\n",
    "\n",
    "In conclusion, the data definitely support the claim that medical expenses go up with age, which is unfortunately very intuitive. (Had the dataset contained data about people older than 65, we would probably see charges grow even faster.)"
   ]
  },
  {
   "cell_type": "markdown",
   "id": "a1ccd447-2b3e-4e38-81c2-ef9e74221dfa",
   "metadata": {},
   "source": [
    "## Conclusions"
   ]
  },
  {
   "cell_type": "markdown",
   "id": "f8966461-267a-4dd4-9b0a-a940440c5c18",
   "metadata": {},
   "source": [
    "In this project, I used a simulated dataset of yearly medical insurance costs for American insurance contractors. The goal of the project was to test four hypotheses:\n",
    "\n",
    "1. Average medical expenses are the same for male and female patients.\n",
    "2. Average medical expenses are higher for people with higher BMI. (Body mass index; see below for more information.)\n",
    "3. Smokers have higher average expenses than non-smokers.\n",
    "4. Medical expenses grow with age.\n",
    "\n",
    "The results of the analyses have shown that, in fact, **average medical expenses are _not_ the same for male and female patients;** on average, they are 1387 dollars higher for males. This difference is statistically significant at a 0.05 significance level. (If there was no difference between the average expenditures of male and female patients in the population, there would be less than a 5% probability of observing a sample with a difference of $1387 out of random chance.)\n",
    "\n",
    "**Average medical expenses _are_ higher for people with higher BMI in the sample,** but depending on the BMI, the existence of this difference in the population may or may not be supported by the data. In particular, the difference in expenditures between normal-weight and overweight people is not significant, with over 37% chance of selecting a sample displaying at least the observed difference of -537 dollars even if there was no difference at the population level. By contrast, **the difference between the average expenditures of normal-weight and obese people (-5143 USD) is very statistically significant,** with virtually no chance of observing such a sample if there was no difference between their expenditures at the population level.\n",
    "\n",
    "The analysis also confirmed that **medical expenditures for smokers are *much* higher than for non-smokers,** with a difference of well over 20.000 USD per year, and again no chance of observing such difference in a sample from a population where the difference was zero. \n",
    "\n",
    "Finally, **the data displays an increasing linear correlation between a patient's age and their yearly medical expenditures.** Three clusters of low-, medium-, and high-charges have been identified, roughly with ranges 0-16000, 16000-30000, and 30000+ USD, in all of which the magnitude of expenditures correlates linearly with age. The observed correlation was nearly perfect for the low-charge cluster, strong for the medium-charge cluster, and moderate for the high-expenditure cluster. This, coupled with the fact that most observations fell into the low-charge cluster, suggests that **low expenditures are more common and follow a stronger, linear trend than the other two clusters, which represents increasingly uncommon expenditures with a more unpredictable pattern.**"
   ]
  }
 ],
 "metadata": {
  "kernelspec": {
   "display_name": "Python 3 (ipykernel)",
   "language": "python",
   "name": "python3"
  },
  "language_info": {
   "codemirror_mode": {
    "name": "ipython",
    "version": 3
   },
   "file_extension": ".py",
   "mimetype": "text/x-python",
   "name": "python",
   "nbconvert_exporter": "python",
   "pygments_lexer": "ipython3",
   "version": "3.9.12"
  }
 },
 "nbformat": 4,
 "nbformat_minor": 5
}
