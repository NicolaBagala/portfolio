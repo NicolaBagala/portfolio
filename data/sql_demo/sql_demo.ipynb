{
 "cells": [
  {
   "cell_type": "markdown",
   "id": "1869b1b7-06c3-43d2-abd0-02e15cdcf011",
   "metadata": {},
   "source": [
    "# SQL demo"
   ]
  },
  {
   "cell_type": "markdown",
   "id": "80356a85-9136-4e67-9696-cdf2d6deb1e0",
   "metadata": {},
   "source": [
    "This project is somewhat different from my other projects, in that its goal is simply to give the reader an idea of my SQL skills. It's not a fully-fledged project where I'm analysing something specific; rather, it's a series of examples of use cases of SQL for data manipulation and data defintion."
   ]
  },
  {
   "cell_type": "markdown",
   "id": "b83d0a7e-85f1-4577-afe6-c6d4191390a6",
   "metadata": {
    "tags": []
   },
   "source": [
    "## SQL as DML"
   ]
  },
  {
   "cell_type": "markdown",
   "id": "2f5edc3f-fc5c-44bd-9503-e699b92f04cd",
   "metadata": {},
   "source": [
    "In this section, I'm going to query the `chinook` demo database to visualise, add, update, or delete information. I downloaded the database from Kaggle [here](https://www.kaggle.com/datasets/samaxtech/chinook-music-store-data). For your reference, below is the database schema.\n",
    "\n",
    "![img](chinook_schema.png)"
   ]
  },
  {
   "cell_type": "markdown",
   "id": "f7829b82-ddf2-4902-861e-31eb3c852fe1",
   "metadata": {
    "tags": []
   },
   "source": [
    "### Vanilla SQL"
   ]
  },
  {
   "cell_type": "markdown",
   "id": "ad34a0b8-8e38-4295-807e-d1b991df37b4",
   "metadata": {},
   "source": [
    "Let's start this demo with SQL only. Later on, we'll combine SQL with Python to create queries more dynamically."
   ]
  },
  {
   "cell_type": "code",
   "execution_count": 1,
   "id": "f531b372-d0a8-45cb-bf41-ee39ce9c4b72",
   "metadata": {},
   "outputs": [],
   "source": [
    "%load_ext sql\n",
    "%sql sqlite:///chinook.db"
   ]
  },
  {
   "cell_type": "markdown",
   "id": "0fc2e447-f347-4824-bd4f-3c8fb51ffe4f",
   "metadata": {
    "tags": []
   },
   "source": [
    "#### Agent sales statistics"
   ]
  },
  {
   "cell_type": "markdown",
   "id": "d2d97309-86e9-46fe-8019-0eb7c0ba9079",
   "metadata": {},
   "source": [
    "The query below shows a summary of each sales support agent in the database: their name, the date they were hired, the total amount of their sales, the number of their sales, and the average amount per sale. This approach makes extensive use of nested subqueries and can be hard to read, although the code is fairly short."
   ]
  },
  {
   "cell_type": "code",
   "execution_count": 2,
   "id": "73246881-f331-48b5-bd3c-bea491ac41b3",
   "metadata": {
    "tags": []
   },
   "outputs": [
    {
     "name": "stdout",
     "output_type": "stream",
     "text": [
      " * sqlite:///chinook.db\n",
      "Done.\n"
     ]
    },
    {
     "data": {
      "text/html": [
       "<table>\n",
       "    <tr>\n",
       "        <th>sales_agent</th>\n",
       "        <th>hire_date</th>\n",
       "        <th>sales_total</th>\n",
       "        <th>number_of_sales</th>\n",
       "        <th>avg_sale</th>\n",
       "    </tr>\n",
       "    <tr>\n",
       "        <td>Jane Peacock</td>\n",
       "        <td>01.04.2017</td>\n",
       "        <td>1732.0</td>\n",
       "        <td>212</td>\n",
       "        <td>8.17</td>\n",
       "    </tr>\n",
       "    <tr>\n",
       "        <td>Margaret Park</td>\n",
       "        <td>03.05.2017</td>\n",
       "        <td>1584.0</td>\n",
       "        <td>214</td>\n",
       "        <td>7.4</td>\n",
       "    </tr>\n",
       "    <tr>\n",
       "        <td>Steve Johnson</td>\n",
       "        <td>17.10.2017</td>\n",
       "        <td>1394.0</td>\n",
       "        <td>188</td>\n",
       "        <td>7.41</td>\n",
       "    </tr>\n",
       "</table>"
      ],
      "text/plain": [
       "[('Jane Peacock', '01.04.2017', 1732.0, 212, 8.17),\n",
       " ('Margaret Park', '03.05.2017', 1584.0, 214, 7.4),\n",
       " ('Steve Johnson', '17.10.2017', 1394.0, 188, 7.41)]"
      ]
     },
     "execution_count": 2,
     "metadata": {},
     "output_type": "execute_result"
    }
   ],
   "source": [
    "%%sql\n",
    "    SELECT *, \n",
    "           ROUND(sales_total / number_of_sales, 2) AS avg_sale\n",
    "    FROM (SELECT e.first_name || ' ' || e.last_name AS sales_agent,           \n",
    "                 STRFTIME(\"%d.%m.%Y\", e.hire_date) AS hire_date,\n",
    "                 ROUND(SUM(sales.cust_total)) AS sales_total,\n",
    "                 SUM(sales.nr_sales) AS number_of_sales        \n",
    "            FROM employee e\n",
    "            LEFT JOIN (SELECT c.support_rep_id, \n",
    "                              c.customer_id, \n",
    "                              SUM(i.total) AS cust_total,\n",
    "                              COUNT(i.invoice_id) AS nr_sales\n",
    "                        FROM customer c\n",
    "                        LEFT JOIN invoice i\n",
    "                          ON i.customer_id = c.customer_id\n",
    "                        GROUP BY c.customer_id ) AS sales\n",
    "             ON e.employee_id = sales.support_rep_id\n",
    "             WHERE e.title = \"Sales Support Agent\"\n",
    "             GROUP BY sales_agent)"
   ]
  },
  {
   "cell_type": "markdown",
   "id": "8447559d-eb80-4948-8edd-cbb262805ced",
   "metadata": {},
   "source": [
    "Another option involves longer but better-organised code, using a bunch of `WITH` statements, which may also be reused for other purposes."
   ]
  },
  {
   "cell_type": "code",
   "execution_count": 3,
   "id": "a834d224-4637-435f-9c81-887813348497",
   "metadata": {
    "tags": []
   },
   "outputs": [
    {
     "name": "stdout",
     "output_type": "stream",
     "text": [
      " * sqlite:///chinook.db\n",
      "Done.\n"
     ]
    },
    {
     "data": {
      "text/html": [
       "<table>\n",
       "    <tr>\n",
       "        <th>sales_agent</th>\n",
       "        <th>hire_date</th>\n",
       "        <th>sales_total</th>\n",
       "        <th>number_of_sales</th>\n",
       "        <th>avg_sale</th>\n",
       "    </tr>\n",
       "    <tr>\n",
       "        <td>Jane Peacock</td>\n",
       "        <td>01.04.2017</td>\n",
       "        <td>1732.0</td>\n",
       "        <td>212</td>\n",
       "        <td>8.17</td>\n",
       "    </tr>\n",
       "    <tr>\n",
       "        <td>Margaret Park</td>\n",
       "        <td>03.05.2017</td>\n",
       "        <td>1584.0</td>\n",
       "        <td>214</td>\n",
       "        <td>7.4</td>\n",
       "    </tr>\n",
       "    <tr>\n",
       "        <td>Steve Johnson</td>\n",
       "        <td>17.10.2017</td>\n",
       "        <td>1394.0</td>\n",
       "        <td>188</td>\n",
       "        <td>7.41</td>\n",
       "    </tr>\n",
       "</table>"
      ],
      "text/plain": [
       "[('Jane Peacock', '01.04.2017', 1732.0, 212, 8.17),\n",
       " ('Margaret Park', '03.05.2017', 1584.0, 214, 7.4),\n",
       " ('Steve Johnson', '17.10.2017', 1394.0, 188, 7.41)]"
      ]
     },
     "execution_count": 3,
     "metadata": {},
     "output_type": "execute_result"
    }
   ],
   "source": [
    "%%sql\n",
    "    WITH invoices_per_customer AS (\n",
    "        SELECT customer_id, \n",
    "               COUNT(invoice_id) AS nr_invoices,\n",
    "               ROUND(SUM(total), 2) AS customer_total\n",
    "        FROM invoice\n",
    "        GROUP BY customer_id\n",
    "    ),\n",
    "    \n",
    "    agent_customers AS (\n",
    "        SELECT support_rep_id AS agent_id,\n",
    "               customer_id\n",
    "        FROM customer\n",
    "        WHERE support_rep_id IN (SELECT agent_id FROM agents)\n",
    "    ),\n",
    "    \n",
    "    agents AS (\n",
    "        SELECT employee_id AS agent_id,\n",
    "               first_name || \" \" || last_name AS sales_agent,\n",
    "               STRFTIME(\"%d.%m.%Y\", hire_date) AS hire_date\n",
    "        FROM employee\n",
    "        WHERE title = \"Sales Support Agent\"\n",
    "    ),\n",
    "    \n",
    "    agent_sales AS (        \n",
    "        SELECT a.agent_id,\n",
    "               sales_agent,\n",
    "               ROUND(SUM(customer_total)) AS sales_total,\n",
    "               SUM(nr_invoices) AS number_of_sales\n",
    "          FROM agents a\n",
    "            LEFT JOIN agent_customers ac\n",
    "               ON a.agent_id = ac.agent_id\n",
    "                 LEFT JOIN invoices_per_customer ic\n",
    "                  ON ic.customer_id = ac.customer_id    \n",
    "            GROUP BY sales_agent \n",
    "    )\n",
    "    \n",
    "    SELECT a.sales_agent,\n",
    "           a.hire_date,\n",
    "           a_sales.sales_total,\n",
    "           a_sales.number_of_sales,\n",
    "           ROUND(sales_total / number_of_sales, 2) AS avg_sale\n",
    "    FROM agents a\n",
    "      LEFT JOIN agent_sales a_sales\n",
    "        ON a_sales.agent_id = a.agent_id      "
   ]
  },
  {
   "cell_type": "markdown",
   "id": "38cf1469-c377-4a2d-b526-100828025253",
   "metadata": {
    "tags": []
   },
   "source": [
    "#### Total purchases per customer"
   ]
  },
  {
   "cell_type": "markdown",
   "id": "13047b90-6211-466c-8eef-72e947df85aa",
   "metadata": {},
   "source": [
    "To find out how many purchases each customer has made, it's enough to left-join `customers` with `invoice` on the condition that the foreign key `customer_id` in the `invoice` table is equal to the primary key of `customer`. Since the same customer is likely to have made multiple purchases, grouping the results by `customer_id` and using the aggregate function `COUNT` will be necessary to see the actual purchase count. Note that the left join guarantees all customers will appear, and if any of them had no purchases, the count for these customer would be zero (which is not the case with this database). I'm limiting the output to the first 5 customers for your reading convenience."
   ]
  },
  {
   "cell_type": "code",
   "execution_count": 4,
   "id": "fa3ff029-6c23-4522-b28a-757e1b4831d1",
   "metadata": {
    "tags": []
   },
   "outputs": [
    {
     "name": "stdout",
     "output_type": "stream",
     "text": [
      " * sqlite:///chinook.db\n",
      "Done.\n"
     ]
    },
    {
     "data": {
      "text/html": [
       "<table>\n",
       "    <tr>\n",
       "        <th>customer</th>\n",
       "        <th>total_purchases</th>\n",
       "    </tr>\n",
       "    <tr>\n",
       "        <td>Almeida, Roberto</td>\n",
       "        <td>11</td>\n",
       "    </tr>\n",
       "    <tr>\n",
       "        <td>Barnett, Julia</td>\n",
       "        <td>10</td>\n",
       "    </tr>\n",
       "    <tr>\n",
       "        <td>Bernard, Camille</td>\n",
       "        <td>9</td>\n",
       "    </tr>\n",
       "    <tr>\n",
       "        <td>Brooks, Michelle</td>\n",
       "        <td>8</td>\n",
       "    </tr>\n",
       "    <tr>\n",
       "        <td>Brown, Robert</td>\n",
       "        <td>4</td>\n",
       "    </tr>\n",
       "</table>"
      ],
      "text/plain": [
       "[('Almeida, Roberto', 11),\n",
       " ('Barnett, Julia', 10),\n",
       " ('Bernard, Camille', 9),\n",
       " ('Brooks, Michelle', 8),\n",
       " ('Brown, Robert', 4)]"
      ]
     },
     "execution_count": 4,
     "metadata": {},
     "output_type": "execute_result"
    }
   ],
   "source": [
    "%%sql\n",
    "    SELECT c.last_name || \", \" || c.first_name AS customer,\n",
    "           COUNT(i.invoice_id) AS total_purchases\n",
    "    FROM customer c\n",
    "    LEFT JOIN invoice i\n",
    "    ON c.customer_id = i.customer_id\n",
    "    GROUP BY c.customer_id\n",
    "    ORDER BY customer ASC\n",
    "    LIMIT 5"
   ]
  },
  {
   "cell_type": "markdown",
   "id": "987917ef-c8c7-4287-bc1a-ce1eba830fdb",
   "metadata": {},
   "source": [
    "If we wanted to find out what customers have made no purchases, we could select all customers `EXCEPT` those whose ids don't appear on any invoice. As said, there are no such customers in this case, so the result is an empty table."
   ]
  },
  {
   "cell_type": "code",
   "execution_count": 5,
   "id": "6cb4c5f7-dab7-4e27-8ee0-ef14f80ecd11",
   "metadata": {},
   "outputs": [
    {
     "name": "stdout",
     "output_type": "stream",
     "text": [
      " * sqlite:///chinook.db\n",
      "Done.\n"
     ]
    },
    {
     "data": {
      "text/html": [
       "<table>\n",
       "    <tr>\n",
       "        <th>customer</th>\n",
       "    </tr>\n",
       "</table>"
      ],
      "text/plain": [
       "[]"
      ]
     },
     "execution_count": 5,
     "metadata": {},
     "output_type": "execute_result"
    }
   ],
   "source": [
    "%%sql\n",
    "SELECT last_name || \", \" || first_name AS customer\n",
    "  FROM customer\n",
    "    \n",
    "EXCEPT\n",
    "\n",
    "SELECT last_name || \", \" || first_name AS customer\n",
    "  FROM customer c\n",
    "    WHERE c.customer_id IN (SELECT i.customer_id FROM invoice i)"
   ]
  },
  {
   "cell_type": "markdown",
   "id": "abbafa3d-7f53-45d0-9d23-247a3d56dd87",
   "metadata": {
    "tags": []
   },
   "source": [
    "#### Top 5 customers"
   ]
  },
  {
   "cell_type": "markdown",
   "id": "c0849ec3-5043-4e37-ab2b-72173983649f",
   "metadata": {},
   "source": [
    "Let's define \"top 5 customers\" as the five customers that have spent the most.The query below shows their names, amount spent, and total purchases using a rather simple left join."
   ]
  },
  {
   "cell_type": "code",
   "execution_count": 6,
   "id": "1b77ec0f-a4ca-4132-936f-3a3f624afb69",
   "metadata": {},
   "outputs": [
    {
     "name": "stdout",
     "output_type": "stream",
     "text": [
      " * sqlite:///chinook.db\n",
      "Done.\n"
     ]
    },
    {
     "data": {
      "text/html": [
       "<table>\n",
       "    <tr>\n",
       "        <th>customer</th>\n",
       "        <th>total_spent</th>\n",
       "        <th>total_purchases</th>\n",
       "    </tr>\n",
       "    <tr>\n",
       "        <td>František Wichterlová</td>\n",
       "        <td>145.0</td>\n",
       "        <td>18</td>\n",
       "    </tr>\n",
       "    <tr>\n",
       "        <td>Helena Holý</td>\n",
       "        <td>129.0</td>\n",
       "        <td>12</td>\n",
       "    </tr>\n",
       "    <tr>\n",
       "        <td>Hugh O&#x27;Reilly</td>\n",
       "        <td>115.0</td>\n",
       "        <td>13</td>\n",
       "    </tr>\n",
       "    <tr>\n",
       "        <td>Manoj Pareek</td>\n",
       "        <td>112.0</td>\n",
       "        <td>13</td>\n",
       "    </tr>\n",
       "    <tr>\n",
       "        <td>Luís Gonçalves</td>\n",
       "        <td>109.0</td>\n",
       "        <td>13</td>\n",
       "    </tr>\n",
       "</table>"
      ],
      "text/plain": [
       "[('František Wichterlová', 145.0, 18),\n",
       " ('Helena Holý', 129.0, 12),\n",
       " (\"Hugh O'Reilly\", 115.0, 13),\n",
       " ('Manoj Pareek', 112.0, 13),\n",
       " ('Luís Gonçalves', 109.0, 13)]"
      ]
     },
     "execution_count": 6,
     "metadata": {},
     "output_type": "execute_result"
    }
   ],
   "source": [
    "%%sql\n",
    "    SELECT c.first_name || \" \" || c.last_name AS customer,\n",
    "           ROUND(SUM(i.total)) AS total_spent,\n",
    "           COUNT(i.invoice_id) AS total_purchases\n",
    "    FROM customer c\n",
    "        LEFT JOIN invoice i\n",
    "        ON c.customer_id = i.customer_id\n",
    "    GROUP BY c.customer_id\n",
    "    ORDER BY total_spent DESC\n",
    "    LIMIT 5"
   ]
  },
  {
   "cell_type": "markdown",
   "id": "e7bb02e0-952a-4cba-9dfc-7cecddf2c409",
   "metadata": {
    "tags": []
   },
   "source": [
    "#### Artist statistics"
   ]
  },
  {
   "cell_type": "markdown",
   "id": "eeea3519-3144-417e-9576-24094f95412a",
   "metadata": {},
   "source": [
    "Finding out how many albums and how many tracks there are per artists is again a matter of a simple left join. Note that I consider a track to be associated with an artist if the track is part of an album that is associated with the artist. (I say this because each track has a `composer` who might be different from the artist linked to the album.) Again, I'm limiting the results to the first 5 to avoid cluttering the page."
   ]
  },
  {
   "cell_type": "code",
   "execution_count": 7,
   "id": "e659a12e-f25f-461a-9b4c-15a4b4490195",
   "metadata": {},
   "outputs": [
    {
     "name": "stdout",
     "output_type": "stream",
     "text": [
      " * sqlite:///chinook.db\n",
      "Done.\n"
     ]
    },
    {
     "data": {
      "text/html": [
       "<table>\n",
       "    <tr>\n",
       "        <th>artist</th>\n",
       "        <th>total_albums</th>\n",
       "        <th>total_tracks</th>\n",
       "    </tr>\n",
       "    <tr>\n",
       "        <td>Iron Maiden</td>\n",
       "        <td>21</td>\n",
       "        <td>213</td>\n",
       "    </tr>\n",
       "    <tr>\n",
       "        <td>Led Zeppelin</td>\n",
       "        <td>14</td>\n",
       "        <td>114</td>\n",
       "    </tr>\n",
       "    <tr>\n",
       "        <td>Deep Purple</td>\n",
       "        <td>11</td>\n",
       "        <td>92</td>\n",
       "    </tr>\n",
       "    <tr>\n",
       "        <td>U2</td>\n",
       "        <td>10</td>\n",
       "        <td>135</td>\n",
       "    </tr>\n",
       "    <tr>\n",
       "        <td>Metallica</td>\n",
       "        <td>10</td>\n",
       "        <td>112</td>\n",
       "    </tr>\n",
       "</table>"
      ],
      "text/plain": [
       "[('Iron Maiden', 21, 213),\n",
       " ('Led Zeppelin', 14, 114),\n",
       " ('Deep Purple', 11, 92),\n",
       " ('U2', 10, 135),\n",
       " ('Metallica', 10, 112)]"
      ]
     },
     "execution_count": 7,
     "metadata": {},
     "output_type": "execute_result"
    }
   ],
   "source": [
    "%%sql\n",
    "SELECT a.name AS artist, \n",
    "       COUNT(DISTINCT(al.album_id)) AS total_albums,\n",
    "       COUNT(t.track_id) AS total_tracks\n",
    "FROM artist a\n",
    "LEFT JOIN album al\n",
    "ON a.artist_id = al.artist_id\n",
    "LEFT JOIN track t\n",
    "ON al.album_id = t.album_id\n",
    "GROUP BY artist\n",
    "ORDER BY total_albums DESC, total_tracks DESC\n",
    "LIMIT 5"
   ]
  },
  {
   "cell_type": "markdown",
   "id": "0f97ba92-a464-4209-a573-12a5b1b99cf9",
   "metadata": {
    "tags": []
   },
   "source": [
    "#### Most popular genres, by revenue and tracks sold"
   ]
  },
  {
   "cell_type": "markdown",
   "id": "8cd2e5e9-89ca-4225-a4e7-bed2090e6698",
   "metadata": {},
   "source": [
    "Say we wanted to see which music genres are best sellers, in terms of revenue and tracks sold. To do that, we need to join the `track`, `genre` and the `invoice_line` tables, so that we can calculate both variables. Note that the result table specifically includes also any genres that didn't sell at all."
   ]
  },
  {
   "cell_type": "code",
   "execution_count": 8,
   "id": "c0175fcb-f893-4e63-ae0a-690c60e33840",
   "metadata": {
    "tags": []
   },
   "outputs": [
    {
     "name": "stdout",
     "output_type": "stream",
     "text": [
      " * sqlite:///chinook.db\n",
      "Done.\n"
     ]
    },
    {
     "data": {
      "text/html": [
       "<table>\n",
       "    <tr>\n",
       "        <th>genre</th>\n",
       "        <th>total_revenue</th>\n",
       "        <th>tracks_sold</th>\n",
       "    </tr>\n",
       "    <tr>\n",
       "        <td>Rock</td>\n",
       "        <td>2609.0</td>\n",
       "        <td>2635</td>\n",
       "    </tr>\n",
       "    <tr>\n",
       "        <td>Metal</td>\n",
       "        <td>613.0</td>\n",
       "        <td>619</td>\n",
       "    </tr>\n",
       "    <tr>\n",
       "        <td>Alternative &amp; Punk</td>\n",
       "        <td>487.0</td>\n",
       "        <td>492</td>\n",
       "    </tr>\n",
       "    <tr>\n",
       "        <td>Latin</td>\n",
       "        <td>165.0</td>\n",
       "        <td>167</td>\n",
       "    </tr>\n",
       "    <tr>\n",
       "        <td>R&amp;B/Soul</td>\n",
       "        <td>157.0</td>\n",
       "        <td>159</td>\n",
       "    </tr>\n",
       "    <tr>\n",
       "        <td>Blues</td>\n",
       "        <td>123.0</td>\n",
       "        <td>124</td>\n",
       "    </tr>\n",
       "    <tr>\n",
       "        <td>Jazz</td>\n",
       "        <td>120.0</td>\n",
       "        <td>121</td>\n",
       "    </tr>\n",
       "    <tr>\n",
       "        <td>Alternative</td>\n",
       "        <td>116.0</td>\n",
       "        <td>117</td>\n",
       "    </tr>\n",
       "    <tr>\n",
       "        <td>Easy Listening</td>\n",
       "        <td>73.0</td>\n",
       "        <td>74</td>\n",
       "    </tr>\n",
       "    <tr>\n",
       "        <td>Pop</td>\n",
       "        <td>62.0</td>\n",
       "        <td>63</td>\n",
       "    </tr>\n",
       "    <tr>\n",
       "        <td>Electronica/Dance</td>\n",
       "        <td>54.0</td>\n",
       "        <td>55</td>\n",
       "    </tr>\n",
       "    <tr>\n",
       "        <td>Classical</td>\n",
       "        <td>47.0</td>\n",
       "        <td>47</td>\n",
       "    </tr>\n",
       "    <tr>\n",
       "        <td>Reggae</td>\n",
       "        <td>35.0</td>\n",
       "        <td>35</td>\n",
       "    </tr>\n",
       "    <tr>\n",
       "        <td>Hip Hop/Rap</td>\n",
       "        <td>33.0</td>\n",
       "        <td>33</td>\n",
       "    </tr>\n",
       "    <tr>\n",
       "        <td>Heavy Metal</td>\n",
       "        <td>8.0</td>\n",
       "        <td>8</td>\n",
       "    </tr>\n",
       "    <tr>\n",
       "        <td>Soundtrack</td>\n",
       "        <td>5.0</td>\n",
       "        <td>5</td>\n",
       "    </tr>\n",
       "    <tr>\n",
       "        <td>TV Shows</td>\n",
       "        <td>2.0</td>\n",
       "        <td>2</td>\n",
       "    </tr>\n",
       "    <tr>\n",
       "        <td>Drama</td>\n",
       "        <td>1.0</td>\n",
       "        <td>1</td>\n",
       "    </tr>\n",
       "    <tr>\n",
       "        <td>Rock And Roll</td>\n",
       "        <td>0</td>\n",
       "        <td>0</td>\n",
       "    </tr>\n",
       "    <tr>\n",
       "        <td>Bossa Nova</td>\n",
       "        <td>0</td>\n",
       "        <td>0</td>\n",
       "    </tr>\n",
       "    <tr>\n",
       "        <td>World</td>\n",
       "        <td>0</td>\n",
       "        <td>0</td>\n",
       "    </tr>\n",
       "    <tr>\n",
       "        <td>Science Fiction</td>\n",
       "        <td>0</td>\n",
       "        <td>0</td>\n",
       "    </tr>\n",
       "    <tr>\n",
       "        <td>Sci Fi &amp; Fantasy</td>\n",
       "        <td>0</td>\n",
       "        <td>0</td>\n",
       "    </tr>\n",
       "    <tr>\n",
       "        <td>Comedy</td>\n",
       "        <td>0</td>\n",
       "        <td>0</td>\n",
       "    </tr>\n",
       "    <tr>\n",
       "        <td>Opera</td>\n",
       "        <td>0</td>\n",
       "        <td>0</td>\n",
       "    </tr>\n",
       "</table>"
      ],
      "text/plain": [
       "[('Rock', 2609.0, 2635),\n",
       " ('Metal', 613.0, 619),\n",
       " ('Alternative & Punk', 487.0, 492),\n",
       " ('Latin', 165.0, 167),\n",
       " ('R&B/Soul', 157.0, 159),\n",
       " ('Blues', 123.0, 124),\n",
       " ('Jazz', 120.0, 121),\n",
       " ('Alternative', 116.0, 117),\n",
       " ('Easy Listening', 73.0, 74),\n",
       " ('Pop', 62.0, 63),\n",
       " ('Electronica/Dance', 54.0, 55),\n",
       " ('Classical', 47.0, 47),\n",
       " ('Reggae', 35.0, 35),\n",
       " ('Hip Hop/Rap', 33.0, 33),\n",
       " ('Heavy Metal', 8.0, 8),\n",
       " ('Soundtrack', 5.0, 5),\n",
       " ('TV Shows', 2.0, 2),\n",
       " ('Drama', 1.0, 1),\n",
       " ('Rock And Roll', 0, 0),\n",
       " ('Bossa Nova', 0, 0),\n",
       " ('World', 0, 0),\n",
       " ('Science Fiction', 0, 0),\n",
       " ('Sci Fi & Fantasy', 0, 0),\n",
       " ('Comedy', 0, 0),\n",
       " ('Opera', 0, 0)]"
      ]
     },
     "execution_count": 8,
     "metadata": {},
     "output_type": "execute_result"
    }
   ],
   "source": [
    "%%sql\n",
    "    SELECT g.name AS genre,\n",
    "           IFNULL(genre_stats.total_revenue, 0) AS total_revenue,\n",
    "           IFNULL(genre_stats.tracks_sold, 0) AS tracks_sold\n",
    "    FROM genre g\n",
    "    LEFT JOIN \n",
    "        (SELECT t.genre_id,\n",
    "               ROUND(SUM(il.unit_price * il.quantity)) AS total_revenue,\n",
    "               SUM(il.quantity) AS tracks_sold\n",
    "        FROM track t\n",
    "            INNER JOIN invoice_line il\n",
    "            ON t.track_id = il.track_id\n",
    "        GROUP BY genre_id) AS genre_stats\n",
    "    ON genre_stats.genre_id = g.genre_id\n",
    "    ORDER BY total_revenue DESC, tracks_sold DESC"
   ]
  },
  {
   "cell_type": "markdown",
   "id": "7561da60-dea5-4af9-9d30-87c1712a3267",
   "metadata": {
    "tags": []
   },
   "source": [
    "#### Tracks that don't sell"
   ]
  },
  {
   "cell_type": "markdown",
   "id": "b0c056b0-2b26-47d2-96d0-3773736bb8c0",
   "metadata": {},
   "source": [
    "Tracks that don't sell—i.e., tracks that never appear in any invoice—are tracks whose `id` is nowhere to be found in the `track_id` column of the `invoice_line` table. There are a couple of ways they can be identified.\n",
    "The first way is to left-join the `track` and `invoice_line` tables on the condition that `track_id` is identical for both tables. Since it's a left join, each and every `track_id` in the `track` table will appear in the final result; however, for any track that didn't sell, there _is_ no invoice line (or invoice), so any columns inherited from the `invoice_line` table will be null. At this point, we can filter the result by asking only for those rows that have null `invoice_id`. The list of unsold tracks is quite long, so again, I'll limit to, say, the first 10."
   ]
  },
  {
   "cell_type": "code",
   "execution_count": 9,
   "id": "6c1faca1-f4fe-4cc7-92a2-00f25f8d3519",
   "metadata": {
    "tags": []
   },
   "outputs": [
    {
     "name": "stdout",
     "output_type": "stream",
     "text": [
      " * sqlite:///chinook.db\n",
      "Done.\n"
     ]
    },
    {
     "data": {
      "text/html": [
       "<table>\n",
       "    <tr>\n",
       "        <th>track_name</th>\n",
       "        <th>genre</th>\n",
       "    </tr>\n",
       "    <tr>\n",
       "        <td>Wooden Jesus</td>\n",
       "        <td>Alternative</td>\n",
       "    </tr>\n",
       "    <tr>\n",
       "        <td>Your Savior</td>\n",
       "        <td>Alternative</td>\n",
       "    </tr>\n",
       "    <tr>\n",
       "        <td>Revelations</td>\n",
       "        <td>Alternative</td>\n",
       "    </tr>\n",
       "    <tr>\n",
       "        <td>Sound of a Gun</td>\n",
       "        <td>Alternative</td>\n",
       "    </tr>\n",
       "    <tr>\n",
       "        <td>Jewel of the Summertime</td>\n",
       "        <td>Alternative</td>\n",
       "    </tr>\n",
       "    <tr>\n",
       "        <td>Band Members Discuss Tracks from &quot;Revelations&quot;</td>\n",
       "        <td>Alternative</td>\n",
       "    </tr>\n",
       "    <tr>\n",
       "        <td>Your Time Has Come</td>\n",
       "        <td>Alternative &amp; Punk</td>\n",
       "    </tr>\n",
       "    <tr>\n",
       "        <td>Be Yourself</td>\n",
       "        <td>Alternative &amp; Punk</td>\n",
       "    </tr>\n",
       "    <tr>\n",
       "        <td>Heaven&#x27;s Dead</td>\n",
       "        <td>Alternative &amp; Punk</td>\n",
       "    </tr>\n",
       "    <tr>\n",
       "        <td>Man Or Animal</td>\n",
       "        <td>Alternative &amp; Punk</td>\n",
       "    </tr>\n",
       "</table>"
      ],
      "text/plain": [
       "[('Wooden Jesus', 'Alternative'),\n",
       " ('Your Savior', 'Alternative'),\n",
       " ('Revelations', 'Alternative'),\n",
       " ('Sound of a Gun', 'Alternative'),\n",
       " ('Jewel of the Summertime', 'Alternative'),\n",
       " ('Band Members Discuss Tracks from \"Revelations\"', 'Alternative'),\n",
       " ('Your Time Has Come', 'Alternative & Punk'),\n",
       " ('Be Yourself', 'Alternative & Punk'),\n",
       " (\"Heaven's Dead\", 'Alternative & Punk'),\n",
       " ('Man Or Animal', 'Alternative & Punk')]"
      ]
     },
     "execution_count": 9,
     "metadata": {},
     "output_type": "execute_result"
    }
   ],
   "source": [
    "%%sql\n",
    "SELECT t.name AS track_name, \n",
    "       g.name AS genre       \n",
    "FROM track t\n",
    "    LEFT JOIN invoice_line il\n",
    "    ON t.track_id = il.track_id\n",
    "        LEFT JOIN genre g\n",
    "        ON t.genre_id = g.genre_id\n",
    "WHERE il.invoice_id IS NULL\n",
    "ORDER BY genre ASC\n",
    "LIMIT 10"
   ]
  },
  {
   "cell_type": "markdown",
   "id": "54308642-1240-4f85-8927-0e52875733d2",
   "metadata": {},
   "source": [
    "Another way that is perhaps conceptually more simple is to extract all `track_id`s that never appear in `invoice_line`, and then use them to filter the result of a joined query similar to the above. This approach uses the set-theoretical operation `EXCEPT` and only one `JOIN`, unlike the previous one. The same approach could be taken if we replaced `EXCEPT` with `WHERE t.track_id NOT IN` and then the same subquery."
   ]
  },
  {
   "cell_type": "code",
   "execution_count": 10,
   "id": "44a8710d-ebdd-424e-981f-169ea5ddff70",
   "metadata": {
    "tags": []
   },
   "outputs": [
    {
     "name": "stdout",
     "output_type": "stream",
     "text": [
      " * sqlite:///chinook.db\n",
      "Done.\n"
     ]
    },
    {
     "data": {
      "text/html": [
       "<table>\n",
       "    <tr>\n",
       "        <th>track_name</th>\n",
       "        <th>genre</th>\n",
       "    </tr>\n",
       "    <tr>\n",
       "        <td>Wooden Jesus</td>\n",
       "        <td>Alternative</td>\n",
       "    </tr>\n",
       "    <tr>\n",
       "        <td>Your Savior</td>\n",
       "        <td>Alternative</td>\n",
       "    </tr>\n",
       "    <tr>\n",
       "        <td>Revelations</td>\n",
       "        <td>Alternative</td>\n",
       "    </tr>\n",
       "    <tr>\n",
       "        <td>Sound of a Gun</td>\n",
       "        <td>Alternative</td>\n",
       "    </tr>\n",
       "    <tr>\n",
       "        <td>Jewel of the Summertime</td>\n",
       "        <td>Alternative</td>\n",
       "    </tr>\n",
       "    <tr>\n",
       "        <td>Band Members Discuss Tracks from &quot;Revelations&quot;</td>\n",
       "        <td>Alternative</td>\n",
       "    </tr>\n",
       "    <tr>\n",
       "        <td>Your Time Has Come</td>\n",
       "        <td>Alternative &amp; Punk</td>\n",
       "    </tr>\n",
       "    <tr>\n",
       "        <td>Be Yourself</td>\n",
       "        <td>Alternative &amp; Punk</td>\n",
       "    </tr>\n",
       "    <tr>\n",
       "        <td>Heaven&#x27;s Dead</td>\n",
       "        <td>Alternative &amp; Punk</td>\n",
       "    </tr>\n",
       "    <tr>\n",
       "        <td>Man Or Animal</td>\n",
       "        <td>Alternative &amp; Punk</td>\n",
       "    </tr>\n",
       "</table>"
      ],
      "text/plain": [
       "[('Wooden Jesus', 'Alternative'),\n",
       " ('Your Savior', 'Alternative'),\n",
       " ('Revelations', 'Alternative'),\n",
       " ('Sound of a Gun', 'Alternative'),\n",
       " ('Jewel of the Summertime', 'Alternative'),\n",
       " ('Band Members Discuss Tracks from \"Revelations\"', 'Alternative'),\n",
       " ('Your Time Has Come', 'Alternative & Punk'),\n",
       " ('Be Yourself', 'Alternative & Punk'),\n",
       " (\"Heaven's Dead\", 'Alternative & Punk'),\n",
       " ('Man Or Animal', 'Alternative & Punk')]"
      ]
     },
     "execution_count": 10,
     "metadata": {},
     "output_type": "execute_result"
    }
   ],
   "source": [
    "%%sql\n",
    "SELECT t.name AS track_name, \n",
    "       g.name AS genre  \n",
    "FROM track t\n",
    "LEFT JOIN genre g\n",
    "ON t.genre_id = g.genre_id\n",
    "WHERE t.track_id IN (SELECT t.track_id\n",
    "                       FROM track t\n",
    "\n",
    "                     EXCEPT\n",
    "\n",
    "                     SELECT il.track_id\n",
    "                       FROM invoice_line il)\n",
    "ORDER BY genre ASC\n",
    "LIMIT 10"
   ]
  },
  {
   "cell_type": "markdown",
   "id": "85813bf6-1110-4385-83c1-52c79f0661fa",
   "metadata": {
    "tags": []
   },
   "source": [
    "#### Top 5 artists in top 5 countries"
   ]
  },
  {
   "cell_type": "markdown",
   "id": "6436ed30-bf77-4add-a0d5-c37450102113",
   "metadata": {},
   "source": [
    "Let's define \"top 5 artists\" as the five artists with the most tracks bought, and \"top 5 countries\" as the five countries with the most customers. This is a fairly complex query that is better to break down into multiple `WITH` statements that select the top 5 countries, the tracks sold per country by each artists, and finally the count of tracks sold by each artist per country. This last query needs to be sorted by country in ascending order and tracks sold in descending order, and then we can add a new column to it that simply numbers the rows of the resulting table over a partition, using the window function ROW_NUMBER. In simpler terms, the resulting table will be ordered by country alphabetically, by tracks sold from most to least, its rows will be numbered in ascending order (1, 2, 3, etc.), and the numbering will restart for each new country. This means that, for each country, the rows numbered 1 to 5 represent the five artists with most tracks sold for that country."
   ]
  },
  {
   "cell_type": "code",
   "execution_count": 11,
   "id": "539d8639-3a68-4f3f-bda0-578aae494ef3",
   "metadata": {
    "tags": []
   },
   "outputs": [
    {
     "name": "stdout",
     "output_type": "stream",
     "text": [
      " * sqlite:///chinook.db\n",
      "Done.\n"
     ]
    },
    {
     "data": {
      "text/html": [
       "<table>\n",
       "    <tr>\n",
       "        <th>artist</th>\n",
       "        <th>tracks_sold</th>\n",
       "        <th>country</th>\n",
       "    </tr>\n",
       "    <tr>\n",
       "        <td>AC/DC</td>\n",
       "        <td>58</td>\n",
       "        <td>Brazil</td>\n",
       "    </tr>\n",
       "    <tr>\n",
       "        <td>Apocalyptica</td>\n",
       "        <td>27</td>\n",
       "        <td>Brazil</td>\n",
       "    </tr>\n",
       "    <tr>\n",
       "        <td>Marisa Monte</td>\n",
       "        <td>24</td>\n",
       "        <td>Brazil</td>\n",
       "    </tr>\n",
       "    <tr>\n",
       "        <td>Black Label Society</td>\n",
       "        <td>8</td>\n",
       "        <td>Brazil</td>\n",
       "    </tr>\n",
       "    <tr>\n",
       "        <td>Tim Maia</td>\n",
       "        <td>4</td>\n",
       "        <td>Brazil</td>\n",
       "    </tr>\n",
       "    <tr>\n",
       "        <td>The Rolling Stones</td>\n",
       "        <td>69</td>\n",
       "        <td>Canada</td>\n",
       "    </tr>\n",
       "    <tr>\n",
       "        <td>R.E.M.</td>\n",
       "        <td>68</td>\n",
       "        <td>Canada</td>\n",
       "    </tr>\n",
       "    <tr>\n",
       "        <td>Amy Winehouse</td>\n",
       "        <td>66</td>\n",
       "        <td>Canada</td>\n",
       "    </tr>\n",
       "    <tr>\n",
       "        <td>Eric Clapton</td>\n",
       "        <td>62</td>\n",
       "        <td>Canada</td>\n",
       "    </tr>\n",
       "    <tr>\n",
       "        <td>Green Day</td>\n",
       "        <td>61</td>\n",
       "        <td>Canada</td>\n",
       "    </tr>\n",
       "    <tr>\n",
       "        <td>Jamiroquai</td>\n",
       "        <td>46</td>\n",
       "        <td>France</td>\n",
       "    </tr>\n",
       "    <tr>\n",
       "        <td>JET</td>\n",
       "        <td>45</td>\n",
       "        <td>France</td>\n",
       "    </tr>\n",
       "    <tr>\n",
       "        <td>The Doors</td>\n",
       "        <td>44</td>\n",
       "        <td>France</td>\n",
       "    </tr>\n",
       "    <tr>\n",
       "        <td>Creedence Clearwater Revival</td>\n",
       "        <td>43</td>\n",
       "        <td>France</td>\n",
       "    </tr>\n",
       "    <tr>\n",
       "        <td>Godsmack</td>\n",
       "        <td>43</td>\n",
       "        <td>France</td>\n",
       "    </tr>\n",
       "    <tr>\n",
       "        <td>Queen</td>\n",
       "        <td>97</td>\n",
       "        <td>Germany</td>\n",
       "    </tr>\n",
       "    <tr>\n",
       "        <td>Pearl Jam</td>\n",
       "        <td>94</td>\n",
       "        <td>Germany</td>\n",
       "    </tr>\n",
       "    <tr>\n",
       "        <td>Van Halen</td>\n",
       "        <td>60</td>\n",
       "        <td>Germany</td>\n",
       "    </tr>\n",
       "    <tr>\n",
       "        <td>Red Hot Chili Peppers</td>\n",
       "        <td>56</td>\n",
       "        <td>Germany</td>\n",
       "    </tr>\n",
       "    <tr>\n",
       "        <td>Pink Floyd</td>\n",
       "        <td>40</td>\n",
       "        <td>Germany</td>\n",
       "    </tr>\n",
       "    <tr>\n",
       "        <td>Jimi Hendrix</td>\n",
       "        <td>92</td>\n",
       "        <td>USA</td>\n",
       "    </tr>\n",
       "    <tr>\n",
       "        <td>Foo Fighters</td>\n",
       "        <td>74</td>\n",
       "        <td>USA</td>\n",
       "    </tr>\n",
       "    <tr>\n",
       "        <td>Guns N&#x27; Roses</td>\n",
       "        <td>72</td>\n",
       "        <td>USA</td>\n",
       "    </tr>\n",
       "    <tr>\n",
       "        <td>Metallica</td>\n",
       "        <td>71</td>\n",
       "        <td>USA</td>\n",
       "    </tr>\n",
       "    <tr>\n",
       "        <td>Nirvana</td>\n",
       "        <td>67</td>\n",
       "        <td>USA</td>\n",
       "    </tr>\n",
       "</table>"
      ],
      "text/plain": [
       "[('AC/DC', 58, 'Brazil'),\n",
       " ('Apocalyptica', 27, 'Brazil'),\n",
       " ('Marisa Monte', 24, 'Brazil'),\n",
       " ('Black Label Society', 8, 'Brazil'),\n",
       " ('Tim Maia', 4, 'Brazil'),\n",
       " ('The Rolling Stones', 69, 'Canada'),\n",
       " ('R.E.M.', 68, 'Canada'),\n",
       " ('Amy Winehouse', 66, 'Canada'),\n",
       " ('Eric Clapton', 62, 'Canada'),\n",
       " ('Green Day', 61, 'Canada'),\n",
       " ('Jamiroquai', 46, 'France'),\n",
       " ('JET', 45, 'France'),\n",
       " ('The Doors', 44, 'France'),\n",
       " ('Creedence Clearwater Revival', 43, 'France'),\n",
       " ('Godsmack', 43, 'France'),\n",
       " ('Queen', 97, 'Germany'),\n",
       " ('Pearl Jam', 94, 'Germany'),\n",
       " ('Van Halen', 60, 'Germany'),\n",
       " ('Red Hot Chili Peppers', 56, 'Germany'),\n",
       " ('Pink Floyd', 40, 'Germany'),\n",
       " ('Jimi Hendrix', 92, 'USA'),\n",
       " ('Foo Fighters', 74, 'USA'),\n",
       " (\"Guns N' Roses\", 72, 'USA'),\n",
       " ('Metallica', 71, 'USA'),\n",
       " ('Nirvana', 67, 'USA')]"
      ]
     },
     "execution_count": 11,
     "metadata": {},
     "output_type": "execute_result"
    }
   ],
   "source": [
    "%%sql\n",
    "    WITH     \n",
    "        top_five_countries AS (\n",
    "        SELECT country, \n",
    "               COUNT(customer_id) AS number_of_customers\n",
    "        FROM customer\n",
    "        GROUP BY country\n",
    "        ORDER BY number_of_customers DESC\n",
    "        LIMIT 5),\n",
    "\n",
    "        tracks_by_invoice AS (\n",
    "        SELECT i.billing_country,           \n",
    "               t.track_id,\n",
    "               ar.name AS artist\n",
    "        FROM invoice i\n",
    "            INNER JOIN invoice_line il\n",
    "            ON il.invoice_id = i.invoice_id\n",
    "                INNER JOIN track t\n",
    "                ON t.track_id = il.track_id\n",
    "                    INNER JOIN album a\n",
    "                    ON a.album_id = t.album_id\n",
    "                        INNER JOIN artist ar\n",
    "                        ON ar.artist_id = a.artist_id),\n",
    "        \n",
    "        artists_by_tracks_and_country AS (\n",
    "            SELECT artist,\n",
    "               COUNT(track_id) AS tracks_sold,\n",
    "               billing_country AS country               \n",
    "            FROM tracks_by_invoice\n",
    "            WHERE country IN (SELECT country FROM top_five_countries)\n",
    "            GROUP BY artist\n",
    "            ORDER BY country ASC, tracks_sold DESC\n",
    "        ),\n",
    "        \n",
    "        ranked_artists AS (\n",
    "            SELECT *,\n",
    "                   ROW_NUMBER() OVER(PARTITION BY country ORDER BY tracks_sold DESC) AS rank\n",
    "              FROM artists_by_tracks_and_country\n",
    "        )\n",
    "               \n",
    "        SELECT artist,\n",
    "               tracks_sold,\n",
    "               country\n",
    "        FROM ranked_artists\n",
    "        WHERE rank <= 5;"
   ]
  },
  {
   "cell_type": "markdown",
   "id": "36cd8535-c434-4306-8397-8f50414f2d13",
   "metadata": {
    "tags": []
   },
   "source": [
    "#### Inserting, updating, and deleting rows"
   ]
  },
  {
   "cell_type": "markdown",
   "id": "389cf216-273c-4241-bf85-9efade35c827",
   "metadata": {},
   "source": [
    "No SQL demo project would be complete without manipulating data. Say we got two new employees hired today to add the database. We know all about them, except their email, because they'll have a company address that hasn't been created yet. They're both salespeople and they both report to Nancy Edwards, whose id is 2. Before inserting anything, let's check what type of data each column requires."
   ]
  },
  {
   "cell_type": "code",
   "execution_count": 12,
   "id": "68df5bc7-767e-447c-8013-35aa390e9620",
   "metadata": {},
   "outputs": [
    {
     "name": "stdout",
     "output_type": "stream",
     "text": [
      " * sqlite:///chinook.db\n",
      "Done.\n"
     ]
    },
    {
     "data": {
      "text/html": [
       "<table>\n",
       "    <tr>\n",
       "        <th>cid</th>\n",
       "        <th>name</th>\n",
       "        <th>type</th>\n",
       "        <th>notnull</th>\n",
       "        <th>dflt_value</th>\n",
       "        <th>pk</th>\n",
       "    </tr>\n",
       "    <tr>\n",
       "        <td>0</td>\n",
       "        <td>employee_id</td>\n",
       "        <td>INTEGER</td>\n",
       "        <td>1</td>\n",
       "        <td>None</td>\n",
       "        <td>1</td>\n",
       "    </tr>\n",
       "    <tr>\n",
       "        <td>1</td>\n",
       "        <td>last_name</td>\n",
       "        <td>NVARCHAR(20)</td>\n",
       "        <td>1</td>\n",
       "        <td>None</td>\n",
       "        <td>0</td>\n",
       "    </tr>\n",
       "    <tr>\n",
       "        <td>2</td>\n",
       "        <td>first_name</td>\n",
       "        <td>NVARCHAR(20)</td>\n",
       "        <td>1</td>\n",
       "        <td>None</td>\n",
       "        <td>0</td>\n",
       "    </tr>\n",
       "    <tr>\n",
       "        <td>3</td>\n",
       "        <td>title</td>\n",
       "        <td>NVARCHAR(30)</td>\n",
       "        <td>0</td>\n",
       "        <td>None</td>\n",
       "        <td>0</td>\n",
       "    </tr>\n",
       "    <tr>\n",
       "        <td>4</td>\n",
       "        <td>reports_to</td>\n",
       "        <td>INTEGER</td>\n",
       "        <td>0</td>\n",
       "        <td>None</td>\n",
       "        <td>0</td>\n",
       "    </tr>\n",
       "    <tr>\n",
       "        <td>5</td>\n",
       "        <td>birthdate</td>\n",
       "        <td>DATETIME</td>\n",
       "        <td>0</td>\n",
       "        <td>None</td>\n",
       "        <td>0</td>\n",
       "    </tr>\n",
       "    <tr>\n",
       "        <td>6</td>\n",
       "        <td>hire_date</td>\n",
       "        <td>DATETIME</td>\n",
       "        <td>0</td>\n",
       "        <td>None</td>\n",
       "        <td>0</td>\n",
       "    </tr>\n",
       "    <tr>\n",
       "        <td>7</td>\n",
       "        <td>address</td>\n",
       "        <td>NVARCHAR(70)</td>\n",
       "        <td>0</td>\n",
       "        <td>None</td>\n",
       "        <td>0</td>\n",
       "    </tr>\n",
       "    <tr>\n",
       "        <td>8</td>\n",
       "        <td>city</td>\n",
       "        <td>NVARCHAR(40)</td>\n",
       "        <td>0</td>\n",
       "        <td>None</td>\n",
       "        <td>0</td>\n",
       "    </tr>\n",
       "    <tr>\n",
       "        <td>9</td>\n",
       "        <td>state</td>\n",
       "        <td>NVARCHAR(40)</td>\n",
       "        <td>0</td>\n",
       "        <td>None</td>\n",
       "        <td>0</td>\n",
       "    </tr>\n",
       "    <tr>\n",
       "        <td>10</td>\n",
       "        <td>country</td>\n",
       "        <td>NVARCHAR(40)</td>\n",
       "        <td>0</td>\n",
       "        <td>None</td>\n",
       "        <td>0</td>\n",
       "    </tr>\n",
       "    <tr>\n",
       "        <td>11</td>\n",
       "        <td>postal_code</td>\n",
       "        <td>NVARCHAR(10)</td>\n",
       "        <td>0</td>\n",
       "        <td>None</td>\n",
       "        <td>0</td>\n",
       "    </tr>\n",
       "    <tr>\n",
       "        <td>12</td>\n",
       "        <td>phone</td>\n",
       "        <td>NVARCHAR(24)</td>\n",
       "        <td>0</td>\n",
       "        <td>None</td>\n",
       "        <td>0</td>\n",
       "    </tr>\n",
       "    <tr>\n",
       "        <td>13</td>\n",
       "        <td>fax</td>\n",
       "        <td>NVARCHAR(24)</td>\n",
       "        <td>0</td>\n",
       "        <td>None</td>\n",
       "        <td>0</td>\n",
       "    </tr>\n",
       "    <tr>\n",
       "        <td>14</td>\n",
       "        <td>email</td>\n",
       "        <td>NVARCHAR(60)</td>\n",
       "        <td>0</td>\n",
       "        <td>None</td>\n",
       "        <td>0</td>\n",
       "    </tr>\n",
       "</table>"
      ],
      "text/plain": [
       "[(0, 'employee_id', 'INTEGER', 1, None, 1),\n",
       " (1, 'last_name', 'NVARCHAR(20)', 1, None, 0),\n",
       " (2, 'first_name', 'NVARCHAR(20)', 1, None, 0),\n",
       " (3, 'title', 'NVARCHAR(30)', 0, None, 0),\n",
       " (4, 'reports_to', 'INTEGER', 0, None, 0),\n",
       " (5, 'birthdate', 'DATETIME', 0, None, 0),\n",
       " (6, 'hire_date', 'DATETIME', 0, None, 0),\n",
       " (7, 'address', 'NVARCHAR(70)', 0, None, 0),\n",
       " (8, 'city', 'NVARCHAR(40)', 0, None, 0),\n",
       " (9, 'state', 'NVARCHAR(40)', 0, None, 0),\n",
       " (10, 'country', 'NVARCHAR(40)', 0, None, 0),\n",
       " (11, 'postal_code', 'NVARCHAR(10)', 0, None, 0),\n",
       " (12, 'phone', 'NVARCHAR(24)', 0, None, 0),\n",
       " (13, 'fax', 'NVARCHAR(24)', 0, None, 0),\n",
       " (14, 'email', 'NVARCHAR(60)', 0, None, 0)]"
      ]
     },
     "execution_count": 12,
     "metadata": {},
     "output_type": "execute_result"
    }
   ],
   "source": [
    "%%sql\n",
    "PRAGMA table_info(employee)"
   ]
  },
  {
   "cell_type": "markdown",
   "id": "ad1c7d07-21df-4152-9f30-5d2457c49da2",
   "metadata": {},
   "source": [
    "It would make sense for `employee_id` to autoincrement with any new rom inserted, but we can't tell if it will from the table above. We can check that with this code:"
   ]
  },
  {
   "cell_type": "code",
   "execution_count": 13,
   "id": "b64ec763-21ae-44fb-b9a2-5d9040cf1362",
   "metadata": {},
   "outputs": [
    {
     "name": "stdout",
     "output_type": "stream",
     "text": [
      " * sqlite:///chinook.db\n",
      "Done.\n"
     ]
    },
    {
     "data": {
      "text/html": [
       "<table>\n",
       "    <tr>\n",
       "        <th>sql</th>\n",
       "    </tr>\n",
       "    <tr>\n",
       "        <td>CREATE TABLE [employee]<br>(<br>    [employee_id] INTEGER PRIMARY KEY NOT NULL,<br>    [last_name] NVARCHAR(20)  NOT NULL,<br>    [first_name] NVARCHAR(20)  NOT NULL,<br>    [title] NVARCHAR(30),<br>    [reports_to] INTEGER,<br>    [birthdate] DATETIME,<br>    [hire_date] DATETIME,<br>    [address] NVARCHAR(70),<br>    [city] NVARCHAR(40),<br>    [state] NVARCHAR(40),<br>    [country] NVARCHAR(40),<br>    [postal_code] NVARCHAR(10),<br>    [phone] NVARCHAR(24),<br>    [fax] NVARCHAR(24),<br>    [email] NVARCHAR(60),<br>    FOREIGN KEY ([reports_to]) REFERENCES [employee] ([employee_id]) <br>\t\tON DELETE NO ACTION ON UPDATE NO ACTION<br>)</td>\n",
       "    </tr>\n",
       "    <tr>\n",
       "        <td>CREATE INDEX [ifk_employeereports_to] ON [employee] ([reports_to])</td>\n",
       "    </tr>\n",
       "</table>"
      ],
      "text/plain": [
       "[('CREATE TABLE [employee]\\n(\\n    [employee_id] INTEGER PRIMARY KEY NOT NULL,\\n    [last_name] NVARCHAR(20)  NOT NULL,\\n    [first_name] NVARCHAR(20)   ... (310 characters truncated) ... 4),\\n    [email] NVARCHAR(60),\\n    FOREIGN KEY ([reports_to]) REFERENCES [employee] ([employee_id]) \\n\\t\\tON DELETE NO ACTION ON UPDATE NO ACTION\\n)',),\n",
       " ('CREATE INDEX [ifk_employeereports_to] ON [employee] ([reports_to])',)]"
      ]
     },
     "execution_count": 13,
     "metadata": {},
     "output_type": "execute_result"
    }
   ],
   "source": [
    "%%sql\n",
    "    SELECT sql FROM sqlite_master WHERE tbl_name = \"employee\""
   ]
  },
  {
   "cell_type": "markdown",
   "id": "aa13598d-def5-4aed-a9c8-fd4dea198681",
   "metadata": {},
   "source": [
    "The keyword `AUTOINCREMENT` doesn't appear in the code that defines the `employee_id` column, so we'll need to manually specify the next ids ourselves—they're 9 and 10, respectively."
   ]
  },
  {
   "cell_type": "code",
   "execution_count": 14,
   "id": "de164180-90e0-4c3f-9db5-27372cd537a5",
   "metadata": {},
   "outputs": [
    {
     "name": "stdout",
     "output_type": "stream",
     "text": [
      " * sqlite:///chinook.db\n",
      "2 rows affected.\n"
     ]
    },
    {
     "data": {
      "text/plain": [
       "[]"
      ]
     },
     "execution_count": 14,
     "metadata": {},
     "output_type": "execute_result"
    }
   ],
   "source": [
    "%%sql\n",
    "    INSERT INTO employee (employee_id, last_name, first_name, title, reports_to, birthdate, hire_date, address, city, state, country, postal_code, phone, fax)\n",
    "    VALUES\n",
    "        (9, \"Doe\", \"John\", \"Sales Support Agent\", 2, DATE(\"1991-05-13\"), DATE(\"now\"), \"Black street, 4\", \"New York\", \"New York\", \"USA\", \"12345\", \"034586847\", \"034586846\"),\n",
    "        (10, \"Contrary\", \"Mary\", \"Sales Support Agent\", 2, DATE(\"1990-11-21\"), DATE(\"now\"), \"Green bulevard, 8\", \"Old York\", \"Some state\", \"USA\", \"54321\", \"0129427422\", \"0129427421\")"
   ]
  },
  {
   "cell_type": "markdown",
   "id": "f4e285d5-ef7d-4ba4-84a5-adca5f44f37a",
   "metadata": {},
   "source": [
    "Let's check the result."
   ]
  },
  {
   "cell_type": "code",
   "execution_count": 15,
   "id": "1904e8a3-cd62-4cd4-8314-23c20ac05ccd",
   "metadata": {},
   "outputs": [
    {
     "name": "stdout",
     "output_type": "stream",
     "text": [
      " * sqlite:///chinook.db\n",
      "Done.\n"
     ]
    },
    {
     "data": {
      "text/html": [
       "<table>\n",
       "    <tr>\n",
       "        <th>employee_id</th>\n",
       "        <th>last_name</th>\n",
       "        <th>first_name</th>\n",
       "        <th>title</th>\n",
       "        <th>reports_to</th>\n",
       "        <th>birthdate</th>\n",
       "        <th>hire_date</th>\n",
       "        <th>address</th>\n",
       "        <th>city</th>\n",
       "        <th>state</th>\n",
       "        <th>country</th>\n",
       "        <th>postal_code</th>\n",
       "        <th>phone</th>\n",
       "        <th>fax</th>\n",
       "        <th>email</th>\n",
       "    </tr>\n",
       "    <tr>\n",
       "        <td>9</td>\n",
       "        <td>Doe</td>\n",
       "        <td>John</td>\n",
       "        <td>Sales Support Agent</td>\n",
       "        <td>2</td>\n",
       "        <td>1991-05-13</td>\n",
       "        <td>2022-04-21</td>\n",
       "        <td>Black street, 4</td>\n",
       "        <td>New York</td>\n",
       "        <td>New York</td>\n",
       "        <td>USA</td>\n",
       "        <td>12345</td>\n",
       "        <td>034586847</td>\n",
       "        <td>034586846</td>\n",
       "        <td>None</td>\n",
       "    </tr>\n",
       "    <tr>\n",
       "        <td>10</td>\n",
       "        <td>Contrary</td>\n",
       "        <td>Mary</td>\n",
       "        <td>Sales Support Agent</td>\n",
       "        <td>2</td>\n",
       "        <td>1990-11-21</td>\n",
       "        <td>2022-04-21</td>\n",
       "        <td>Green bulevard, 8</td>\n",
       "        <td>Old York</td>\n",
       "        <td>Some state</td>\n",
       "        <td>USA</td>\n",
       "        <td>54321</td>\n",
       "        <td>0129427422</td>\n",
       "        <td>0129427421</td>\n",
       "        <td>None</td>\n",
       "    </tr>\n",
       "</table>"
      ],
      "text/plain": [
       "[(9, 'Doe', 'John', 'Sales Support Agent', 2, '1991-05-13', '2022-04-21', 'Black street, 4', 'New York', 'New York', 'USA', '12345', '034586847', '034586846', None),\n",
       " (10, 'Contrary', 'Mary', 'Sales Support Agent', 2, '1990-11-21', '2022-04-21', 'Green bulevard, 8', 'Old York', 'Some state', 'USA', '54321', '0129427422', '0129427421', None)]"
      ]
     },
     "execution_count": 15,
     "metadata": {},
     "output_type": "execute_result"
    }
   ],
   "source": [
    "%%sql\n",
    "    SELECT * FROM employee WHERE employee_id > 8"
   ]
  },
  {
   "cell_type": "markdown",
   "id": "60e2bb77-944f-4a3e-b591-f6fe97b65cbc",
   "metadata": {},
   "source": [
    "Great. Now say that we know the emails: `john.doe@chinookcorp.com` and `mary.contrary@chinookcorp.com`. To add these two values, we use an `UPDATE` statement."
   ]
  },
  {
   "cell_type": "code",
   "execution_count": 16,
   "id": "5880d252-070e-4cff-b818-38243e3fd11c",
   "metadata": {},
   "outputs": [
    {
     "name": "stdout",
     "output_type": "stream",
     "text": [
      " * sqlite:///chinook.db\n",
      "2 rows affected.\n",
      "Done.\n"
     ]
    },
    {
     "data": {
      "text/html": [
       "<table>\n",
       "    <tr>\n",
       "        <th>employee_id</th>\n",
       "        <th>last_name</th>\n",
       "        <th>first_name</th>\n",
       "        <th>title</th>\n",
       "        <th>reports_to</th>\n",
       "        <th>birthdate</th>\n",
       "        <th>hire_date</th>\n",
       "        <th>address</th>\n",
       "        <th>city</th>\n",
       "        <th>state</th>\n",
       "        <th>country</th>\n",
       "        <th>postal_code</th>\n",
       "        <th>phone</th>\n",
       "        <th>fax</th>\n",
       "        <th>email</th>\n",
       "    </tr>\n",
       "    <tr>\n",
       "        <td>9</td>\n",
       "        <td>Doe</td>\n",
       "        <td>John</td>\n",
       "        <td>Sales Support Agent</td>\n",
       "        <td>2</td>\n",
       "        <td>1991-05-13</td>\n",
       "        <td>2022-04-21</td>\n",
       "        <td>Black street, 4</td>\n",
       "        <td>New York</td>\n",
       "        <td>New York</td>\n",
       "        <td>USA</td>\n",
       "        <td>12345</td>\n",
       "        <td>034586847</td>\n",
       "        <td>034586846</td>\n",
       "        <td>John.Doe@chinookcorp.com</td>\n",
       "    </tr>\n",
       "    <tr>\n",
       "        <td>10</td>\n",
       "        <td>Contrary</td>\n",
       "        <td>Mary</td>\n",
       "        <td>Sales Support Agent</td>\n",
       "        <td>2</td>\n",
       "        <td>1990-11-21</td>\n",
       "        <td>2022-04-21</td>\n",
       "        <td>Green bulevard, 8</td>\n",
       "        <td>Old York</td>\n",
       "        <td>Some state</td>\n",
       "        <td>USA</td>\n",
       "        <td>54321</td>\n",
       "        <td>0129427422</td>\n",
       "        <td>0129427421</td>\n",
       "        <td>Mary.Contrary@chinookcorp.com</td>\n",
       "    </tr>\n",
       "</table>"
      ],
      "text/plain": [
       "[(9, 'Doe', 'John', 'Sales Support Agent', 2, '1991-05-13', '2022-04-21', 'Black street, 4', 'New York', 'New York', 'USA', '12345', '034586847', '034586846', 'John.Doe@chinookcorp.com'),\n",
       " (10, 'Contrary', 'Mary', 'Sales Support Agent', 2, '1990-11-21', '2022-04-21', 'Green bulevard, 8', 'Old York', 'Some state', 'USA', '54321', '0129427422', '0129427421', 'Mary.Contrary@chinookcorp.com')]"
      ]
     },
     "execution_count": 16,
     "metadata": {},
     "output_type": "execute_result"
    }
   ],
   "source": [
    "%%sql\n",
    "    UPDATE employee\n",
    "    SET email = first_name || \".\" || last_name || \"@chinookcorp.com\"    \n",
    "    WHERE employee_id IN (9, 10);\n",
    "    \n",
    "    SELECT * FROM employee WHERE employee_id > 8"
   ]
  },
  {
   "cell_type": "markdown",
   "id": "cdbd2fb3-e0ba-437f-badf-ba62a07ede77",
   "metadata": {},
   "source": [
    "Now, John's and Mary's contract was _veeery_ short. They're done already, and we need to remove them from the database. Before nuking _anything_ from a table, it's good practice to double-check that we're actually deleting the right stuff."
   ]
  },
  {
   "cell_type": "code",
   "execution_count": 17,
   "id": "33276816-7e53-485e-9522-9afa645b6a80",
   "metadata": {},
   "outputs": [
    {
     "name": "stdout",
     "output_type": "stream",
     "text": [
      " * sqlite:///chinook.db\n",
      "Done.\n"
     ]
    },
    {
     "data": {
      "text/html": [
       "<table>\n",
       "    <tr>\n",
       "        <th>employee_id</th>\n",
       "        <th>last_name</th>\n",
       "        <th>first_name</th>\n",
       "        <th>title</th>\n",
       "        <th>reports_to</th>\n",
       "        <th>birthdate</th>\n",
       "        <th>hire_date</th>\n",
       "        <th>address</th>\n",
       "        <th>city</th>\n",
       "        <th>state</th>\n",
       "        <th>country</th>\n",
       "        <th>postal_code</th>\n",
       "        <th>phone</th>\n",
       "        <th>fax</th>\n",
       "        <th>email</th>\n",
       "    </tr>\n",
       "    <tr>\n",
       "        <td>9</td>\n",
       "        <td>Doe</td>\n",
       "        <td>John</td>\n",
       "        <td>Sales Support Agent</td>\n",
       "        <td>2</td>\n",
       "        <td>1991-05-13</td>\n",
       "        <td>2022-04-21</td>\n",
       "        <td>Black street, 4</td>\n",
       "        <td>New York</td>\n",
       "        <td>New York</td>\n",
       "        <td>USA</td>\n",
       "        <td>12345</td>\n",
       "        <td>034586847</td>\n",
       "        <td>034586846</td>\n",
       "        <td>John.Doe@chinookcorp.com</td>\n",
       "    </tr>\n",
       "    <tr>\n",
       "        <td>10</td>\n",
       "        <td>Contrary</td>\n",
       "        <td>Mary</td>\n",
       "        <td>Sales Support Agent</td>\n",
       "        <td>2</td>\n",
       "        <td>1990-11-21</td>\n",
       "        <td>2022-04-21</td>\n",
       "        <td>Green bulevard, 8</td>\n",
       "        <td>Old York</td>\n",
       "        <td>Some state</td>\n",
       "        <td>USA</td>\n",
       "        <td>54321</td>\n",
       "        <td>0129427422</td>\n",
       "        <td>0129427421</td>\n",
       "        <td>Mary.Contrary@chinookcorp.com</td>\n",
       "    </tr>\n",
       "</table>"
      ],
      "text/plain": [
       "[(9, 'Doe', 'John', 'Sales Support Agent', 2, '1991-05-13', '2022-04-21', 'Black street, 4', 'New York', 'New York', 'USA', '12345', '034586847', '034586846', 'John.Doe@chinookcorp.com'),\n",
       " (10, 'Contrary', 'Mary', 'Sales Support Agent', 2, '1990-11-21', '2022-04-21', 'Green bulevard, 8', 'Old York', 'Some state', 'USA', '54321', '0129427422', '0129427421', 'Mary.Contrary@chinookcorp.com')]"
      ]
     },
     "execution_count": 17,
     "metadata": {},
     "output_type": "execute_result"
    }
   ],
   "source": [
    "%%sql\n",
    "    SELECT * FROM employee WHERE employee_id IN (9, 10)"
   ]
  },
  {
   "cell_type": "markdown",
   "id": "1329783c-d750-442a-92d4-915f64dbc0d5",
   "metadata": {},
   "source": [
    "Now that we're sure, let's delete their records."
   ]
  },
  {
   "cell_type": "code",
   "execution_count": 18,
   "id": "3a5f93e1-8fb0-4c73-9fea-5104e0a0d90e",
   "metadata": {},
   "outputs": [
    {
     "name": "stdout",
     "output_type": "stream",
     "text": [
      " * sqlite:///chinook.db\n",
      "2 rows affected.\n",
      "Done.\n"
     ]
    },
    {
     "data": {
      "text/html": [
       "<table>\n",
       "    <tr>\n",
       "        <th>employee_id</th>\n",
       "        <th>last_name</th>\n",
       "        <th>first_name</th>\n",
       "        <th>title</th>\n",
       "        <th>reports_to</th>\n",
       "        <th>birthdate</th>\n",
       "        <th>hire_date</th>\n",
       "        <th>address</th>\n",
       "        <th>city</th>\n",
       "        <th>state</th>\n",
       "        <th>country</th>\n",
       "        <th>postal_code</th>\n",
       "        <th>phone</th>\n",
       "        <th>fax</th>\n",
       "        <th>email</th>\n",
       "    </tr>\n",
       "    <tr>\n",
       "        <td>1</td>\n",
       "        <td>Adams</td>\n",
       "        <td>Andrew</td>\n",
       "        <td>General Manager</td>\n",
       "        <td>None</td>\n",
       "        <td>1962-02-18 00:00:00</td>\n",
       "        <td>2016-08-14 00:00:00</td>\n",
       "        <td>11120 Jasper Ave NW</td>\n",
       "        <td>Edmonton</td>\n",
       "        <td>AB</td>\n",
       "        <td>Canada</td>\n",
       "        <td>T5K 2N1</td>\n",
       "        <td>+1 (780) 428-9482</td>\n",
       "        <td>+1 (780) 428-3457</td>\n",
       "        <td>andrew@chinookcorp.com</td>\n",
       "    </tr>\n",
       "    <tr>\n",
       "        <td>2</td>\n",
       "        <td>Edwards</td>\n",
       "        <td>Nancy</td>\n",
       "        <td>Sales Manager</td>\n",
       "        <td>1</td>\n",
       "        <td>1958-12-08 00:00:00</td>\n",
       "        <td>2016-05-01 00:00:00</td>\n",
       "        <td>825 8 Ave SW</td>\n",
       "        <td>Calgary</td>\n",
       "        <td>AB</td>\n",
       "        <td>Canada</td>\n",
       "        <td>T2P 2T3</td>\n",
       "        <td>+1 (403) 262-3443</td>\n",
       "        <td>+1 (403) 262-3322</td>\n",
       "        <td>nancy@chinookcorp.com</td>\n",
       "    </tr>\n",
       "    <tr>\n",
       "        <td>3</td>\n",
       "        <td>Peacock</td>\n",
       "        <td>Jane</td>\n",
       "        <td>Sales Support Agent</td>\n",
       "        <td>2</td>\n",
       "        <td>1973-08-29 00:00:00</td>\n",
       "        <td>2017-04-01 00:00:00</td>\n",
       "        <td>1111 6 Ave SW</td>\n",
       "        <td>Calgary</td>\n",
       "        <td>AB</td>\n",
       "        <td>Canada</td>\n",
       "        <td>T2P 5M5</td>\n",
       "        <td>+1 (403) 262-3443</td>\n",
       "        <td>+1 (403) 262-6712</td>\n",
       "        <td>jane@chinookcorp.com</td>\n",
       "    </tr>\n",
       "    <tr>\n",
       "        <td>4</td>\n",
       "        <td>Park</td>\n",
       "        <td>Margaret</td>\n",
       "        <td>Sales Support Agent</td>\n",
       "        <td>2</td>\n",
       "        <td>1947-09-19 00:00:00</td>\n",
       "        <td>2017-05-03 00:00:00</td>\n",
       "        <td>683 10 Street SW</td>\n",
       "        <td>Calgary</td>\n",
       "        <td>AB</td>\n",
       "        <td>Canada</td>\n",
       "        <td>T2P 5G3</td>\n",
       "        <td>+1 (403) 263-4423</td>\n",
       "        <td>+1 (403) 263-4289</td>\n",
       "        <td>margaret@chinookcorp.com</td>\n",
       "    </tr>\n",
       "    <tr>\n",
       "        <td>5</td>\n",
       "        <td>Johnson</td>\n",
       "        <td>Steve</td>\n",
       "        <td>Sales Support Agent</td>\n",
       "        <td>2</td>\n",
       "        <td>1965-03-03 00:00:00</td>\n",
       "        <td>2017-10-17 00:00:00</td>\n",
       "        <td>7727B 41 Ave</td>\n",
       "        <td>Calgary</td>\n",
       "        <td>AB</td>\n",
       "        <td>Canada</td>\n",
       "        <td>T3B 1Y7</td>\n",
       "        <td>1 (780) 836-9987</td>\n",
       "        <td>1 (780) 836-9543</td>\n",
       "        <td>steve@chinookcorp.com</td>\n",
       "    </tr>\n",
       "    <tr>\n",
       "        <td>6</td>\n",
       "        <td>Mitchell</td>\n",
       "        <td>Michael</td>\n",
       "        <td>IT Manager</td>\n",
       "        <td>1</td>\n",
       "        <td>1973-07-01 00:00:00</td>\n",
       "        <td>2016-10-17 00:00:00</td>\n",
       "        <td>5827 Bowness Road NW</td>\n",
       "        <td>Calgary</td>\n",
       "        <td>AB</td>\n",
       "        <td>Canada</td>\n",
       "        <td>T3B 0C5</td>\n",
       "        <td>+1 (403) 246-9887</td>\n",
       "        <td>+1 (403) 246-9899</td>\n",
       "        <td>michael@chinookcorp.com</td>\n",
       "    </tr>\n",
       "    <tr>\n",
       "        <td>7</td>\n",
       "        <td>King</td>\n",
       "        <td>Robert</td>\n",
       "        <td>IT Staff</td>\n",
       "        <td>6</td>\n",
       "        <td>1970-05-29 00:00:00</td>\n",
       "        <td>2017-01-02 00:00:00</td>\n",
       "        <td>590 Columbia Boulevard West</td>\n",
       "        <td>Lethbridge</td>\n",
       "        <td>AB</td>\n",
       "        <td>Canada</td>\n",
       "        <td>T1K 5N8</td>\n",
       "        <td>+1 (403) 456-9986</td>\n",
       "        <td>+1 (403) 456-8485</td>\n",
       "        <td>robert@chinookcorp.com</td>\n",
       "    </tr>\n",
       "    <tr>\n",
       "        <td>8</td>\n",
       "        <td>Callahan</td>\n",
       "        <td>Laura</td>\n",
       "        <td>IT Staff</td>\n",
       "        <td>6</td>\n",
       "        <td>1968-01-09 00:00:00</td>\n",
       "        <td>2017-03-04 00:00:00</td>\n",
       "        <td>923 7 ST NW</td>\n",
       "        <td>Lethbridge</td>\n",
       "        <td>AB</td>\n",
       "        <td>Canada</td>\n",
       "        <td>T1H 1Y8</td>\n",
       "        <td>+1 (403) 467-3351</td>\n",
       "        <td>+1 (403) 467-8772</td>\n",
       "        <td>laura@chinookcorp.com</td>\n",
       "    </tr>\n",
       "</table>"
      ],
      "text/plain": [
       "[(1, 'Adams', 'Andrew', 'General Manager', None, '1962-02-18 00:00:00', '2016-08-14 00:00:00', '11120 Jasper Ave NW', 'Edmonton', 'AB', 'Canada', 'T5K 2N1', '+1 (780) 428-9482', '+1 (780) 428-3457', 'andrew@chinookcorp.com'),\n",
       " (2, 'Edwards', 'Nancy', 'Sales Manager', 1, '1958-12-08 00:00:00', '2016-05-01 00:00:00', '825 8 Ave SW', 'Calgary', 'AB', 'Canada', 'T2P 2T3', '+1 (403) 262-3443', '+1 (403) 262-3322', 'nancy@chinookcorp.com'),\n",
       " (3, 'Peacock', 'Jane', 'Sales Support Agent', 2, '1973-08-29 00:00:00', '2017-04-01 00:00:00', '1111 6 Ave SW', 'Calgary', 'AB', 'Canada', 'T2P 5M5', '+1 (403) 262-3443', '+1 (403) 262-6712', 'jane@chinookcorp.com'),\n",
       " (4, 'Park', 'Margaret', 'Sales Support Agent', 2, '1947-09-19 00:00:00', '2017-05-03 00:00:00', '683 10 Street SW', 'Calgary', 'AB', 'Canada', 'T2P 5G3', '+1 (403) 263-4423', '+1 (403) 263-4289', 'margaret@chinookcorp.com'),\n",
       " (5, 'Johnson', 'Steve', 'Sales Support Agent', 2, '1965-03-03 00:00:00', '2017-10-17 00:00:00', '7727B 41 Ave', 'Calgary', 'AB', 'Canada', 'T3B 1Y7', '1 (780) 836-9987', '1 (780) 836-9543', 'steve@chinookcorp.com'),\n",
       " (6, 'Mitchell', 'Michael', 'IT Manager', 1, '1973-07-01 00:00:00', '2016-10-17 00:00:00', '5827 Bowness Road NW', 'Calgary', 'AB', 'Canada', 'T3B 0C5', '+1 (403) 246-9887', '+1 (403) 246-9899', 'michael@chinookcorp.com'),\n",
       " (7, 'King', 'Robert', 'IT Staff', 6, '1970-05-29 00:00:00', '2017-01-02 00:00:00', '590 Columbia Boulevard West', 'Lethbridge', 'AB', 'Canada', 'T1K 5N8', '+1 (403) 456-9986', '+1 (403) 456-8485', 'robert@chinookcorp.com'),\n",
       " (8, 'Callahan', 'Laura', 'IT Staff', 6, '1968-01-09 00:00:00', '2017-03-04 00:00:00', '923 7 ST NW', 'Lethbridge', 'AB', 'Canada', 'T1H 1Y8', '+1 (403) 467-3351', '+1 (403) 467-8772', 'laura@chinookcorp.com')]"
      ]
     },
     "execution_count": 18,
     "metadata": {},
     "output_type": "execute_result"
    }
   ],
   "source": [
    "%%sql\n",
    "    DELETE FROM employee WHERE employee_id IN (9, 10);\n",
    "    SELECT * FROM employee"
   ]
  },
  {
   "cell_type": "markdown",
   "id": "9b29016b-8026-4617-84b4-2998f6eccf3d",
   "metadata": {
    "tags": []
   },
   "source": [
    "### SQL & Python"
   ]
  },
  {
   "cell_type": "markdown",
   "id": "af84db0f-bd2e-4f8c-a702-a52056dc0a63",
   "metadata": {},
   "source": [
    "In this section, I'm going to use Python to create a few SQL queries in a more dynamic fashion. I'll use the `sqlite3` module to interrogate the database, and `pandas` to quickly display results in a convenient format."
   ]
  },
  {
   "cell_type": "code",
   "execution_count": 19,
   "id": "291fae29-e975-4ea2-a891-8f8533cf4039",
   "metadata": {
    "tags": []
   },
   "outputs": [],
   "source": [
    "import sqlite3\n",
    "import pandas as pd"
   ]
  },
  {
   "cell_type": "markdown",
   "id": "bb7729a9-4079-419b-b853-595434d12823",
   "metadata": {},
   "source": [
    "Note that, depending on the context, the input of the functions below would need to be sanitised first. If the functions were only accessible from a GUI where input values can only be chosen from a list, for example, this wouldn't be necessary as there would be no way to input wrong or dangerous data. If they were accessible from other code, or from a GUI where write-ins are possible, then the input should go through some kind of validation\\sanitisation function first, to prevent SQL injection attacks or the insertion of senseless data. I did do some input validation, but making the functions bullet-proof is beyond the scope of this demo, and more thorough validation would probably be necessary in a production environment."
   ]
  },
  {
   "cell_type": "markdown",
   "id": "9f477778-f171-4416-88f5-1d5229bbf797",
   "metadata": {
    "tags": []
   },
   "source": [
    "#### Total purchases per customer"
   ]
  },
  {
   "cell_type": "markdown",
   "id": "0f0b6afa-074f-44bd-b606-8a3c2306a2fb",
   "metadata": {},
   "source": [
    "The function below does pretty much the same as its vanilla SQL counterpart. Just like that one, it can only sort by one column (`total_spent` by default), but the sorting order is specifiable, as is the number of rows to show. Optionally, it's possible to visualise only the customers that made no purchases."
   ]
  },
  {
   "cell_type": "code",
   "execution_count": 20,
   "id": "04f455c0-c389-415a-adff-c1ccdbf4585d",
   "metadata": {
    "tags": []
   },
   "outputs": [],
   "source": [
    "def customer_purchases(country = None, order_by = \"total_spent\", order = \"DESC\", limit = None, no_purchases = False):\n",
    "    \"\"\"Extracts customer purchase information from the database, and returns it in DataFrame format.\n",
    "    \n",
    "    `country`: customer country, None by default\n",
    "    `order_by`: single string indicating a database column by which results should be sorted. Expects `customer`, `total_spent` (default), or `total_purchases`.\n",
    "    `order`: string specifying sorting order, `DESC` (default) or `ASC`\n",
    "    `limit`: max number of rows to show, default None\n",
    "    `no_purchase`: boolean. If True, only show customers with no purchases. (Accepts truthy and falsey values.)\n",
    "    \n",
    "    Returns: DataFrame    \n",
    "    \"\"\"\n",
    "    # Validate passed parameters.\n",
    "    if order_by not in [\"total_spent\", \"total_purchases\"]:\n",
    "        return \"Error: unknown sorting column, '{}'\".format(order_by)\n",
    "    \n",
    "    if order not in [\"ASC\", \"DESC\"]:\n",
    "        return \"Error: unknown sorting option, '{}'\".format(order)\n",
    "    \n",
    "    if limit is not None and (type(limit) != int or limit < 1):\n",
    "        return \"Error: `limit` must be a positive integer.\"    \n",
    "    \n",
    "    # The base query, on the assumption that we want to show all customers.\n",
    "    query = \"\"\"SELECT c.last_name || \", \" || c.first_name AS customer,\n",
    "                      ROUND(SUM(i.total)) AS total_spent,\n",
    "                      COUNT(i.invoice_id) AS total_purchases\n",
    "                FROM customer c\n",
    "                    LEFT JOIN invoice i\n",
    "                    ON c.customer_id = i.customer_id\\n\"\"\"\n",
    "    \n",
    "    # Filter by country.\n",
    "    if country is not None: \n",
    "        query = query + \"\"\"WHERE country = '{}'\\n\"\"\".format(country)\n",
    "        \n",
    "    # Group by customer.\n",
    "    query = query + \"\"\"GROUP BY c.customer_id\\n\"\"\"\n",
    "    \n",
    "    # Filter by customers with no purchases only, if needed.\n",
    "    if no_purchases:\n",
    "        query = query + \"\"\"HAVING total_purchases = 0\\n\"\"\"\n",
    "    \n",
    "    # Sort.\n",
    "    query = query + \"\"\"ORDER BY {} {}\\n\"\"\".format(order_by, order)\n",
    "    \n",
    "    # Limit results.\n",
    "    if limit is not None:\n",
    "        query = query + \"LIMIT {}\".format(limit)\n",
    "    \n",
    "    # Connect and execute.\n",
    "    conn = sqlite3.connect(\"chinook.db\")\n",
    "    cur = conn.cursor()    \n",
    "    cur.execute(query)\n",
    "    data = cur.fetchall()\n",
    "    conn.close()\n",
    "    \n",
    "    # Return the data as a DataFrame.\n",
    "    result = pd.DataFrame(columns = [\"customer\", \"total_spent\", \"total_purchases\"], data = data)    \n",
    "    return result    "
   ]
  },
  {
   "cell_type": "markdown",
   "id": "43515533-6e34-4cf1-8eb4-63feb67f540d",
   "metadata": {},
   "source": [
    "So, for example, let's say that I want to see the top-3 customers (in terms of money spent) from the United States. (If you're running this code, you can try other uses of the same function as well.)"
   ]
  },
  {
   "cell_type": "code",
   "execution_count": 21,
   "id": "78cc2e11-144b-4b4b-9976-ced0e534c76e",
   "metadata": {},
   "outputs": [
    {
     "data": {
      "text/html": [
       "<div>\n",
       "<style scoped>\n",
       "    .dataframe tbody tr th:only-of-type {\n",
       "        vertical-align: middle;\n",
       "    }\n",
       "\n",
       "    .dataframe tbody tr th {\n",
       "        vertical-align: top;\n",
       "    }\n",
       "\n",
       "    .dataframe thead th {\n",
       "        text-align: right;\n",
       "    }\n",
       "</style>\n",
       "<table border=\"1\" class=\"dataframe\">\n",
       "  <thead>\n",
       "    <tr style=\"text-align: right;\">\n",
       "      <th></th>\n",
       "      <th>customer</th>\n",
       "      <th>total_spent</th>\n",
       "      <th>total_purchases</th>\n",
       "    </tr>\n",
       "  </thead>\n",
       "  <tbody>\n",
       "    <tr>\n",
       "      <th>0</th>\n",
       "      <td>Smith, Jack</td>\n",
       "      <td>98.0</td>\n",
       "      <td>12</td>\n",
       "    </tr>\n",
       "    <tr>\n",
       "      <th>1</th>\n",
       "      <td>Miller, Dan</td>\n",
       "      <td>95.0</td>\n",
       "      <td>12</td>\n",
       "    </tr>\n",
       "    <tr>\n",
       "      <th>2</th>\n",
       "      <td>Leacock, Heather</td>\n",
       "      <td>92.0</td>\n",
       "      <td>12</td>\n",
       "    </tr>\n",
       "  </tbody>\n",
       "</table>\n",
       "</div>"
      ],
      "text/plain": [
       "           customer  total_spent  total_purchases\n",
       "0       Smith, Jack         98.0               12\n",
       "1       Miller, Dan         95.0               12\n",
       "2  Leacock, Heather         92.0               12"
      ]
     },
     "execution_count": 21,
     "metadata": {},
     "output_type": "execute_result"
    }
   ],
   "source": [
    "customer_purchases(country = \"USA\", limit = 3)"
   ]
  },
  {
   "cell_type": "markdown",
   "id": "b1e22e3c-3bc5-4708-9312-df7683776487",
   "metadata": {
    "tags": []
   },
   "source": [
    "#### Genre statistics"
   ]
  },
  {
   "cell_type": "markdown",
   "id": "198700b5-d105-4257-80ad-43f89da9f8ba",
   "metadata": {},
   "source": [
    "The function below displays all genres in the database, together with the number of tracks of that genre, the total revenue from selling tracks of each genre, and the number of tracks of each genre sold. It allows for multiple sorting columns and to display only genres with no sales by passing an appropriate parameter."
   ]
  },
  {
   "cell_type": "code",
   "execution_count": 22,
   "id": "28b14464-bd75-454d-8f3f-970e97372f4b",
   "metadata": {},
   "outputs": [],
   "source": [
    "def genre_statistics(order = [(\"genre\", \"ASC\")], no_sales = False):\n",
    "    \"\"\"For each genre, computes the total of tracks available, total tracks sold, and total revenue, and returns these data in DataFrame format.\n",
    "    \n",
    "    `order`: an array of tuples specifying the columns to sort by (`num_tracks`, `total_revenue`, or `tracks_sold`) and the sorting order (`ASC` or `DESC`)\n",
    "    `no_sales`: boolean. If True, show only genres with no tracks sold. (Accepts truthy and falsey values.)\n",
    "    \"\"\"\n",
    "    \n",
    "    # Validate `order`.\n",
    "    if type(order) != list:\n",
    "        return type(order)\n",
    "        return \"Error: `order` must be a list of 2-tuples.\"\n",
    "    \n",
    "    if any([(type(x) != tuple) or (len(x) != 2) for x in order]):\n",
    "        return \"Error: `order` contains non-tuples or tuples of length other than 2.\"\n",
    "    \n",
    "    valid_columns = [\"genre\", \"num_tracks\", \"total_revenue\", \"tracks_sold\"]\n",
    "    valid_sorts = [\"ASC\", \"DESC\"]\n",
    "    \n",
    "    if any([(x[0] not in valid_columns) for x in order]):\n",
    "        return \"Error: unknown sorting column.\"\n",
    "    \n",
    "    if any([(x[1] not in valid_sorts) for x in order]):\n",
    "        return \"Error: unknown sort option.\"\n",
    "           \n",
    "    # The base query, on the assumption that we want to show all genres.\n",
    "    query = \"\"\"SELECT g.name AS genre,\n",
    "                      IFNULL(genre_info.num_tracks, 0) AS num_tracks,\n",
    "                      IFNULL(genre_info.total_revenue, 0.0) AS total_revenue,\n",
    "                      IFNULL(genre_info.tracks_sold, 0) AS tracks_sold\n",
    "               FROM genre g\n",
    "                   LEFT JOIN \n",
    "                       (SELECT t.genre_id,\n",
    "                          ROUND(SUM(il.unit_price * il.quantity)) AS total_revenue,\n",
    "                          SUM(il.quantity) AS tracks_sold,\n",
    "                          COUNT(t.track_id) AS num_tracks\n",
    "                       FROM track t\n",
    "                           LEFT JOIN invoice_line il\n",
    "                           ON t.track_id = il.track_id\n",
    "                       GROUP BY genre_id) AS genre_info\n",
    "               ON genre_info.genre_id = g.genre_id\\n\"\"\"\n",
    "    \n",
    "    # Show only tracks with no sales if necessary.\n",
    "    if no_sales:\n",
    "        query = query + \"\"\"WHERE tracks_sold IS NULL\\n\"\"\" # We check for nulls because they're the actual values that show up in the query for tracks with no sales. Zeros are added afterwards by IFNULL and checking for them won't work.\n",
    "    \n",
    "    # Build the sorting part of the query.\n",
    "    order_query = \"ORDER BY \"\n",
    "    for o in order:\n",
    "        order_query = order_query + o[0] + \" \" + o[1]\n",
    "        if o != order[-1]:\n",
    "            order_query = order_query + \", \"\n",
    "    \n",
    "    query = query + order_query\n",
    "    \n",
    "    # Connect and execute.\n",
    "    conn = sqlite3.connect(\"chinook.db\")\n",
    "    cur = conn.cursor()    \n",
    "    cur.execute(query)\n",
    "    data = cur.fetchall()\n",
    "    conn.close()\n",
    "    \n",
    "    # Return the data as a DataFrame.\n",
    "    result = pd.DataFrame(columns = [\"genre\", \"num_tracks\", \"total_revenue\", \"tracks_sold\"], data = data) \n",
    "    return result"
   ]
  },
  {
   "cell_type": "markdown",
   "id": "c01f74ad-57d6-49f8-8713-eb996281d9cf",
   "metadata": {},
   "source": [
    "In this example, I'm going to show the result of calling the function with `no_sales = True`, but feel free to experiment with other parameters."
   ]
  },
  {
   "cell_type": "code",
   "execution_count": 23,
   "id": "5364b209-9c8b-4c29-8186-ebc770ac9551",
   "metadata": {},
   "outputs": [
    {
     "data": {
      "text/html": [
       "<div>\n",
       "<style scoped>\n",
       "    .dataframe tbody tr th:only-of-type {\n",
       "        vertical-align: middle;\n",
       "    }\n",
       "\n",
       "    .dataframe tbody tr th {\n",
       "        vertical-align: top;\n",
       "    }\n",
       "\n",
       "    .dataframe thead th {\n",
       "        text-align: right;\n",
       "    }\n",
       "</style>\n",
       "<table border=\"1\" class=\"dataframe\">\n",
       "  <thead>\n",
       "    <tr style=\"text-align: right;\">\n",
       "      <th></th>\n",
       "      <th>genre</th>\n",
       "      <th>num_tracks</th>\n",
       "      <th>total_revenue</th>\n",
       "      <th>tracks_sold</th>\n",
       "    </tr>\n",
       "  </thead>\n",
       "  <tbody>\n",
       "    <tr>\n",
       "      <th>0</th>\n",
       "      <td>World</td>\n",
       "      <td>28</td>\n",
       "      <td>0.0</td>\n",
       "      <td>0</td>\n",
       "    </tr>\n",
       "    <tr>\n",
       "      <th>1</th>\n",
       "      <td>Sci Fi &amp; Fantasy</td>\n",
       "      <td>26</td>\n",
       "      <td>0.0</td>\n",
       "      <td>0</td>\n",
       "    </tr>\n",
       "    <tr>\n",
       "      <th>2</th>\n",
       "      <td>Comedy</td>\n",
       "      <td>17</td>\n",
       "      <td>0.0</td>\n",
       "      <td>0</td>\n",
       "    </tr>\n",
       "    <tr>\n",
       "      <th>3</th>\n",
       "      <td>Bossa Nova</td>\n",
       "      <td>15</td>\n",
       "      <td>0.0</td>\n",
       "      <td>0</td>\n",
       "    </tr>\n",
       "    <tr>\n",
       "      <th>4</th>\n",
       "      <td>Science Fiction</td>\n",
       "      <td>13</td>\n",
       "      <td>0.0</td>\n",
       "      <td>0</td>\n",
       "    </tr>\n",
       "    <tr>\n",
       "      <th>5</th>\n",
       "      <td>Rock And Roll</td>\n",
       "      <td>12</td>\n",
       "      <td>0.0</td>\n",
       "      <td>0</td>\n",
       "    </tr>\n",
       "    <tr>\n",
       "      <th>6</th>\n",
       "      <td>Opera</td>\n",
       "      <td>1</td>\n",
       "      <td>0.0</td>\n",
       "      <td>0</td>\n",
       "    </tr>\n",
       "  </tbody>\n",
       "</table>\n",
       "</div>"
      ],
      "text/plain": [
       "              genre  num_tracks  total_revenue  tracks_sold\n",
       "0             World          28            0.0            0\n",
       "1  Sci Fi & Fantasy          26            0.0            0\n",
       "2            Comedy          17            0.0            0\n",
       "3        Bossa Nova          15            0.0            0\n",
       "4   Science Fiction          13            0.0            0\n",
       "5     Rock And Roll          12            0.0            0\n",
       "6             Opera           1            0.0            0"
      ]
     },
     "execution_count": 23,
     "metadata": {},
     "output_type": "execute_result"
    }
   ],
   "source": [
    "genre_statistics(order = [(\"num_tracks\", \"DESC\")], no_sales = True)"
   ]
  },
  {
   "cell_type": "markdown",
   "id": "327a4baa-cccf-4d3e-978d-69ebbac770fd",
   "metadata": {
    "tags": []
   },
   "source": [
    "#### Track information"
   ]
  },
  {
   "cell_type": "markdown",
   "id": "35375fb1-5174-4c6b-b1b7-828d508240a8",
   "metadata": {},
   "source": [
    "This function search the database for tracks whose name contains a specific search string, and returns information about the tracks it found. Basic information (name, genre, album, artist, and composer) are always returned, but you can specify other optional information to display: size information, media information, and sales information. If you pass too many or unknown optional information parameters, it will return an error message."
   ]
  },
  {
   "cell_type": "code",
   "execution_count": 24,
   "id": "4608411d-068c-4d73-b414-2b781756d446",
   "metadata": {},
   "outputs": [],
   "source": [
    "def track_info(search_string, optional_info = []): \n",
    "    \"\"\"Searches the database for `search_string` in the `name` column of the `track` table, and returns the desired information about found tracks.\n",
    "    Always returns at least basic info (name, genre, album, artist, and composer), but other options are specifiable as a list assigned to the `optional_info` kwarg:\n",
    "    - `size`: returns information on the track's size (in kilobytes) and duration (in seconds).\n",
    "    - `media`: returns information the tracks's media format and playlists it is included in.\n",
    "    - `sales`: returns information on how many tracks have been sold and what was the total revenue.\n",
    "    \n",
    "    Returns: dataframe, sorted by `track_name` in ascending order. If optional_info is not a list, or contains more than three options or unknown options, returns an error.\n",
    "    \"\"\"\n",
    "    \n",
    "    # Validate `optional_info`.\n",
    "    if type(optional_info) != list:\n",
    "        return \"Error: `optional_info` must be a list of strings.\"\n",
    "    \n",
    "    if len(optional_info) > 3:\n",
    "        return \"Error: too many items in `optional_info` (max. 3)\"\n",
    "    \n",
    "    allowed_options = [\"size\", \"media\", \"sales\"]\n",
    "    for item in optional_info:\n",
    "        if item not in allowed_options:\n",
    "            return \"Unknown option: '{}'\".format(item)\n",
    "    \n",
    "    # Components of the query.\n",
    "    track_playlists = \"\"\"WITH track_playlists AS (\n",
    "                           SELECT t.track_id, \n",
    "                                  GROUP_CONCAT(pl.name, \", \") AS playlists\n",
    "                           FROM track t \n",
    "                             LEFT JOIN playlist_track pt\n",
    "                                ON t.track_id = pt.track_id\n",
    "                                  LEFT JOIN playlist pl\n",
    "                                    ON pt.playlist_id = pl.playlist_id\n",
    "                           GROUP BY t.track_id)\\n\"\"\"    \n",
    "    \n",
    "    basic_select = \"\"\"SELECT t.name AS track_name,\n",
    "                             IFNULL(g.name, '<Unknown>') AS genre,\n",
    "                             IFNULL(al.title, '<Unknown>') AS album,\n",
    "                             IFNULL(a.name, '<Unknown>') AS artist,\n",
    "                             IFNULL(t.composer, '<Unknown>') AS composer\"\"\"\n",
    "    \n",
    "    size_select = \"\"\"IFNULL(t.milliseconds /1000, '<Unknown>') AS seconds,\n",
    "                     IFNULL(t.bytes /1000, '<Unknown>') as kilobytes\"\"\"\n",
    "    \n",
    "    media_select = \"\"\"IFNULL(mt.name, '<Unknown>') AS media_type,\n",
    "                      IFNULL(tp.playlists, '<None>') AS playlists\"\"\"\n",
    "    \n",
    "    sales_select = \"\"\"IFNULL(SUM(quantity), 0) AS units_sold,\n",
    "                      IFNULL(ROUND(SUM(il.quantity * il.unit_price), 2), 0.0) AS total_revenue\"\"\"\n",
    "        \n",
    "    basic_from = \"\"\"FROM track t\n",
    "                      LEFT JOIN genre g\n",
    "                        ON t.genre_id = g.genre_id\n",
    "                      LEFT JOIN album al\n",
    "                        ON t.album_id = al.album_id\n",
    "                      LEFT JOIN artist a\n",
    "                        ON al.artist_id = a.artist_id\"\"\"\n",
    "    \n",
    "    media_from = \"\"\"LEFT JOIN media_type mt\n",
    "                        ON t.media_type_id = mt.media_type_id\n",
    "                          LEFT JOIN track_playlists tp\n",
    "                            ON t.track_id = tp.track_id\"\"\"\n",
    "    \n",
    "    sales_from = \"\"\"LEFT JOIN invoice_line il\n",
    "                      ON t.track_id = il.track_id\"\"\"\n",
    "    \n",
    "    filter_and_group = \"\"\"WHERE t.name LIKE '%{}%'\n",
    "                          GROUP BY t.track_id\n",
    "                          ORDER BY t.name ASC\"\"\".format(search_string)\n",
    "    \n",
    "    # Build the full query based on the desired options.\n",
    "    full_query = \"\"\n",
    "    columns = [\"track_name\", \"genre\", \"album\", \"artist\", \"composer\"] # Columns of the dataframe containing the results\n",
    "    \n",
    "    # Basic track information is always selected.\n",
    "    select_query = basic_select    \n",
    "    from_query = basic_from\n",
    "    \n",
    "    # Optional information.\n",
    "    if \"size\" in optional_info:\n",
    "        select_query = select_query + \",\\n\" + size_select\n",
    "        columns = columns + [\"seconds\", \"kilobytes\"]\n",
    "    if \"media\" in optional_info:\n",
    "        full_query = track_playlists # This puts the WITH statement atop the full query.\n",
    "        select_query = select_query + \",\\n\" + media_select\n",
    "        from_query = from_query + \"\\n\" + media_from\n",
    "        columns = columns + [\"media_type\", \"playlists\"]\n",
    "    if \"sales\" in optional_info:\n",
    "        select_query = select_query + \",\\n\" + sales_select\n",
    "        from_query = from_query + \"\\n\" + sales_from\n",
    "        columns = columns + [\"units_sold\", \"total_revenue\"]\n",
    "    \n",
    "    full_query = full_query + \"\\n\" + select_query + \"\\n\" + from_query + \"\\n\" + filter_and_group\n",
    "    \n",
    "    # Connect and execute.\n",
    "    conn = sqlite3.connect(\"chinook.db\")\n",
    "    cur = conn.cursor()    \n",
    "    cur.execute(full_query)\n",
    "    data = cur.fetchall()\n",
    "    conn.close()\n",
    "    \n",
    "    # Return the data as a DataFrame.\n",
    "    result = pd.DataFrame(columns = columns, data = data)\n",
    "    return result"
   ]
  },
  {
   "cell_type": "markdown",
   "id": "3a9bf4e4-902a-4620-9830-be5d526b91d3",
   "metadata": {},
   "source": [
    "As an example, say we wanted to find all tracks whose name contains the word \"another\", and display their media and sales information. **Note:** if you see some songs appearing in the same playlist twice, that's not a mistake. For some reason, the `playlist` table contains the playlists `Music` and `TV Shows` twice, and several songs have been added to both copies of both. In a real-world application, this is _definitely_ something that should be looked into and corrected if necessary; but in this case, it's not worth wasting time on it."
   ]
  },
  {
   "cell_type": "code",
   "execution_count": 25,
   "id": "1f244d20-bcb0-49fb-ad6f-75df51a78c3f",
   "metadata": {},
   "outputs": [
    {
     "data": {
      "text/html": [
       "<div>\n",
       "<style scoped>\n",
       "    .dataframe tbody tr th:only-of-type {\n",
       "        vertical-align: middle;\n",
       "    }\n",
       "\n",
       "    .dataframe tbody tr th {\n",
       "        vertical-align: top;\n",
       "    }\n",
       "\n",
       "    .dataframe thead th {\n",
       "        text-align: right;\n",
       "    }\n",
       "</style>\n",
       "<table border=\"1\" class=\"dataframe\">\n",
       "  <thead>\n",
       "    <tr style=\"text-align: right;\">\n",
       "      <th></th>\n",
       "      <th>track_name</th>\n",
       "      <th>genre</th>\n",
       "      <th>album</th>\n",
       "      <th>artist</th>\n",
       "      <th>composer</th>\n",
       "      <th>media_type</th>\n",
       "      <th>playlists</th>\n",
       "      <th>units_sold</th>\n",
       "      <th>total_revenue</th>\n",
       "    </tr>\n",
       "  </thead>\n",
       "  <tbody>\n",
       "    <tr>\n",
       "      <th>0</th>\n",
       "      <td>Another Life</td>\n",
       "      <td>Heavy Metal</td>\n",
       "      <td>Killers</td>\n",
       "      <td>Iron Maiden</td>\n",
       "      <td>Steve Harris</td>\n",
       "      <td>MPEG audio file</td>\n",
       "      <td>Music, Music</td>\n",
       "      <td>1</td>\n",
       "      <td>0.99</td>\n",
       "    </tr>\n",
       "    <tr>\n",
       "      <th>1</th>\n",
       "      <td>Another One Bites The Dust</td>\n",
       "      <td>Rock</td>\n",
       "      <td>Greatest Hits I</td>\n",
       "      <td>Queen</td>\n",
       "      <td>Deacon, John</td>\n",
       "      <td>MPEG audio file</td>\n",
       "      <td>Music, Music</td>\n",
       "      <td>5</td>\n",
       "      <td>4.95</td>\n",
       "    </tr>\n",
       "    <tr>\n",
       "      <th>2</th>\n",
       "      <td>Another Round</td>\n",
       "      <td>Rock</td>\n",
       "      <td>In Your Honor [Disc 2]</td>\n",
       "      <td>Foo Fighters</td>\n",
       "      <td>Dave Grohl, Taylor Hawkins, Nate Mendel, Chris...</td>\n",
       "      <td>MPEG audio file</td>\n",
       "      <td>Music, Music</td>\n",
       "      <td>4</td>\n",
       "      <td>3.96</td>\n",
       "    </tr>\n",
       "    <tr>\n",
       "      <th>3</th>\n",
       "      <td>Jesus Of Suburbia / City Of The Damned / I Don...</td>\n",
       "      <td>Alternative &amp; Punk</td>\n",
       "      <td>American Idiot</td>\n",
       "      <td>Green Day</td>\n",
       "      <td>Billie Joe Armstrong/Green Day</td>\n",
       "      <td>MPEG audio file</td>\n",
       "      <td>Music, Music</td>\n",
       "      <td>4</td>\n",
       "      <td>3.96</td>\n",
       "    </tr>\n",
       "    <tr>\n",
       "      <th>4</th>\n",
       "      <td>Just Another Story</td>\n",
       "      <td>Electronica/Dance</td>\n",
       "      <td>The Return Of The Space Cowboy</td>\n",
       "      <td>Jamiroquai</td>\n",
       "      <td>Toby Smith</td>\n",
       "      <td>MPEG audio file</td>\n",
       "      <td>Music, 90’s Music, Music</td>\n",
       "      <td>2</td>\n",
       "      <td>1.98</td>\n",
       "    </tr>\n",
       "    <tr>\n",
       "      <th>5</th>\n",
       "      <td>Raised By Another</td>\n",
       "      <td>TV Shows</td>\n",
       "      <td>Lost, Season 1</td>\n",
       "      <td>Lost</td>\n",
       "      <td>&lt;Unknown&gt;</td>\n",
       "      <td>Protected MPEG-4 video file</td>\n",
       "      <td>TV Shows, TV Shows</td>\n",
       "      <td>0</td>\n",
       "      <td>0.00</td>\n",
       "    </tr>\n",
       "    <tr>\n",
       "      <th>6</th>\n",
       "      <td>You've Got Another Thing Comin'</td>\n",
       "      <td>Metal</td>\n",
       "      <td>Living After Midnight</td>\n",
       "      <td>Judas Priest</td>\n",
       "      <td>&lt;Unknown&gt;</td>\n",
       "      <td>MPEG audio file</td>\n",
       "      <td>Music, Music</td>\n",
       "      <td>3</td>\n",
       "      <td>2.97</td>\n",
       "    </tr>\n",
       "  </tbody>\n",
       "</table>\n",
       "</div>"
      ],
      "text/plain": [
       "                                          track_name               genre  \\\n",
       "0                                       Another Life         Heavy Metal   \n",
       "1                         Another One Bites The Dust                Rock   \n",
       "2                                      Another Round                Rock   \n",
       "3  Jesus Of Suburbia / City Of The Damned / I Don...  Alternative & Punk   \n",
       "4                                 Just Another Story   Electronica/Dance   \n",
       "5                                  Raised By Another            TV Shows   \n",
       "6                    You've Got Another Thing Comin'               Metal   \n",
       "\n",
       "                            album        artist  \\\n",
       "0                         Killers   Iron Maiden   \n",
       "1                 Greatest Hits I         Queen   \n",
       "2          In Your Honor [Disc 2]  Foo Fighters   \n",
       "3                  American Idiot     Green Day   \n",
       "4  The Return Of The Space Cowboy    Jamiroquai   \n",
       "5                  Lost, Season 1          Lost   \n",
       "6           Living After Midnight  Judas Priest   \n",
       "\n",
       "                                            composer  \\\n",
       "0                                       Steve Harris   \n",
       "1                                       Deacon, John   \n",
       "2  Dave Grohl, Taylor Hawkins, Nate Mendel, Chris...   \n",
       "3                     Billie Joe Armstrong/Green Day   \n",
       "4                                         Toby Smith   \n",
       "5                                          <Unknown>   \n",
       "6                                          <Unknown>   \n",
       "\n",
       "                    media_type                 playlists  units_sold  \\\n",
       "0              MPEG audio file              Music, Music           1   \n",
       "1              MPEG audio file              Music, Music           5   \n",
       "2              MPEG audio file              Music, Music           4   \n",
       "3              MPEG audio file              Music, Music           4   \n",
       "4              MPEG audio file  Music, 90’s Music, Music           2   \n",
       "5  Protected MPEG-4 video file        TV Shows, TV Shows           0   \n",
       "6              MPEG audio file              Music, Music           3   \n",
       "\n",
       "   total_revenue  \n",
       "0           0.99  \n",
       "1           4.95  \n",
       "2           3.96  \n",
       "3           3.96  \n",
       "4           1.98  \n",
       "5           0.00  \n",
       "6           2.97  "
      ]
     },
     "execution_count": 25,
     "metadata": {},
     "output_type": "execute_result"
    }
   ],
   "source": [
    "track_info(\"another\", optional_info = [\"media\", \"sales\"])"
   ]
  },
  {
   "cell_type": "markdown",
   "id": "33722f6b-4081-4cd4-b4a0-dcb3b5efea03",
   "metadata": {
    "tags": []
   },
   "source": [
    "## SQL as DDL"
   ]
  },
  {
   "cell_type": "markdown",
   "id": "a0763eb2-e8b0-4163-b403-29462c073f37",
   "metadata": {},
   "source": [
    "In this section, I'm going to create a simple SQLite database from scratch, populate it with mock-up data, and create a few views that might be used in a real-world scenario. It's a very small library database, whose schema is displayed below. Blue cells indicate primary keys, while green ones are foreign keys."
   ]
  },
  {
   "cell_type": "markdown",
   "id": "b6e2cc2c-c9c6-4814-8982-76cdc0d0987f",
   "metadata": {},
   "source": [
    "![img](library_schema.jpg)"
   ]
  },
  {
   "cell_type": "markdown",
   "id": "7bbd9819-d5c0-4d90-b190-8a85a6a9a235",
   "metadata": {},
   "source": [
    "I was trying to keep things simple, hence there are only four tables, but other tables may include a `cards` table that displays the status of each card (e.g., active, suspended, lost...), a `loan_status` table, or a `library` table, in case this was the database of a network of libraries like Helmet in Helsinki, for example. Now, let's create the database and the tables."
   ]
  },
  {
   "cell_type": "code",
   "execution_count": 26,
   "id": "7af22acb-62f7-40c9-880e-865394edaed3",
   "metadata": {},
   "outputs": [],
   "source": [
    "%%sql\n",
    "sqlite:///library.db"
   ]
  },
  {
   "cell_type": "markdown",
   "id": "e02c09d1-facf-4091-8565-81dec858592c",
   "metadata": {
    "tags": []
   },
   "source": [
    "### Create the author table"
   ]
  },
  {
   "cell_type": "code",
   "execution_count": 27,
   "id": "6537ee09-9773-47c2-9622-c1dd19c57302",
   "metadata": {},
   "outputs": [
    {
     "name": "stdout",
     "output_type": "stream",
     "text": [
      "   sqlite:///chinook.db\n",
      " * sqlite:///library.db\n",
      "Done.\n"
     ]
    },
    {
     "data": {
      "text/plain": [
       "[]"
      ]
     },
     "execution_count": 27,
     "metadata": {},
     "output_type": "execute_result"
    }
   ],
   "source": [
    "%%sql\n",
    "CREATE TABLE author(\n",
    "  author_id INTEGER PRIMARY KEY AUTOINCREMENT,\n",
    "  last_name TEXT NOT NULL,\n",
    "  first_name TEXT NOT NULL,\n",
    "  nationality TEXT NOT NULL\n",
    ");"
   ]
  },
  {
   "cell_type": "markdown",
   "id": "d261b456-552f-4bba-b613-f4967ecb257f",
   "metadata": {},
   "source": [
    "Now let's add some mock-up authors."
   ]
  },
  {
   "cell_type": "code",
   "execution_count": 28,
   "id": "767b943b-a02e-4b52-b8c6-25e510c7d94e",
   "metadata": {},
   "outputs": [
    {
     "name": "stdout",
     "output_type": "stream",
     "text": [
      "   sqlite:///chinook.db\n",
      " * sqlite:///library.db\n",
      "10 rows affected.\n"
     ]
    },
    {
     "data": {
      "text/plain": [
       "[]"
      ]
     },
     "execution_count": 28,
     "metadata": {},
     "output_type": "execute_result"
    }
   ],
   "source": [
    "%%sql\n",
    "INSERT INTO author(last_name, first_name, nationality)\n",
    "VALUES\n",
    "    (\"Black\", \"Jack\", \"American\"),\n",
    "    (\"Garcia\", \"Elena\", \"Spanish\"),\n",
    "    (\"Perrier\", \"Milo\", \"French\"),\n",
    "    (\"Fletcher\", \"Jessica\", \"British\"),\n",
    "    (\"Conan Doyle\", \"Arthur\", \"British\"),\n",
    "    (\"Calvino\", \"Italo\", \"Italian\"),\n",
    "    (\"Pekkanen\", \"Pekka\", \"Finnish\"),\n",
    "    (\"Lindstedt\", \"Maria\", \"Swedish\"),\n",
    "    (\"Karamazova\", \"Irina\", \"Russian\"),\n",
    "    (\"Greve\", \"Verena\", \"German\")"
   ]
  },
  {
   "cell_type": "markdown",
   "id": "248cae34-a4fc-4c05-b5e3-dd57856cd240",
   "metadata": {
    "tags": []
   },
   "source": [
    "### Create the book table"
   ]
  },
  {
   "cell_type": "code",
   "execution_count": 29,
   "id": "4e7fa6f9-ac4c-4b7c-bc58-86b8a5fe3cb9",
   "metadata": {},
   "outputs": [
    {
     "name": "stdout",
     "output_type": "stream",
     "text": [
      "   sqlite:///chinook.db\n",
      " * sqlite:///library.db\n",
      "Done.\n"
     ]
    },
    {
     "data": {
      "text/plain": [
       "[]"
      ]
     },
     "execution_count": 29,
     "metadata": {},
     "output_type": "execute_result"
    }
   ],
   "source": [
    "%%sql\n",
    "CREATE TABLE book(\n",
    "    book_id INTEGER PRIMARY KEY AUTOINCREMENT,\n",
    "    title TEXT NOT NULL,\n",
    "    author_id INTEGER NOT NULL,\n",
    "    isbn CHAR(20) NOT NULL,\n",
    "    language TEXT NOT NULL,\n",
    "    genre TEXT NOT NULL,\n",
    "    FOREIGN KEY (author_id)\n",
    "        REFERENCES author (author_id)\n",
    ")"
   ]
  },
  {
   "cell_type": "markdown",
   "id": "43530c6e-9a4f-4b0a-a713-d0fd19bc7f2b",
   "metadata": {},
   "source": [
    "Let's add books to the book table."
   ]
  },
  {
   "cell_type": "code",
   "execution_count": 30,
   "id": "92fd15ea-7ecf-45cf-a97c-5194401ae1e1",
   "metadata": {},
   "outputs": [
    {
     "name": "stdout",
     "output_type": "stream",
     "text": [
      "   sqlite:///chinook.db\n",
      " * sqlite:///library.db\n",
      "17 rows affected.\n"
     ]
    },
    {
     "data": {
      "text/plain": [
       "[]"
      ]
     },
     "execution_count": 30,
     "metadata": {},
     "output_type": "execute_result"
    }
   ],
   "source": [
    "%%sql\n",
    "INSERT INTO book(title, author_id, isbn, language, genre)\n",
    "VALUES\n",
    "    (\"How to do things\", 1, \"978-3-16-148410-0\", \"American English\", \"Non-fiction\"),\n",
    "    (\"How NOT to do things\", 1, \"948-7-25-168218-9\", \"American English\", \"Non-fiction\"),\n",
    "    (\"SQL por tontos \", 2, \"043-2-79-546711-4\", \"Spanish\", \"Programming\"),\n",
    "    (\"Python no es una serpiente\", 2, \"047-8-41-295837-2\", \"Spanish\", \"Programming\"),\n",
    "    (\"Cómo crear títulos de libros ingeniosos\", 2, \"738-1-88-029588-1\", \"Spanish\", \"DIY\"),\n",
    "    (\"La vie en rose\", 3, \"123-4-56-789098-7\", \"French\", \"Novels\"),\n",
    "    (\"The butler with the knife in the living room\", 4, \"135-7-99-143563-2\", \"English\", \"Crime fiction\"),\n",
    "    (\"Agatha Christie investigates\", 4, \"423-7-13-888798-3\", \"English\", \"Crime fiction\"),\n",
    "    (\"Sherlock Holmes is for suckers\", 4, \"144-1-44-144144-1\", \"English\", \"Crime fiction\"),\n",
    "    (\"And so is Inspector Gadget\", 4, \"222-1-33-555555-6\", \"English\", \"Crime fiction\"),\n",
    "    (\"All Sherlock Holmes (whom is NOT for suckers!)\", 5, \"000-1-22-333333-4\", \"English\", \"Crime fiction\"),\n",
    "    (\"Il cavaliere inesistente\", 6, \"321-6-54-098765-4\", \"Italian\", \"Fiction\"),\n",
    "    (\"Le cosmicomiche\", 6, \"111-0-66-132453-8\", \"Italian\", \"Fiction\"),\n",
    "    (\"Vanhemmani luulivat olevansa tosi hauskoja\", 7, \"000-6-33-444555-5\", \"Finnish\", \"Drama\"),\n",
    "    (\"14 veljestä - Kun inflaatio on 100%\", 7, \"135-0-00-111888-9\", \"Finnish\", \"Economics\"),\n",
    "    (\"Detta är en bok\", 9, \"564-7-12-787878-4\", \"Swedish\", \"Truisms\"),\n",
    "    (\"Deutsch für fast alle\", 10, \"132-0-73-978143-4\", \"German\", \"Languages\")    "
   ]
  },
  {
   "cell_type": "markdown",
   "id": "2dcee282-78cd-4af5-83c9-bbb6ee98f552",
   "metadata": {
    "tags": []
   },
   "source": [
    "### Create the customer table"
   ]
  },
  {
   "cell_type": "code",
   "execution_count": 31,
   "id": "71c786d4-31b2-4159-b751-48c98dc077dd",
   "metadata": {},
   "outputs": [
    {
     "name": "stdout",
     "output_type": "stream",
     "text": [
      "   sqlite:///chinook.db\n",
      " * sqlite:///library.db\n",
      "Done.\n"
     ]
    },
    {
     "data": {
      "text/plain": [
       "[]"
      ]
     },
     "execution_count": 31,
     "metadata": {},
     "output_type": "execute_result"
    }
   ],
   "source": [
    "%%sql\n",
    "CREATE TABLE customer(\n",
    "    customer_id INTEGER PRIMARY KEY AUTOINCREMENT,    \n",
    "    last_name TEXT NOT NULL,\n",
    "    first_name TEXT NOT NULL,\n",
    "    title TEXT,\n",
    "    date_of_birth DATE NOT NULL,\n",
    "    card_number INTEGER NOT NULL,\n",
    "    address TEXT NOT NULL,\n",
    "    phone CHAR(20),\n",
    "    email CHAR(50)\n",
    ")"
   ]
  },
  {
   "cell_type": "markdown",
   "id": "7783f290-a9d3-4a52-9918-c3314b01a928",
   "metadata": {},
   "source": [
    "Let's add a few made-up library customers."
   ]
  },
  {
   "cell_type": "code",
   "execution_count": 32,
   "id": "c98924d8-4eca-4641-8261-70f3b7d12784",
   "metadata": {},
   "outputs": [
    {
     "name": "stdout",
     "output_type": "stream",
     "text": [
      "   sqlite:///chinook.db\n",
      " * sqlite:///library.db\n",
      "5 rows affected.\n"
     ]
    },
    {
     "data": {
      "text/plain": [
       "[]"
      ]
     },
     "execution_count": 32,
     "metadata": {},
     "output_type": "execute_result"
    }
   ],
   "source": [
    "%%sql\n",
    "INSERT INTO customer(last_name, first_name, title, date_of_birth, card_number, address, phone, email)\n",
    "VALUES\n",
    "    (\"Customer\", \"Carl\", \"Mr.\",\"1/4/1988\", 123456789, \"This street 5, Gotham city\", \"+4564588799\", \"carl.customer@google.com\"),\n",
    "    (\"Patron\", \"Patricia\", \"Miss\", \"25/12/1996\", 987654321, \"That street 10, Mouseville\", NULL, \"pattyp@yahoo.com\"),\n",
    "    (\"Reader\", \"Roy\", NULL, \"13/2/1912\", 123459876, \"Rue de les livres 34, Paris\", \"+9178938483\", NULL),\n",
    "    (\"Lettrice\", \"Lina\", \"Mrs.\", \"20/11/1967\", 999999999, \"Via col Vento 3, Rome\", \"+3904156889743\", \"lina-lett@altavista.it\"),\n",
    "    (\"Book\", \"Bob\", \"Mr.\", \"4/7/1954\", 121245456, \"Leaflet street 8, Booksville\", NULL, \"bob.book@provider.co.uk\")"
   ]
  },
  {
   "cell_type": "markdown",
   "id": "ce3a4999-99cc-480c-bf8f-b4646f1495f9",
   "metadata": {
    "tags": []
   },
   "source": [
    "### Create the loan table"
   ]
  },
  {
   "cell_type": "code",
   "execution_count": 33,
   "id": "70dac5de-467a-4f65-b0b3-e367668b87d0",
   "metadata": {},
   "outputs": [
    {
     "name": "stdout",
     "output_type": "stream",
     "text": [
      "   sqlite:///chinook.db\n",
      " * sqlite:///library.db\n",
      "Done.\n"
     ]
    },
    {
     "data": {
      "text/plain": [
       "[]"
      ]
     },
     "execution_count": 33,
     "metadata": {},
     "output_type": "execute_result"
    }
   ],
   "source": [
    "%%sql\n",
    "CREATE TABLE loan(\n",
    "    loan_id INTEGER PRIMARY KEY AUTOINCREMENT,\n",
    "    book_id INTEGER NOT NULL,\n",
    "    customer_id INTEGER NOT NULL,\n",
    "    due_date DATE NOT NULL,\n",
    "    status TEXT NOT NULL,\n",
    "    FOREIGN KEY (book_id)\n",
    "        REFERENCES book (book_id),\n",
    "    FOREIGN KEY (customer_id)\n",
    "        REFERENCES customer (customer_id))"
   ]
  },
  {
   "cell_type": "markdown",
   "id": "538c1d31-3cfe-442b-86ee-40f1d010efa8",
   "metadata": {},
   "source": [
    "Now, let's make our customers loan a few books."
   ]
  },
  {
   "cell_type": "code",
   "execution_count": 34,
   "id": "8d371756-edbe-445e-81d8-e1a0c7b97874",
   "metadata": {},
   "outputs": [
    {
     "name": "stdout",
     "output_type": "stream",
     "text": [
      "   sqlite:///chinook.db\n",
      " * sqlite:///library.db\n",
      "7 rows affected.\n"
     ]
    },
    {
     "data": {
      "text/plain": [
       "[]"
      ]
     },
     "execution_count": 34,
     "metadata": {},
     "output_type": "execute_result"
    }
   ],
   "source": [
    "%%sql\n",
    "INSERT INTO loan(book_id, customer_id, due_date, status)\n",
    "VALUES\n",
    "    (5, 3, \"1.4.2021\", \"Returned\"),\n",
    "    (6, 4, \"12.3.2022\", \"Overdue\"),\n",
    "    (17, 1, \"15.05.2022\", \"Out\"),\n",
    "    (9, 4, \"14.3.2022\", \"Overdue\"),\n",
    "    (15, 2, \"5.4.2022\", \"Out\"),\n",
    "    (2, 3, \"1.4.2021\", \"Returned\"),\n",
    "    (10, 4, \"14.3.2022\", \"Overdue\")"
   ]
  },
  {
   "cell_type": "markdown",
   "id": "0ff373af-a30b-40a2-b2d5-2d672c4ee844",
   "metadata": {},
   "source": [
    "### Adding views"
   ]
  },
  {
   "cell_type": "markdown",
   "id": "9d9d92df-922a-43a6-9c5a-c5a524d5f132",
   "metadata": {},
   "source": [
    "Below are a few views that may be useful to have if this database was for a real library. The `loans` view shows data about all loands on record; the `customer_loan_stats` view visualises how many books each customer has borrowed from the library, how many have\\haven't been returned and how many loans are overdue. Finally, the `author_stats` view displays how many books there are in the library for each author, and how many books of each author have been loaned to customers."
   ]
  },
  {
   "cell_type": "code",
   "execution_count": 35,
   "id": "e67320b9-ed75-4d4a-9eff-8223259fdaef",
   "metadata": {},
   "outputs": [
    {
     "name": "stdout",
     "output_type": "stream",
     "text": [
      "   sqlite:///chinook.db\n",
      " * sqlite:///library.db\n",
      "Done.\n",
      "Done.\n",
      "Done.\n"
     ]
    },
    {
     "data": {
      "text/plain": [
       "[]"
      ]
     },
     "execution_count": 35,
     "metadata": {},
     "output_type": "execute_result"
    }
   ],
   "source": [
    "%%sql\n",
    "CREATE VIEW loans(loan_id, book_title, due_date, status, borrowed_by)\n",
    "AS\n",
    "    SELECT l.loan_id,           \n",
    "           b.title, \n",
    "           l.due_date,\n",
    "           l.status,\n",
    "           c.last_name || \", \" || c.first_name\n",
    "      FROM loan l\n",
    "       LEFT JOIN book b\n",
    "         ON l.book_id = b.book_id\n",
    "           LEFT JOIN customer c\n",
    "             ON l.customer_id = c.customer_id;\n",
    "            \n",
    "CREATE VIEW customer_loan_stats\n",
    "AS\n",
    "    SELECT c.last_name || \", \" || c.first_name AS customer_name,\n",
    "           COUNT(l.loan_id) AS total_loans,\n",
    "           COUNT(l.status) FILTER (WHERE l.status = \"Out\") AS active_loans,\n",
    "           COUNT(l.status) FILTER (WHERE l.status = \"Returned\") AS returned_loans,\n",
    "           COUNT(l.status) FILTER (WHERE l.status = \"Overdue\") AS overdue_loans\n",
    "      FROM customer c\n",
    "        LEFT JOIN loan l\n",
    "          ON c.customer_id = l.customer_id\n",
    "     GROUP BY customer_name;\n",
    "    \n",
    "CREATE VIEW author_stats\n",
    "AS\n",
    "    SELECT a.last_name || \", \" || a.first_name AS author_name,\n",
    "           COUNT(b.book_id) AS total_books,\n",
    "           COUNT(l.loan_id) AS loaned\n",
    "      FROM author a\n",
    "        LEFT JOIN book b\n",
    "          ON a.author_id = b.author_id\n",
    "            LEFT JOIN loan l\n",
    "              ON b.book_id = l.book_id\n",
    "     GROUP BY author_name;    "
   ]
  },
  {
   "cell_type": "markdown",
   "id": "adddc47a-ea56-499e-a755-5aa46ce22cfa",
   "metadata": {},
   "source": [
    "To conclude this demo, here are the three views above in action.\n",
    "`loans`"
   ]
  },
  {
   "cell_type": "code",
   "execution_count": 36,
   "id": "28fdb084-fe3b-4cf2-b1a0-9de31e7b4d59",
   "metadata": {},
   "outputs": [
    {
     "name": "stdout",
     "output_type": "stream",
     "text": [
      "   sqlite:///chinook.db\n",
      " * sqlite:///library.db\n",
      "Done.\n"
     ]
    },
    {
     "data": {
      "text/html": [
       "<table>\n",
       "    <tr>\n",
       "        <th>loan_id</th>\n",
       "        <th>book_title</th>\n",
       "        <th>due_date</th>\n",
       "        <th>status</th>\n",
       "        <th>borrowed_by</th>\n",
       "    </tr>\n",
       "    <tr>\n",
       "        <td>3</td>\n",
       "        <td>Deutsch für fast alle</td>\n",
       "        <td>15.05.2022</td>\n",
       "        <td>Out</td>\n",
       "        <td>Customer, Carl</td>\n",
       "    </tr>\n",
       "    <tr>\n",
       "        <td>5</td>\n",
       "        <td>14 veljestä - Kun inflaatio on 100%</td>\n",
       "        <td>5.4.2022</td>\n",
       "        <td>Out</td>\n",
       "        <td>Patron, Patricia</td>\n",
       "    </tr>\n",
       "    <tr>\n",
       "        <td>2</td>\n",
       "        <td>La vie en rose</td>\n",
       "        <td>12.3.2022</td>\n",
       "        <td>Overdue</td>\n",
       "        <td>Lettrice, Lina</td>\n",
       "    </tr>\n",
       "    <tr>\n",
       "        <td>4</td>\n",
       "        <td>Sherlock Holmes is for suckers</td>\n",
       "        <td>14.3.2022</td>\n",
       "        <td>Overdue</td>\n",
       "        <td>Lettrice, Lina</td>\n",
       "    </tr>\n",
       "    <tr>\n",
       "        <td>7</td>\n",
       "        <td>And so is Inspector Gadget</td>\n",
       "        <td>14.3.2022</td>\n",
       "        <td>Overdue</td>\n",
       "        <td>Lettrice, Lina</td>\n",
       "    </tr>\n",
       "    <tr>\n",
       "        <td>1</td>\n",
       "        <td>Cómo crear títulos de libros ingeniosos</td>\n",
       "        <td>1.4.2021</td>\n",
       "        <td>Returned</td>\n",
       "        <td>Reader, Roy</td>\n",
       "    </tr>\n",
       "    <tr>\n",
       "        <td>6</td>\n",
       "        <td>How NOT to do things</td>\n",
       "        <td>1.4.2021</td>\n",
       "        <td>Returned</td>\n",
       "        <td>Reader, Roy</td>\n",
       "    </tr>\n",
       "</table>"
      ],
      "text/plain": [
       "[(3, 'Deutsch für fast alle', '15.05.2022', 'Out', 'Customer, Carl'),\n",
       " (5, '14 veljestä - Kun inflaatio on 100%', '5.4.2022', 'Out', 'Patron, Patricia'),\n",
       " (2, 'La vie en rose', '12.3.2022', 'Overdue', 'Lettrice, Lina'),\n",
       " (4, 'Sherlock Holmes is for suckers', '14.3.2022', 'Overdue', 'Lettrice, Lina'),\n",
       " (7, 'And so is Inspector Gadget', '14.3.2022', 'Overdue', 'Lettrice, Lina'),\n",
       " (1, 'Cómo crear títulos de libros ingeniosos', '1.4.2021', 'Returned', 'Reader, Roy'),\n",
       " (6, 'How NOT to do things', '1.4.2021', 'Returned', 'Reader, Roy')]"
      ]
     },
     "execution_count": 36,
     "metadata": {},
     "output_type": "execute_result"
    }
   ],
   "source": [
    "%%sql\n",
    "SELECT * FROM loans\n",
    "ORDER BY status ASC, due_date ASC"
   ]
  },
  {
   "cell_type": "markdown",
   "id": "b705c93b-132e-4690-9374-f0caacbcf9a0",
   "metadata": {},
   "source": [
    "`customer_loan_stats`"
   ]
  },
  {
   "cell_type": "code",
   "execution_count": 37,
   "id": "93e7c001-dbf4-420a-a142-70ba5b57eac3",
   "metadata": {},
   "outputs": [
    {
     "name": "stdout",
     "output_type": "stream",
     "text": [
      "   sqlite:///chinook.db\n",
      " * sqlite:///library.db\n",
      "Done.\n"
     ]
    },
    {
     "data": {
      "text/html": [
       "<table>\n",
       "    <tr>\n",
       "        <th>customer_name</th>\n",
       "        <th>total_loans</th>\n",
       "        <th>active_loans</th>\n",
       "        <th>returned_loans</th>\n",
       "        <th>overdue_loans</th>\n",
       "    </tr>\n",
       "    <tr>\n",
       "        <td>Lettrice, Lina</td>\n",
       "        <td>3</td>\n",
       "        <td>0</td>\n",
       "        <td>0</td>\n",
       "        <td>3</td>\n",
       "    </tr>\n",
       "    <tr>\n",
       "        <td>Reader, Roy</td>\n",
       "        <td>2</td>\n",
       "        <td>0</td>\n",
       "        <td>2</td>\n",
       "        <td>0</td>\n",
       "    </tr>\n",
       "    <tr>\n",
       "        <td>Customer, Carl</td>\n",
       "        <td>1</td>\n",
       "        <td>1</td>\n",
       "        <td>0</td>\n",
       "        <td>0</td>\n",
       "    </tr>\n",
       "    <tr>\n",
       "        <td>Patron, Patricia</td>\n",
       "        <td>1</td>\n",
       "        <td>1</td>\n",
       "        <td>0</td>\n",
       "        <td>0</td>\n",
       "    </tr>\n",
       "    <tr>\n",
       "        <td>Book, Bob</td>\n",
       "        <td>0</td>\n",
       "        <td>0</td>\n",
       "        <td>0</td>\n",
       "        <td>0</td>\n",
       "    </tr>\n",
       "</table>"
      ],
      "text/plain": [
       "[('Lettrice, Lina', 3, 0, 0, 3),\n",
       " ('Reader, Roy', 2, 0, 2, 0),\n",
       " ('Customer, Carl', 1, 1, 0, 0),\n",
       " ('Patron, Patricia', 1, 1, 0, 0),\n",
       " ('Book, Bob', 0, 0, 0, 0)]"
      ]
     },
     "execution_count": 37,
     "metadata": {},
     "output_type": "execute_result"
    }
   ],
   "source": [
    "%%sql\n",
    "SELECT * FROM customer_loan_stats\n",
    "ORDER BY total_loans DESC, overdue_loans DESC"
   ]
  },
  {
   "cell_type": "markdown",
   "id": "556fccc4-5a24-49ed-8bca-9e58a54b8831",
   "metadata": {},
   "source": [
    "`author_stats`"
   ]
  },
  {
   "cell_type": "code",
   "execution_count": 38,
   "id": "4b4af8ce-7e33-41ae-90f4-798f45c901c6",
   "metadata": {},
   "outputs": [
    {
     "name": "stdout",
     "output_type": "stream",
     "text": [
      "   sqlite:///chinook.db\n",
      " * sqlite:///library.db\n",
      "Done.\n"
     ]
    },
    {
     "data": {
      "text/html": [
       "<table>\n",
       "    <tr>\n",
       "        <th>author_name</th>\n",
       "        <th>total_books</th>\n",
       "        <th>loaned</th>\n",
       "    </tr>\n",
       "    <tr>\n",
       "        <td>Fletcher, Jessica</td>\n",
       "        <td>4</td>\n",
       "        <td>2</td>\n",
       "    </tr>\n",
       "    <tr>\n",
       "        <td>Garcia, Elena</td>\n",
       "        <td>3</td>\n",
       "        <td>1</td>\n",
       "    </tr>\n",
       "    <tr>\n",
       "        <td>Black, Jack</td>\n",
       "        <td>2</td>\n",
       "        <td>1</td>\n",
       "    </tr>\n",
       "    <tr>\n",
       "        <td>Pekkanen, Pekka</td>\n",
       "        <td>2</td>\n",
       "        <td>1</td>\n",
       "    </tr>\n",
       "    <tr>\n",
       "        <td>Calvino, Italo</td>\n",
       "        <td>2</td>\n",
       "        <td>0</td>\n",
       "    </tr>\n",
       "    <tr>\n",
       "        <td>Greve, Verena</td>\n",
       "        <td>1</td>\n",
       "        <td>1</td>\n",
       "    </tr>\n",
       "    <tr>\n",
       "        <td>Perrier, Milo</td>\n",
       "        <td>1</td>\n",
       "        <td>1</td>\n",
       "    </tr>\n",
       "    <tr>\n",
       "        <td>Conan Doyle, Arthur</td>\n",
       "        <td>1</td>\n",
       "        <td>0</td>\n",
       "    </tr>\n",
       "    <tr>\n",
       "        <td>Karamazova, Irina</td>\n",
       "        <td>1</td>\n",
       "        <td>0</td>\n",
       "    </tr>\n",
       "    <tr>\n",
       "        <td>Lindstedt, Maria</td>\n",
       "        <td>0</td>\n",
       "        <td>0</td>\n",
       "    </tr>\n",
       "</table>"
      ],
      "text/plain": [
       "[('Fletcher, Jessica', 4, 2),\n",
       " ('Garcia, Elena', 3, 1),\n",
       " ('Black, Jack', 2, 1),\n",
       " ('Pekkanen, Pekka', 2, 1),\n",
       " ('Calvino, Italo', 2, 0),\n",
       " ('Greve, Verena', 1, 1),\n",
       " ('Perrier, Milo', 1, 1),\n",
       " ('Conan Doyle, Arthur', 1, 0),\n",
       " ('Karamazova, Irina', 1, 0),\n",
       " ('Lindstedt, Maria', 0, 0)]"
      ]
     },
     "execution_count": 38,
     "metadata": {},
     "output_type": "execute_result"
    }
   ],
   "source": [
    "%%sql\n",
    "SELECT * FROM author_stats\n",
    "ORDER BY total_books DESC, loaned DESC"
   ]
  }
 ],
 "metadata": {
  "kernelspec": {
   "display_name": "Python 3 (ipykernel)",
   "language": "python",
   "name": "python3"
  },
  "language_info": {
   "codemirror_mode": {
    "name": "ipython",
    "version": 3
   },
   "file_extension": ".py",
   "mimetype": "text/x-python",
   "name": "python",
   "nbconvert_exporter": "python",
   "pygments_lexer": "ipython3",
   "version": "3.9.12"
  }
 },
 "nbformat": 4,
 "nbformat_minor": 5
}
