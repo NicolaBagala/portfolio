{
 "cells": [
  {
   "cell_type": "markdown",
   "id": "9c32e210-efb3-47a9-b03d-b16f03fb0412",
   "metadata": {
    "tags": []
   },
   "source": [
    "# A Deep Dive Into The _Tomb Raider_ Fanbase (Codefree)"
   ]
  },
  {
   "cell_type": "markdown",
   "id": "453077c4-5910-4820-8327-fed4dee95928",
   "metadata": {
    "tags": []
   },
   "source": [
    "## Introduction"
   ]
  },
  {
   "cell_type": "markdown",
   "id": "93f1bfc5-bfa4-4a29-aacb-4db6cafd4c52",
   "metadata": {
    "tags": []
   },
   "source": [
    "This analysis is a \"remake\" of a project I made for fun and shared on my blog and my YouTube channel. It focusses on [Lara Croft](https://en.wikipedia.com/wiki/Lara_Croft), the fictional British archaeologist-adventurer starring as the main character of the [_Tomb Raider_](https://en.wikipedia.com/wiki/Tomb_Raider) videogame franchise. (This is the codefree version of the project; if you're interested in the code, click [here](https://github.com/NicolaBagala/portfolio/blob/master/data/tomb_raider_survey/tr_survey.ipynb).)\n",
    "\n",
    "Lara Croft has notoriously been a controversial character ever since her debut in 1996. While her fans regard her as an empowered heroine in the male-dominated videogame landscape, detractors see her as just another oversexualised female character created merely to please male players, and whose intentionally exaggerated sex appeal was exploited as a promotional and marketing gimmick from the very start.\n",
    "\n",
    "The above is especially true of the very first [_Tomb Raider_ series](https://en.wikipedia.org/wiki/Tomb_Raider#History) (known as the Classic series) and the LAU trilogy, the franchise's first reboot. (LAU stands for _Legend_, _Anniversary_, and _Underworld_, the three installments in the series.) Differences between these two series are relatively minimal in every respect, but the same can't be said of the _Survivor_ trilogy. This was a hard reboot that dramatically changed the gameplay, the backstory, and Lara's character inside out; she was given a more average-looking body and face, as well as a rather different personality, all of which should supposedly have made her a more relatable character for modern audiences and especially female players. However, the stark constrast between _Survivor_ games and preceeding ones has polarised the fandom somewhat: while some players seem to enjoy all _Tomb Raider_ series, many others appear to prefer strongly either Classic and/or LAU games or _Survivor_ games, and the same can be said of the different versions of Lara starring in each series.\n",
    "\n",
    "After spending some time interacting with the _Tomb Raider_ fanbase and reading articles about the franchise history, I was left with questions to answer and doubts to resolve:\n",
    "\n",
    "1. **Is it true that Lara's exaggerated sex appeal in Classic and LAU games made both the games and the character unlikeable to female players?** Do they prefer Survivor Lara and/or _Survivor_ games instead?\n",
    "2. Classic and LAU Lara's sex appeal was supposedly intended to attract straight male players. **Do straight males actually prefer Classic/LAU Lara over Survivor Lara?**\n",
    "3. **Does the fandom agree that Classic/LAU Lara was oversexualised? In what ways?** What percentage of the fandom agrees? What factors, if any, influenced their opinion?\n",
    "\n",
    "To answer these questions, I prepared a [survey](https://docs.google.com/forms/d/e/1FAIpQLSfo33HsdO5OEmI620z8POBSucdDoZphy8X_JqxjGxZoS6I7eg/viewform) in Google Forms and shared it on _Tomb Raider_-related subreddits, Facebook groups, Twitter accounts, Discord servers, and forums, in the summer of 2021; only respondents who played at least one _Tomb Raider_ game were allowed to complete the survey. The scope of my original project was actually larger than just answering the three questions above, but here I'm going to deal only with these questions plus a few extra ones to better understand the _Tomb Raider_ fanbase. Due to limited sample size, this will be mostly an exploratory analysis of the survey results, but I will also make use of statistical inference to try to generalise some conclusions to the fanbase as a whole."
   ]
  },
  {
   "cell_type": "markdown",
   "id": "89b009a2-69b8-4137-a699-57bfadb6535c",
   "metadata": {
    "tags": []
   },
   "source": [
    "## The dataset"
   ]
  },
  {
   "cell_type": "markdown",
   "id": "b35234e5-10df-43bc-a157-a55b218868ac",
   "metadata": {},
   "source": [
    "A total of 208 people completed my survey; this is only a very small fraction of the _Tomb Raider_ fanbase (at the time of writing, [/r/TombRaider](https://reddit.com/r/TombRaider) alone counts nearly 50,000 subscribers), and many of its subsamples that we will see are simply far too small to do any reliable statistical analysis on them. In few cases when the subsample size was at least within the assumptions of the central limit theorem, I constructed confidence intervals for the observed point estimates, but they're all to be taken with several grains of salt because of the fairly large margin of error. Whether the sample can be considered truly random is arguable, but in the circumstancs we will assume it is. (You should always strive to get the best data, but sometimes all you can do is make the most of whatever little data you have.)\n",
    "\n",
    "Each row in the dataset represents a unique survey taker; columns contain the answers to the questions that respondents were asked. The dataset we'll be working with is smaller than the original; as we're interested in only some of the questions, it has the same number of rows but a smaller number of columns. In this section, we'll get quickly familiar with it."
   ]
  },
  {
   "cell_type": "markdown",
   "id": "f5303d80-b9cf-4c00-8ff9-3d375ca9dce1",
   "metadata": {},
   "source": [
    "- the columns `LIKE_CLASSIC`, `LIKE_LAU`, and `LIKE_SURVIVOR` quantify how much each respondent enjoyed the specific _Tomb Raider_ series;\n",
    "- `FAVOURITE_LARA` specifies the respondent's favourite version of Lara, if any; it can be `Classic`, `LAU`, `Survivor` or `None`;\n",
    "- `CLL_OVERSEX` can be `Yes`, `No`, or `Unsure/Don't know`, depending on whether the respondent thought Classic and/or LAU Lara were oversexualised (`CLL` stands for \"**C**lassic/**L**AU **L**ara\", an abbreviation we'll use often);\n",
    "- Columns from `CLL_OSX_FACE` to `CLL_OSX_OTHER` specify which features of CLL were oversexualised in the respondents' opinion;\n",
    "- `CLASSIC_ATTR`, `LAU_ATTR`, and `SURVIVOR_ATTR` indicate which versions of Lara respondents found attractive (this information is used to detect possible bias in some answers, among other things);\n",
    "- Finally, `SEX`, `ORIENTATION`, and `AGE_GROUP` describe the respondents in terms of their biological sex, sexual orientation, and age.\n",
    "\n",
    "Data wrangling was done in Google Sheets, so there is no wrangling left to do here. (If you're interested in seeing how I did that, you can do so [here](https://docs.google.com/spreadsheets/d/1sVNQTFukXR4EWABuUwdyz_kBW-xvAq20ixFzJu-X_Wk/edit?usp=sharing).) The survey had no write-ins and no answer could be left blank."
   ]
  },
  {
   "cell_type": "markdown",
   "id": "b79903e2-7b31-4ba3-b836-39fb46119d58",
   "metadata": {
    "tags": []
   },
   "source": [
    "## Analysis"
   ]
  },
  {
   "cell_type": "markdown",
   "id": "4c3356fc-eb4d-4aae-992c-609b7e50c3d7",
   "metadata": {},
   "source": [
    "We'll start with an overview of the fandom's demographics, to get a better sense of the sample we're dealing with. Then, we'll move on to finding out how much the fans enjoyed each different series and what version of Lara they like the most. This will not just answer some of our questions per se, but also help us detect bias later on, when we'll try to figure out whether CLL was or wasn't oversexualised according to the respondents. Finally, we'll see how, if at all, they thought CLL was oversexualised."
   ]
  },
  {
   "cell_type": "markdown",
   "id": "4418c772",
   "metadata": {
    "tags": []
   },
   "source": [
    "### The _Tomb Raider_ fandom seems predominantly male"
   ]
  },
  {
   "cell_type": "markdown",
   "id": "31c1bcdf-8dfd-488d-bfcf-08bbcbcc0faf",
   "metadata": {},
   "source": [
    "The largest demographic group in the sample is that of straight males between the ages of 25 and 34 (16.3%). The second (13.5%) and third (10.1%) largest groups are still male, differing only in sexual orientation and/or age group; straight females between the ages of 25 and 34 come in fourth place, standing at 9.1% of the sample. "
   ]
  },
  {
   "cell_type": "markdown",
   "id": "7399c0dd-23bd-46c2-ac57-6aa83bc599e5",
   "metadata": {},
   "source": [
    "![](figures/first_five_soa.png)"
   ]
  },
  {
   "cell_type": "markdown",
   "id": "81b7eed0-ef6b-41f6-b7c8-cc09422e008b",
   "metadata": {},
   "source": [
    "In general, **the sample was predominantly male, with females constituting only about 30% of the respondents,** as shown below."
   ]
  },
  {
   "cell_type": "markdown",
   "id": "1198e726-b315-46da-850a-13d2178a6e75",
   "metadata": {},
   "source": [
    "![](figures/figure_1.svg)"
   ]
  },
  {
   "cell_type": "markdown",
   "id": "c5eac533-db50-422f-a691-ede83e3fa394",
   "metadata": {},
   "source": [
    "_`Figure 1. Sex distribution of the sample.`_"
   ]
  },
  {
   "cell_type": "markdown",
   "id": "f5142b05-9aa0-4220-af9a-db6f210a56d3",
   "metadata": {},
   "source": [
    "[Historically](https://en.wikipedia.org/wiki/Women_and_video_games), most gamers were male, especially during the earlier years of the _Tomb Raider_ franchise. This might be a reason explaining the lower percentage of female _Tomb Raider_ fans, despite the fact that the overall percentage of female gamers is presently inching towards 50%. However, this statistic is most likely affected by the userbase of the platforms where I shared my survey; for example, Reddit is [mostly male](https://www.statista.com/statistics/1255182/distribution-of-users-on-reddit-worldwide-gender/), and so is [Twitter](https://www.statista.com/statistics/828092/distribution-of-users-on-twitter-worldwide-gender/). The same reasoning applies to other demographic variables: any over- or underrepresented age cohorts or sexual orientations on the social media outlets I used are likely to have skewed the results.\n",
    "\n",
    "Interestingly, while **heterosexual players constitute the majority of the sample,** they're not the _absolute_ majority."
   ]
  },
  {
   "cell_type": "markdown",
   "id": "984dcf91-1aa4-4418-869d-c551e780413f",
   "metadata": {},
   "source": [
    "![](figures/figure_2.svg)"
   ]
  },
  {
   "cell_type": "markdown",
   "id": "d71344cb-1df5-41fa-806f-bc800e1f2a34",
   "metadata": {},
   "source": [
    "_`Figure 2. Sexual orientation distribution of the sample.`_"
   ]
  },
  {
   "cell_type": "markdown",
   "id": "3b174da3-1dda-4ff1-b732-635c5b53d18d",
   "metadata": {},
   "source": [
    "**The majority of the respondents were between the ages of 25 and 34,** meaning that they were at most about 10 years old when the first _Tomb Raider_ was released and they may well have been fans ever since the franchise's early days. Keeping in mind the aforementioned caveats on the representativity of this sample, it's however interesting that only about 11% of the respondents were in the 35-44 age group; people of this cohort were teenagers when Lara Croft first appeared on the scene, and I would have expected them to constitute the majority of the fanbase. (Keep in mind that some people in the majority cohort weren't even born when the first game came out!) However, it's possible that all these younger fans were drawn to the franchise by later installments—some of which were published as late as the mid-2010's."
   ]
  },
  {
   "cell_type": "markdown",
   "id": "027a5a65-cf30-4e01-9dc8-dabfa6da4c3c",
   "metadata": {},
   "source": [
    "![](figures/figure_3.svg)"
   ]
  },
  {
   "cell_type": "markdown",
   "id": "b857acf7-b6dc-4dba-aadf-c13f94c66d69",
   "metadata": {},
   "source": [
    "_`Figure 3. Respondent count and percentage, by age cohort.`_"
   ]
  },
  {
   "cell_type": "markdown",
   "id": "c626f148-8726-4f07-9ac7-168394968e77",
   "metadata": {},
   "source": [
    "Respondents in the `0-17`, `45-54`, and subsequent age cohorts were very few—too few to draw any meaningful conclusions about their respective cohorts. For that reason, I decided to aggregate them as follows:\n",
    "\n",
    "- The `0-17` cohort was aggregated with the `18-24` cohort to form the `0-24` cohort;\n",
    "- Cohorts `45-54` to `65+` have been aggregated into the `45+` cohort\n",
    "- The `Doesn't say` cohort has has been excluded from any analysis related to age."
   ]
  },
  {
   "cell_type": "markdown",
   "id": "00c40fc2-6c19-4a67-b33c-66c43a114b16",
   "metadata": {},
   "source": [
    "![](figures/aggregated_age_cohorts.png)"
   ]
  },
  {
   "cell_type": "markdown",
   "id": "4678e897",
   "metadata": {
    "tags": []
   },
   "source": [
    "### Classic _Tomb Raider_ games are still the fans' favourites overall"
   ]
  },
  {
   "cell_type": "markdown",
   "id": "14f1fe9a-94c6-492c-8ffd-06f0f41eb0ed",
   "metadata": {},
   "source": [
    "In this section, we'll see how much the respondents enjoyed each different _Tomb Raider_ series, and in particular whether female respondents liked some more than others and if they did so more or less than male respondents."
   ]
  },
  {
   "cell_type": "markdown",
   "id": "9bddbf39-f5ea-46ba-a01c-f92882698f12",
   "metadata": {
    "tags": []
   },
   "source": [
    "#### Enjoyment in general\n",
    "\n",
    "Both to understand the fanbase's preferences and whether their opinion on Lara Croft's oversexualisation correlates with them in any way, I asked respondents to rate how much they enjoyed Classic, LAU, and _Survivor_ games, according to the following scale:\n",
    "\n",
    "- `Didn't play` \n",
    "- `Not at all`\n",
    "- `A little`\n",
    "- `Somewhat`\n",
    "- `Quite a bit`\n",
    "- `A lot`\n",
    "\n",
    "Below is a summary of the responses, both in absolute and percentage terms."
   ]
  },
  {
   "cell_type": "markdown",
   "id": "9d192f89-fb20-460e-ad6f-49fe19e38b64",
   "metadata": {},
   "source": [
    "![](figures/figure_4.svg)"
   ]
  },
  {
   "cell_type": "markdown",
   "id": "beb0e92d-978b-4bef-85b1-118e6df375a8",
   "metadata": {},
   "source": [
    "_`Figure 4. Respondent enjoyment of each Tomb Raider series, in absolute and percentage terms.`_"
   ]
  },
  {
   "cell_type": "markdown",
   "id": "63427e28-5e10-443b-abf3-3da4e9ef51b0",
   "metadata": {
    "tags": []
   },
   "source": [
    "`Figure 4` leaves little doubt that, in the sample, the Classic _Tomb Raider_ series was enjoyed more than others. About 55% of the respondents liked the Classic series `A lot`—an option that, for this series, was chosen by a majority in both absolute and percentage terms. While this series was liked `Quite a bit` and `Somewhat` less than the other two, this is abundantly compensated for by the many more players who liked it `A lot` and the near absence of respondents who liked it `A little` or `Not at all.` More respondents didn't play the Classic series than the other two, possibly because it's so much older and fairly problematic to run on newer systems.\n",
    "\n",
    "LAU performed decently and systematically better than _Survivor_: it was liked `A lot`, `Quite a bit`, and `Somewhat` always at least a bit more than _Survivor_ was, and the respondents who said they liked it `A little` or `Not at all` were always quite a bit fewer than those who said the same of _Survivor_. Respondents who didn't play LAU were only slightly fewer than those who didn't play the classics, but still more than 13% of the sample.\n",
    "\n",
    "The _Survivor_ series was far more played in the sample, with only barely 4% of respondents saying they didn't play it, but it registers the highest amount of negative feedback, being liked `A little` or `Not at all` far more than the other two series put together, both in absolute and relative terms. _Survivor_ certainly doesn't lack positive feedback, but it was liked `A lot`, `Quite a bit`, and `Somewhat` always less than at least either of the other two series.\n",
    "\n",
    "Unfortunately, not all options were chosen a sufficient number of times to be safely considered representative of the whole fandom; this is especially true of the negative options. For this reason, any extrapolation beyond the sample would be strained at best, but we can still dig a bit deeper into the preferences of the sample.\n",
    "\n",
    "Intuitively, being liked `A lot` is better than being liked `Quite a bit`; so, for example, being liked `A lot` by 50 respondents should be better than being liked `Quite a bit` by the same number of respondents. One could even argue that being liked `A lot` by 50 people is better than than being liked `Quite a bit` by 60 people. I decided to model this reasoning by assigning arbitrary \"enjoyment scores\" to each of the options as follows:\n",
    "\n",
    "- `Not at all`: -2\n",
    "- `A little` -1\n",
    "- `Somewhat`: 0\n",
    "- `Quite a bit`: 1\n",
    "- `A lot`: 2\n",
    "\n",
    "I left out `Didn't play` because, obviously, it doesn't make sense to ask how much a respondent enjoyed a series they didn't play; I assumed `Somewhat` to be a \"neutral\" answer chosen by respondents who liked some features of a series but disliked others in similar proportions, so `0` seemed a natural choice for its value. I then summed all negative and positive scores separately for each series, and then added them together to obtain an overall score. Each of these three scores was then divided by the maximum possible score for the series, calculated as $2 \\cdot n_s$, where $n_s$ is the number of respondents who played a certain series. The number of respondents that played each series (so, excluding any `Didn't play`) is given below."
   ]
  },
  {
   "cell_type": "markdown",
   "id": "39bcca7a-7eea-4fe6-a375-a9eab214eb5b",
   "metadata": {},
   "source": [
    "![](figures/series_players.png)"
   ]
  },
  {
   "cell_type": "markdown",
   "id": "c3541e73-abc8-453e-bda2-ee0372845516",
   "metadata": {
    "tags": []
   },
   "source": [
    "So, for example, 176 players played at least one Classic game, so the maximum possible score for the Classic series is $2 \\cdot 176 = 352$. Basically, the maximum possible score for a series is the score the series would have if every respondent who played it enjoyed it `A lot`, and so **the enjoyment scores below illustrate how close each series got to scoring the maximum it could have scored in the sample.**"
   ]
  },
  {
   "cell_type": "markdown",
   "id": "0d2d8834-b1bf-443a-acd7-b9d8dfbc4a72",
   "metadata": {},
   "source": [
    "![](figures/figure_5.svg)"
   ]
  },
  {
   "cell_type": "markdown",
   "id": "36cb244f-894b-47fb-94f8-f28985f280c6",
   "metadata": {},
   "source": [
    "_`Figure 5. Enjoyment scores for the three Tomb Raider series.`_"
   ]
  },
  {
   "cell_type": "markdown",
   "id": "5731a661-ebb1-4200-a69d-346e895b5dfc",
   "metadata": {},
   "source": [
    "Considering that _Survivor_ games are amongst the most recent and modern _Tomb Raider_ games, it is interesting that they scored so relatively badly. When breaking the scores down by age groups, it does seem that **younger players enjoyed the _Survivor_ series more than most older ones,** with the exception of the 45+ cohort. What is most noteworthy is that **Classic games—the most recent of which was released in 2003—still vastly outperform _Survivor_ games across all cohorts,** as do LAU games. (Note that this breakdown is to be taken with a grain of salt, because some age cohorts are much smaller than others.)"
   ]
  },
  {
   "cell_type": "markdown",
   "id": "3c41e6fc-6cf3-4b95-87ec-25f5e58b09ec",
   "metadata": {},
   "source": [
    "![](figures/figure_6.svg)"
   ]
  },
  {
   "cell_type": "markdown",
   "id": "f5f654ea-d80e-40d0-8814-b35cc3805e25",
   "metadata": {},
   "source": [
    "_`Figure 6. Enjoyment scores for each Tomb Raider series, by age group.`_"
   ]
  },
  {
   "cell_type": "markdown",
   "id": "7c82bb98-d5f0-4ea1-a2f7-eaccaba7083a",
   "metadata": {},
   "source": [
    "**The situation is especially bad for the _Survivor_ series when looking at negative scores,** which while not huge, are the worst across all age cohorts. The negative score of Classic and LAU games, instead, is nearly zero across all cohorts."
   ]
  },
  {
   "cell_type": "markdown",
   "id": "1400f491-d905-4448-8543-c0103e147437",
   "metadata": {},
   "source": [
    "![](figures/figure_7.svg)"
   ]
  },
  {
   "cell_type": "markdown",
   "id": "b306d6b5-4f5b-4138-b1a5-e86b0e0a0890",
   "metadata": {},
   "source": [
    "_`Figure 7. Negative enjoyment score for each Tomb Raider series, by age group.`_"
   ]
  },
  {
   "cell_type": "markdown",
   "id": "b51278ff-e6e5-4fef-ae9b-d8ed219dfa91",
   "metadata": {},
   "source": [
    "#### Which series did female players like better?"
   ]
  },
  {
   "cell_type": "markdown",
   "id": "4a310538-967c-4f10-9810-daab9f0216a3",
   "metadata": {},
   "source": [
    "We can now attempt to answer the first question I mentioned in the introduction: **did CLL's exaggerated sex appeal prevent female players from enjoying Classic and LAU _Tomb Raider_ games? Did they like _Survivor_ games better?** Let's start by seeing how much they enjoyed each series, and then let's try to draw a comparison with male players.\n",
    "\n",
    "In the charts below, we're only considering female respondents who played each specific series. For this reason, the `Didn't play` option isn't included, and the percentages on the right-hand chart refer to the total number of female respondents who played the specific series. For example, the first bar on the left of the second chart is saying that about 69% of the female respondents who played the Classic series liked it `A lot`. On the right-hand chart, bars of the same color add up to 100%.\n",
    "\n",
    "Note that the total number of female respondent is 62, but not all of them are necesasrily represented below because of the lack of the `Didn't play` option."
   ]
  },
  {
   "cell_type": "markdown",
   "id": "ddd4d2ce-0461-45a4-bb2c-9672767af652",
   "metadata": {},
   "source": [
    "![](figures/figure_8.svg)"
   ]
  },
  {
   "cell_type": "markdown",
   "id": "45758c1e-1450-42d3-982f-edc9e655487e",
   "metadata": {},
   "source": [
    "_`Figure 8. Respondents' enjoyment of each Tomb Raider series, in absolute and percentage terms. Females only.`_"
   ]
  },
  {
   "cell_type": "markdown",
   "id": "3f7c2f5d-a2e2-4e85-be14-a7bf161cae9e",
   "metadata": {},
   "source": [
    "`Figure 8` shows a similar story as `Figure 4`: Classic _Tomb Raider_ is in the lead, while _Survivor_ trails behind. This can also be seen by looking at the enjoyment scores for both sexes."
   ]
  },
  {
   "cell_type": "markdown",
   "id": "308fd9ee-66ef-49e6-88fe-b50939aa1861",
   "metadata": {},
   "source": [
    "![](figures/figure_9.svg)"
   ]
  },
  {
   "cell_type": "markdown",
   "id": "5c7e1951-09ef-443f-8899-99957a86671a",
   "metadata": {},
   "source": [
    "_`Figure 9. Enjoyment scores by sex.`_"
   ]
  },
  {
   "cell_type": "markdown",
   "id": "a0aee221-f9ab-42e3-bef1-5756b4ad4e9c",
   "metadata": {},
   "source": [
    "Although not by a lot, **female respondents liked Classic _Tomb Raider_ games more than males and far more than they liked _Survivor_ games.** They liked LAU less than males, but still a lot more than they liked the _Survivor_ trilogy. The negative score of the _Survivor_ trilogy for females is -0.15 against -0.11 for the males, and it's worth noting that this is the only case where the female negative score is worse than the male one.\n",
    "\n",
    "**These data appear to contradict the idea that women didn't fancy older _Tomb Raider_ games very much;** in some cases, they liked them more than the men did. If, for whatever reason, _Survivor_ games were supposed to appeal to women more than previous games had, that doesn't seem to have worked out either—at least not in this sample."
   ]
  },
  {
   "cell_type": "markdown",
   "id": "92bc8ef4-1e9f-4247-b26e-fed2eabc9f24",
   "metadata": {
    "tags": []
   },
   "source": [
    "##### Role of CLL's sex appeal"
   ]
  },
  {
   "cell_type": "markdown",
   "id": "0f75c9df-d598-44ad-ad0d-4196002fceb9",
   "metadata": {},
   "source": [
    "The results above don't clarify the role that the appearance of Classic/LAU Lara might have played in how much female players enjoyed older _Tomb Raider_ games. To try to determine that, it's worth taking a look at their enjoyment scores, categorised by their opinion on CLL's oversexualisation. In the charts below, `OSX-yes` means that the respondents thought CLL was oversexualised, and similarly for `OSX-no`; `OSX-unsure` is not of interest, so I left it out. \n",
    "\n",
    "Note that, because of the similarity between Classic and LAU Lara, respondents weren't asked about them separately; rather, they were asked if Classic _and/or_ LAU Lara were oversexualised. In hindsight, it would have been better to ask about them separately, because for example a respondent's opinion on Classic Lara will hardly affect her enjoyment of LAU games."
   ]
  },
  {
   "cell_type": "markdown",
   "id": "3352b337-43bb-48b8-a586-82018e10243f",
   "metadata": {},
   "source": [
    "![](figures/figure_10.svg)"
   ]
  },
  {
   "cell_type": "markdown",
   "id": "bc265750-afc1-4e2e-8d51-255245720312",
   "metadata": {},
   "source": [
    "_`Figure 10. Enjoyment scores for OSX-yes and OSX-no female players who have played all three series.`_"
   ]
  },
  {
   "cell_type": "markdown",
   "id": "91f92f80-a950-411b-9ce0-1d8b42a42d30",
   "metadata": {
    "tags": []
   },
   "source": [
    "In the charts above, only female players who have played all three series are considered, so, we can anyway compare all the different scores to each other in a reliable way—though any conclusions apply only to the sample.\n",
    "\n",
    "At a glance, a few things stand out:\n",
    "\n",
    "- **neither `OSX-yes`, nor `OSX-no` respondents scored Classic games negatively.** The score of `OSX-no` respondents is however somewhat higher. What this might suggest is that even though `OSX-yes` respondents _did_ think that Lara was oversexualised, this didn't prevent them from enjoying the classics; they might, however, have enjoyed them _more_ had Lara been less sexualised in their opinion.\n",
    "\n",
    "- LAU doesn't have much of a negative score either, but its situation is, in a way, opposite to that of the classics: `OSX-yes` respondents scored it slightly higher than they did the classics, though the difference is minimal. `OSX-no` respondents scored it quite a bit lower, but the reason is probably unrelated to their `OSX` opinion. (Unless they didn't enjoy LAU that much because they didn't think LAU Lara was sufficiently oversexualised!)\n",
    "\n",
    "- _Survivor_ scores a bit higher than the other two series amongst `OSX-yes` respondents, but **the `OSX-no` folks are much more interesting in that they disliked _Survivor_ enough to bring its overall score to the negative side.**\n",
    "\n",
    "None of this can definitively quantify how much CLL's alleged oversexualisation the female fanbase's enjoyment of any _Tomb Raider_ series. Without asking more targeted questions, we can't rule out that the reason any respondent liked or disliked a certain series had nothing to do with their opinion on CLL's oversexualisation. However, **it seems improbable that `OSX-yes` respondents actually enjoyed the Classic series less than they might have because they thought Lara was oversexualised;** LAU Lara was every bit of a _femme fatale_ as Classic Lara (if not more), yet the same eighteen `OSX-yes` respondents rated the LAU series a bit higher than they did the classics. The fact that the score of `OSX-no` respondents is higher may well be an artefact due to the different sample sizes (both of which are rather small to begin with), and only a much larger sample could resolve this question.\n",
    "\n",
    "Speaking of _Survivor_, the relatively large negative score given to it by `OSX-no` respondents—especially compared to the tiny negative score of the `OSX-yes` camp—suggests that **not liking _Survivor_ games very much and thinking CLL was _not_ oversexualised correlate**, at least among female respondents. This is actually something that we'll see more in detail in another section; for now, we can conclude this section by having a look at how much female respondents enjoyed each series, in absolute and percentage terms, depending on their `OSX` stance."
   ]
  },
  {
   "cell_type": "markdown",
   "id": "942a40f8-e639-45d8-98fd-ca854c86c293",
   "metadata": {},
   "source": [
    "![](figures/figure_11.svg)"
   ]
  },
  {
   "cell_type": "markdown",
   "id": "a440c69c-7700-4b5e-a21e-83f53d0e0206",
   "metadata": {},
   "source": [
    "_`Figure 11. Enjoyment of each Tomb Raider series by OSX-yes female respondents, in absolute and percentage terms.`_"
   ]
  },
  {
   "cell_type": "markdown",
   "id": "7ad7abbd-e821-4cc1-9a78-c3180f3dbc62",
   "metadata": {},
   "source": [
    "Relatively many `OSX-yes` female respondents liked _Survivor_ `A lot`, and their opinion of the series is overall rather favourable. The classics and LAU don't have it too bad, but this is the only instance we've seen so far where _Survivor_ is liked `A lot` by more respondents than the other two series. In `Figure 12` below, it's fairly obvious that more `OSX-no` respondents had a very positive experience with the classics, and that their opinion of _Survivor_ is much more fragmented than it is amongst `OSX-yes` respondents."
   ]
  },
  {
   "cell_type": "markdown",
   "id": "9c619317-3462-4386-9c27-701ec1005093",
   "metadata": {},
   "source": [
    "![](figures/figure_12.svg)"
   ]
  },
  {
   "cell_type": "markdown",
   "id": "114ab6cc-91df-44d1-9aa8-00f392f48659",
   "metadata": {},
   "source": [
    "_`Figure 12. Enjoyment of each Tomb Raider series by OSX-no female respondents, in absolute and percentage terms.`_"
   ]
  },
  {
   "cell_type": "markdown",
   "id": "3403945b",
   "metadata": {
    "tags": [],
    "toc-hr-collapsed": true
   },
   "source": [
    "### The fandom's favourite Lara is still Classic Lara"
   ]
  },
  {
   "cell_type": "markdown",
   "id": "49d77ae7-a73e-49d7-8edd-daaa14787a5b",
   "metadata": {},
   "source": [
    "According to [Rhianna Pratchett](https://www.gamedeveloper.com/design/rebooting-lara-rhianna-pratchett-on-writing-for-i-tomb-raider-i-)—who was in charge of reimagining Lara Croft in her _Survivor_ incarnation—one of the reasons why Lara's character went through such an extensive revamp is that her previous persona was no longer relatable for modern players. According to [other critics](https://thenib.com/lara-croft-boob-raider/), Survivor Lara is more relatable for female players given her more realistic figure and the focus of the games on her inner struggles.\n",
    "\n",
    "To find out if this was true, I asked respondents to choose a single version of Lara as their favourite, considering her appearance, personality, and backstory. If respondents had no preference, they could say so. The data suggests that both Rhianna Pratchett and the other critics might be incorrect in their conclusions."
   ]
  },
  {
   "cell_type": "markdown",
   "id": "a55584ed-e9b9-486f-bd2e-0050607c45f5",
   "metadata": {},
   "source": [
    "#### Overall preferences"
   ]
  },
  {
   "cell_type": "markdown",
   "id": "5914bfd6-0160-4611-b194-961bd65ac566",
   "metadata": {},
   "source": [
    "Across the whole sample, **Classic Lara is without a doubt the favourite**, while Survivor Lara and LAU Lara almost tie. Only short of 8% of the respondents had no preferences."
   ]
  },
  {
   "cell_type": "markdown",
   "id": "bc3df6a8-dec1-4054-a20a-ae5588289367",
   "metadata": {},
   "source": [
    "![](figures/figure_13.svg)"
   ]
  },
  {
   "cell_type": "markdown",
   "id": "9f7be3d3-1e52-4fae-9b68-19a500a778bd",
   "metadata": {},
   "source": [
    "_`Figure 13. Preferences for each version of Lara in the sample, in percentages.`_"
   ]
  },
  {
   "cell_type": "markdown",
   "id": "b45d4e75-c408-4805-a5dd-08282b12cb3e",
   "metadata": {},
   "source": [
    "It's reasonable to assume that the responses in the sample are independent of each other, and given the sample size and the observed percentages, our sample is sufficiently representative to estimate how well the sample preferences reflect the entire fandom's preferences."
   ]
  },
  {
   "cell_type": "markdown",
   "id": "9010c6e4-12a4-434f-8a4d-eea4b911ab35",
   "metadata": {},
   "source": [
    "![](figures/figure_14.svg)"
   ]
  },
  {
   "cell_type": "markdown",
   "id": "5984e410-245e-4036-924b-32d3d087efd2",
   "metadata": {},
   "source": [
    "_`Figure 14. Confidence intervals for estimated percentages of preferences for each version of Lara.`_"
   ]
  },
  {
   "cell_type": "markdown",
   "id": "803e3434-6f4f-4b1e-975d-6b16f8e94749",
   "metadata": {},
   "source": [
    "In the chart above, the round dots are the proportions observed in our sample, and they're our best estimates for the corresponding proportions at a fandom level. The horizontal lines are 95% confidence intervals, where the real value of each fandom-level proportion likely lies. For example, our best estimate for the proportion of the fandom that prefers Classic Lara is about 0.4 (the same as in our sample), and we're 95% sure that the real value of this proportion lies somewhere in its confidence interval—that is, between 0.33 and 0.46.\n",
    "\n",
    "Classic Lara's confidence interval is to the right of all others and doesn't overlap with any of them; this means that, at a 95% confidence level, the proportion of the entire _Tomb Raider_ fandom that prefers Classic Lara is larger than the proportion that prefers LAU, Survivor, or no Lara. The intervals are however fairly large, and had we chosen a higher confidence level, they'd be larger still and we would likely see some overlap. A larger number of respondents would mitigate this problem and give a more accurate answer, but this is still fairly convincing evidence that, **while no version of Lara is the absolute majority's favorite, Classic Lara is liked by more fans than any other.**"
   ]
  },
  {
   "cell_type": "markdown",
   "id": "55adccba-fb68-4908-942d-e87dd72e42b0",
   "metadata": {
    "tags": []
   },
   "source": [
    "#### Preferences by age"
   ]
  },
  {
   "cell_type": "markdown",
   "id": "3b40aa89-db79-4769-82c1-6efeb52efc84",
   "metadata": {},
   "source": [
    "When broken down by age, these preferences reveal trends that should perhaps be expected: **the older a player is, the more likely they are to prefer Classic Lara; similarly, older players are less likely to prefer Survivor Lara,** although this trend is less pronounced. This may be attributed to the fact that Classic Lara was probably the \"first\" Lara  for older players, whereas Survivor Lara is more likely to have been a younger player's first. Nonetheless, Classic Lara is by far the favourite of every age cohort with the exception of the youngest one; those players prefer Survivor Lara to her, but not by much, and in any case, their prefer LAU Lara to Survivor Lara."
   ]
  },
  {
   "cell_type": "markdown",
   "id": "dd71a13f-4361-4697-9ed1-7505f62e2414",
   "metadata": {},
   "source": [
    "![](figures/figure_15.svg)"
   ]
  },
  {
   "cell_type": "markdown",
   "id": "0524600f-1a93-4da5-80c2-e2cb779b3128",
   "metadata": {},
   "source": [
    "_`Figure 15. Favourite versions of Lara across the entire sample, by age cohort.`_"
   ]
  },
  {
   "cell_type": "markdown",
   "id": "980e8a85-c6a6-4fe5-9d94-a626ab582b16",
   "metadata": {},
   "source": [
    "It's interesting that Survivor Lara is preferred to LAU Lara between the ages of 25 and 44. LAU Lara is a great deal more similar to Classic Lara than Survivor Lara in every respect, and I would have expected her popularity trend to resemble that of Classic Lara more closely. However, it's not possible to explain these trends with the data from this survey; for that, more specific questions would be needed. It's also possible that a larger sample would suggest that Survivor Lara is much more popular than shown here with younger players, who are likely underrepresented in this sample."
   ]
  },
  {
   "cell_type": "markdown",
   "id": "1dcbb579-d588-4410-81ba-9ae5f6e6d761",
   "metadata": {},
   "source": [
    "#### Preferences by sex and orientation"
   ]
  },
  {
   "cell_type": "markdown",
   "id": "5f9cbff6-c8b0-4c77-aa8d-7d889d889023",
   "metadata": {},
   "source": [
    "Things get more interesting when looking at how the players' preferences change with sex instead. Despite Classic and LAU Lara's alleged oversexualisation and Survivor Lara's more realistic appearance, quite surprisingly **Survivor Lara is much more popular amongst males than females, and vice-versa for Classic and LAU Lara.**"
   ]
  },
  {
   "cell_type": "markdown",
   "id": "5492b0df-9bf3-4ffc-96b6-92adc637cc8b",
   "metadata": {},
   "source": [
    "![](figures/figure_16.svg)"
   ]
  },
  {
   "cell_type": "markdown",
   "id": "be782e5b-6251-41f3-9950-1c373c67b92c",
   "metadata": {},
   "source": [
    "_`Figure 16. Preferences for each version of Lara, by sex. (Percentages.)`_"
   ]
  },
  {
   "cell_type": "markdown",
   "id": "32072071-e011-4c53-8926-f8815e0f7c19",
   "metadata": {
    "tags": []
   },
   "source": [
    "Paradoxically, Survivor Lara is the _least_ favourite by female respondents, and more importantly, female respondents like her significantly less than male respondents do; while Classic Lara is again the winner regardless of sex, males prefer Survivor Lara to LAU Lara. Overall, **this contradicts the idea that Classic and LAU Lara appeal to male players more than to female ones, or that they were unlikeable to female players.**\n",
    "\n",
    "The above is true of the _sample_; to see how well it might apply to the fandom, we can build again 95% confidence intervals. The number of respondents of either sex who expressed no preference is too low to build a reliable confidence interval, so we are going to leave that option out. This means that, rather than to the whole fandom, the results we'll get apply to the part of the fandom that _does_ have a favourite version of Lara."
   ]
  },
  {
   "cell_type": "markdown",
   "id": "62daae1c-f9e0-4c53-a2b1-83d5f9c2a8b1",
   "metadata": {},
   "source": [
    "![](figures/figure_17.svg)"
   ]
  },
  {
   "cell_type": "markdown",
   "id": "6f52ba4d-b81b-436b-a526-5c5970ec1fcd",
   "metadata": {},
   "source": [
    "_`Figure 17. Confidence intervals for the proportion of preferences for each version of Lara at a fandom level, by sex.`_"
   ]
  },
  {
   "cell_type": "markdown",
   "id": "00d8d721-2970-4fd6-b8ca-fed6462d62ce",
   "metadata": {},
   "source": [
    "Looking at the female fandom only, there is significant overlap between Classic and LAU Lara's intervals, which means that the proportion of female fans who prefer LAU Lara might be larger than that of those who prefer Classic Lara. Similarly, Survivor Lara might well be liked by a larger proportion of female fans than LAU Lara, but **as there's no overlap between Classic's and _Survivor_ Lara's confidence intervals, at a fandom level the latter is very likely less popular with female players than the former.** This also means that Survivor Lara is unlikely to be the favourite of the female fandom, because the largest possible proportion of her female fans is smaller than the smallest possible proportion of Classic Lara's female fans.\n",
    "\n",
    "Turning our attention to the male fandom, we see that, given the overlaps, any version of Lara might in principle be that with the largest proportion of male preferences; in particular, **it's quite possible for the proportion of Survivor Lara's male fans to be larger than both that of LAU and Classic Lara's male fans.** \n",
    "\n",
    "Ultimately, these findings suggest that **Survivor Lara can hardly be the favourite of female players, but might well be the favourite of male players.** As we noted before, this is the opposite of what we should expect if it is true that Survivor Lara was meant to be more relatable for female players, and that Classic/LAU Lara were designed with male players in mind and alienated female players instead.\n",
    "\n",
    "Regardless of which version of Lara is the favourite of which sex, `Figure 17` shows that, proportion-wise, more female than male players in the sample prefer Classic and LAU Lara, and vice-versa for Survivor Lara. More precisely, the differences between female and male proportions are as follows:"
   ]
  },
  {
   "cell_type": "markdown",
   "id": "22079414-f3f2-41ac-9f8f-7c4033d4c77b",
   "metadata": {},
   "source": [
    "![](figures/fav_lara_mf_prop_diff.png)"
   ]
  },
  {
   "cell_type": "markdown",
   "id": "b9a72f94-148e-40ae-8302-70218a6fe622",
   "metadata": {},
   "source": [
    "These are our best estimates for the differences at a fandom level, and to determine how accurate they are, we'll build again 95% confidence intervals for each of them."
   ]
  },
  {
   "cell_type": "markdown",
   "id": "f4a95bd1-dcab-4c72-b5e5-da03ec96be18",
   "metadata": {},
   "source": [
    "![](figures/figure_18.svg)"
   ]
  },
  {
   "cell_type": "markdown",
   "id": "27d411ae-7ca7-4608-b3c2-2398d1c2c7b1",
   "metadata": {},
   "source": [
    "_`Figure 18. Confidence intervals for the difference between the proportion of female and male respondents who prefer each version of Lara.`_"
   ]
  },
  {
   "cell_type": "markdown",
   "id": "f0ddd514-fe22-4dc1-b644-546519d7374f",
   "metadata": {},
   "source": [
    "The differences in the chart above were computed as `female proportion - male proportion`; for this reason, a positive difference (red patch) means that the female proportion is larger than the male one, and vice-versa for a negative difference (blue patch). A difference of zero means that the two proportions are equal. Zero falls in every observed confidence interval, which means that **the possibility that females and males in the entire fanbase prefer each version of Lara in equal proportions can't be ruled out.** However, the confidence intervals for Classic and LAU Lara lie mostly on the positive side, whereas the Survivor Lara's confidence interval lies almost entirely on the negative side; this makes it probable that Classic and LAU Lara are preferred by a larger proportion of female fans, whereas the proportion of male fans who prefer Survivor Lara is very likely larger than the corresponding female proportion. This, again, bearing in mind that the confidence intervals are rather large due to our small sample size, and therefore these estimates aren't as accurate as they could be. "
   ]
  },
  {
   "cell_type": "markdown",
   "id": "b8bcee84-f83d-44da-9a46-aa669460fd75",
   "metadata": {},
   "source": [
    " At this point, we can attempt to answer the second question: **do straight males prefer Classic/LAU Lara over Survivor Lara?** Does the respondent's sexual orientation matter, and does the perceived sex appeal of each version of Lara matter?"
   ]
  },
  {
   "cell_type": "markdown",
   "id": "6d18e842-448d-4cd5-a4b7-9579026d0330",
   "metadata": {},
   "source": [
    "#### Male players in detail"
   ]
  },
  {
   "cell_type": "markdown",
   "id": "10a7dd89-4986-4a70-b81b-5e62096041ee",
   "metadata": {},
   "source": [
    "The results of this section are quite surprising, although we won't be able to generalise all of them beyond the sample to the entire male fanbase."
   ]
  },
  {
   "cell_type": "markdown",
   "id": "d17bb210-aff9-4114-a8d7-e1541729a56c",
   "metadata": {},
   "source": [
    "##### Influence of sexual orientation"
   ]
  },
  {
   "cell_type": "markdown",
   "id": "93029321-8568-491f-a3e0-2608d81aa2d6",
   "metadata": {},
   "source": [
    "The idea that Classic or LAU Lara may in general appeal more than Survivor Lara to straight males specifically is seriously challenged by the preferences expressed by our sample, in which **Survivor Lara is the obvious favourite of straight males.** "
   ]
  },
  {
   "cell_type": "markdown",
   "id": "337849ee-ff5e-4a68-9347-b7e0229e4ec0",
   "metadata": {},
   "source": [
    "![](figures/fav_lara_straight_males_pct.png)"
   ]
  },
  {
   "cell_type": "markdown",
   "id": "82b08649-c7af-4add-97ab-3efeb3fcbe8a",
   "metadata": {},
   "source": [
    "Interestingly, **among non-straight males, Classic Lara pretty much _wipes the floor_ with all other versions.**  While Survivor Lara comes in second place, she's nearly 30 percentage points behind."
   ]
  },
  {
   "cell_type": "markdown",
   "id": "cf6556a7-0537-481f-b527-ca40b8203c7d",
   "metadata": {},
   "source": [
    "![](figures/fav_lara_non_straight_males_pct.png)"
   ]
  },
  {
   "cell_type": "markdown",
   "id": "fffe7e96-ca4a-44b5-b0fd-f7983d145e71",
   "metadata": {},
   "source": [
    "As usual, we're going to build 95% confidence levels to see where we can expect the fandom's true proportions to most likely lie. Once again, too few respondents expressed no preference to build a reliable confidence interval, so we're going to exclude the `None` option, and draw conclusions only about that part of the male fandom that does have a preference."
   ]
  },
  {
   "cell_type": "markdown",
   "id": "2e494fdc-f71b-4026-b6c2-6d5dea98e517",
   "metadata": {},
   "source": [
    "![](figures/figure_19.svg)"
   ]
  },
  {
   "cell_type": "markdown",
   "id": "b2ec7d01-aa3a-4a17-abba-5b17edf9fe6c",
   "metadata": {},
   "source": [
    "_`Figure 19. Confidence intervals for the proportion of male preferences for each version of Lara, by orientation.`_"
   ]
  },
  {
   "cell_type": "markdown",
   "id": "65411b0e-a4eb-48c4-832b-c4ebf44fbc05",
   "metadata": {},
   "source": [
    "While Survivor Lara is very much the favourite of straight males in our sample, the confidence intervals don't allow us to conclude that she is such also at a fandom level. All three confidence intervals overlap, so we can't say for sure which version of Lara is preferred by the largest proportion of the straight male fanbase. (Once more, a larger sample would have shrunk the fairly huge intervals and allowed for more accurate estimates.) However, **we're 95% sure that Classic Lara is the favorite of non-straight males in the the fandom**, as her confidence interval is comfortably far away from the other two."
   ]
  },
  {
   "cell_type": "markdown",
   "id": "6a22d48e-c534-4f05-bad7-0273b6729be1",
   "metadata": {},
   "source": [
    "##### Influence of age"
   ]
  },
  {
   "cell_type": "markdown",
   "id": "00845c2d-3105-4270-aa0e-27c05eb6d38c",
   "metadata": {},
   "source": [
    "The preferences of straight and non-straight males in the sample appear to be influenced by age somewhat. We won't be able to tell if this is true of the whole male fandom, but it's still interesting to see this effect in the sample.\n",
    "\n",
    "**Survivor Lara's popularity declines steadily with age among straight males, whereas Classic Lara's popularity generally grows,** suggesting that, at least for straight males, a player's favourite Lara tends to be the version he's likely to have seen first. (Older males are more likely to have played Classic games before any others, and vice-versa.)"
   ]
  },
  {
   "cell_type": "markdown",
   "id": "9a8d0aeb-b841-411c-a2c7-9eb610e03a93",
   "metadata": {},
   "source": [
    "![](figures/figure_20.svg)"
   ]
  },
  {
   "cell_type": "markdown",
   "id": "d24c6300-09bf-43b3-a55c-194a9a9950da",
   "metadata": {},
   "source": [
    "_`Figure 20. Percentage of preferences for each version of Lara amongst straight males, by age group.`_"
   ]
  },
  {
   "cell_type": "markdown",
   "id": "71ba05b9-48bb-452e-a111-fa568fb42a98",
   "metadata": {},
   "source": [
    "In the case of non-straight males, Classic Lara is _always_ more popular than her competitors, regardless of the respondent's age, while Survivor Lara's popularity would be basically a flat line if it wasn't for the people in the 35-44 cohort, who like her around 7% more than the other cohorts."
   ]
  },
  {
   "cell_type": "markdown",
   "id": "4def22f6-6eb7-460e-88e2-d21e91caa413",
   "metadata": {},
   "source": [
    "![](figures/figure_21.svg)"
   ]
  },
  {
   "cell_type": "markdown",
   "id": "57428619-e7ab-4416-bd03-e572ef94455d",
   "metadata": {},
   "source": [
    "_`Figure 21. Percentage of preferences for each version of Lara amongst straight males, by age group.`_"
   ]
  },
  {
   "cell_type": "markdown",
   "id": "d8af77b9-5720-4632-ae38-69867785753c",
   "metadata": {},
   "source": [
    "##### Influence of sex appeal"
   ]
  },
  {
   "cell_type": "markdown",
   "id": "b2c78176-762b-4d07-9284-8f25826a8353",
   "metadata": {},
   "source": [
    "We don't yet know whether sex appeal is the main factor influencing which version of Lara is preferred by (straight) males; to figure that out, we need to take into account which versions of Lara were considered attractive by the respondents.\n",
    "\n",
    "I asked all respondents, regardless of their respective demographics, to specify which versions of Lara, if any, they personally found physically attractive. I did this primarily to see whether people who are attracted to CLL were less or more likely to say that she was oversexualised, but it is also useful to determine how much sex appeal contributes to a player's choice of their favourite Lara. \n",
    "\n",
    "Before we proceed, however, an important caveat should be issued: **there is a non-negligible chance that many respondents may have misunderstood my question about Lara's attractiveness.** (Either that, or I must've missed a memo about what \"gay\" and \"straight\" mean.) I fully expected gay males not to be attracted to *any* version of Lara, and similarly for straight females. That's not what happened."
   ]
  },
  {
   "cell_type": "markdown",
   "id": "89b986ff-3a33-444f-8ecf-f4b70fd81056",
   "metadata": {},
   "source": [
    "![](figures/attracted_respondents_count.png)"
   ]
  },
  {
   "cell_type": "markdown",
   "id": "c3323f93-c621-41dd-bbe8-3d76c5b0cb01",
   "metadata": {},
   "source": [
    "It doesn't seem to make much sense for gay men or straight women to be physically attracted to women, but it's hard to believe so many people would get the question wrong. I'd rather not second-guess the respondents and assume they knew what they were talking about.\n",
    "\n",
    "In the following, we're going to exclude respondents depending on what version(s) of Lara they find attractive. Age cohorts derived from these subsample may be too small, so for this reason (and for simplicity), we're not going to split respondents into age cohorts."
   ]
  },
  {
   "cell_type": "markdown",
   "id": "f6cb3b30-0461-45f9-b4aa-7a3a25789908",
   "metadata": {},
   "source": [
    "![](figures/figure_22.svg)"
   ]
  },
  {
   "cell_type": "markdown",
   "id": "6025b8b0-84b9-4663-aba0-deaa34f05554",
   "metadata": {},
   "source": [
    "_`Figure 22. Change in percentage of straight males' preferences for each version of Lara with respect to baseline, when sex appeal is removed.`_"
   ]
  },
  {
   "cell_type": "markdown",
   "id": "35400d36-2d01-4acc-b24a-d3ed17fea464",
   "metadata": {},
   "source": [
    "The transparent bars that appear in each chart represent the baseline—that is, the percentages of straight male players who prefer each given version of Lara. The solid bars are the same percentages recalculated when straight males who are attracted to the version of Lara specified on top of each chart are excluded. So, for example, in the first chart from the left, the solid bars represent only straight males who are _not_ attracted to Classic Lara.\n",
    "\n",
    "We see that, compared to the baseline:\n",
    "\n",
    "- when respondents attracted to Classic Lara are excluded (left chart), preference for Classic Lara drops by `6.8%`;\n",
    "- when respondents attracted to LAU Lara are excluded (middle chart), preference for LAU Lara drops by `24.6%`;\n",
    "- when respondents attracted to Survivor Lara are excluded (right chart), preference for Survivor Lara drops by `32.4%`.\n",
    "\n",
    "These result seems to suggest that straight males whose favourite Lara is Classic Lara may be less influenced by sex appeal than straight male with a different favourite Lara. Paradoxically, when sex appeal is taken out of the equation, Survivor Lara experiences the worst drop of the three, suggesting that **the reasons why Classic Lara is the favourite of straight males may go beyond sex appeal; this doesn't seem to be the case for LAU or Survivor Lara.**  As usual, the samples are small and fairly different in size, so we can't rule out the role that random chance might have played."
   ]
  },
  {
   "cell_type": "markdown",
   "id": "e34641cf",
   "metadata": {
    "tags": []
   },
   "source": [
    "### Was Classic/LAU Lara oversexualised?"
   ]
  },
  {
   "cell_type": "markdown",
   "id": "0ab0fb4d-7c1a-455d-b927-2f8f606c625d",
   "metadata": {},
   "source": [
    "To answer the third and final question, I asked survey takers whether they thought Classic and/or LAU Lara were oversexualised. I should note again that this was a single question; so, regardless of their answer, it's possible that respondents referred to either or both versions of Lara.\n",
    "In the following, I'm often going to refer to respondents who answered `Yes`  as `OSX-yes` respondents, and accordingly for the other two answers, just like in previous sections."
   ]
  },
  {
   "cell_type": "markdown",
   "id": "5358776a-9756-48ee-926a-fdefda3a3cf9",
   "metadata": {
    "tags": []
   },
   "source": [
    "#### According to half of the sample, Lara was just fine"
   ]
  },
  {
   "cell_type": "markdown",
   "id": "ea941469-e08d-4495-be0a-1ee80e048ba3",
   "metadata": {},
   "source": [
    "**Nearly the absolute majority of the sample doesn't think that CLL was oversexualised.** Only short of 39% thinks she was, while 12% is unsure. It is perhaps to be expected that fans of the series would be more lenient than random people might be, but as we'll see in a minute, this leniency depends of several factors, and on some more heavily than on others."
   ]
  },
  {
   "cell_type": "markdown",
   "id": "8fbda9f8-e47e-4c41-a9cb-820c8dd27e0c",
   "metadata": {},
   "source": [
    "![](figures/figure_23.svg)"
   ]
  },
  {
   "cell_type": "markdown",
   "id": "1af8ce38-3205-4fd9-a3e5-8133ba1c1f18",
   "metadata": {},
   "source": [
    "_`Figure 23. Percentages of respondents agreeing, disagreeing, or unsure that CLL was oversexualised.`_"
   ]
  },
  {
   "cell_type": "markdown",
   "id": "ce17033a-4abe-43c8-ae57-520e41cd9a1a",
   "metadata": {},
   "source": [
    "In absolute terms, 80 respondents said `Yes`, 103 said `No`, and 25 said `Unsure/Don't know`. The numbers are sufficiently large to build reasonably reliable confidence intervals, so let's do that."
   ]
  },
  {
   "cell_type": "markdown",
   "id": "028a79ea-301b-470c-bd5f-52b2bb36895e",
   "metadata": {},
   "source": [
    "![](figures/figure_24.svg)"
   ]
  },
  {
   "cell_type": "markdown",
   "id": "828a6d5c-e374-48dc-98e3-3cc2469a8f34",
   "metadata": {},
   "source": [
    "_`Figure 24. 95% confidence intervals for the percentages shown in Figure 23.`_"
   ]
  },
  {
   "cell_type": "markdown",
   "id": "3e44aa49-e653-4403-a493-77ed614625e8",
   "metadata": {},
   "source": [
    "At a 95% confidence level, the percentage of the fandom in the `OSX-unsure` camp is estimated to be between about 7.6% and 16.4%, and in any case much smaller than the percentages of other answers. While there's a higher likelihood that most of the fandom—possibly, even an absolute majority—doesn't think CLL was oversexualised, the `OSX-yes` and `OSX-no` confidence intervals display modest overlap, making it impossible to rule out the possibility that these two opposing opinions might be held by equal proportions of the fandom—or that `OSX-yes` fans might be a majority."
   ]
  },
  {
   "cell_type": "markdown",
   "id": "603649c1-200c-4ff0-a67b-37de10b50cea",
   "metadata": {
    "tags": []
   },
   "source": [
    "#### The sample's opinion doesn't vary much between the sexes, but it does across orientations"
   ]
  },
  {
   "cell_type": "markdown",
   "id": "d5b23a43-77f7-461d-9030-8d2930b2bde2",
   "metadata": {},
   "source": [
    "While I had no expectations in a way or another about the pie chart above, I was fully expecting that the sex of the respondents would heavily influence their opinion on the oversexualisation of Classic/LAU Lara. As it turns out, it really didn't. **Both males and females were more likely to answer `No`, but they were more or less equally likely to give any of the three answers.**"
   ]
  },
  {
   "cell_type": "markdown",
   "id": "2fd22d56-1eb1-4352-8129-2541a3ec3464",
   "metadata": {},
   "source": [
    "![](figures/figure_25.svg)"
   ]
  },
  {
   "cell_type": "markdown",
   "id": "8215ecba-7528-4c64-97b1-2d0ec415f1a5",
   "metadata": {},
   "source": [
    "_`Figure 25. Percentages of respondents agreeing, disagreeing, or unsure about CLL's oversexualisation, by sex.`_"
   ]
  },
  {
   "cell_type": "markdown",
   "id": "c3d9ee82-8314-4435-88cc-cc41f7cf1a00",
   "metadata": {},
   "source": [
    "Leaving out the `OSX-unsure` people (who are too few among female respondents to make reliable inferences), let's build 95% confidence intervals for the proportions of `OSX-yes` and `OSX-no` female and male respondents who _do_ have a definite opinion."
   ]
  },
  {
   "cell_type": "markdown",
   "id": "e2ee7070-8a32-4d06-96cd-89c3835056d3",
   "metadata": {},
   "source": [
    "![](figures/figure_26.svg)"
   ]
  },
  {
   "cell_type": "markdown",
   "id": "fa2d839a-31d1-4bbf-a839-624a5f3f0676",
   "metadata": {},
   "source": [
    "_`Figure 26. 95% confidence intervals for the proportions (and difference between them) of respondents agreeing or disagreeing that CLL was oversexualised, by sex.`_"
   ]
  },
  {
   "cell_type": "markdown",
   "id": "9961a5ff-b7be-4dbf-90ba-2d31cbbd5dd3",
   "metadata": {},
   "source": [
    "As we had a much smaller number of female respondents compared to males, their margin of error is much larger. Our best estimates suggest that over 50% of the female fanbase with an opinion on CLL's oversexualisation will disagree that she was oversexualised, and around 45% will agree; however, due to the large margin of error these percentages are highly variable. The considerable ovelap between the `OSX-yes` and `OSX-no` confidence intervals for females makes it impossible to exclude with any certainty that, at a fandom level, the two camps might be equal in size, or that `OSX-yes` might be larger than `OSX-no`.\n",
    "\n",
    "While similar issues characterise the male fanbase as well, the margin of error for males is smaller, which makes it more likely that, indeed, most males in the fandom are `OSX-no` proponents. \n",
    "\n",
    "According to our best estimates, females in the fandom are about 1.2% more likely than males to be `OSX-yes`, while males are about 1.2% more likely than females to be `OSX-no`. The confidence intervals are similar in width and overlap mostly completely, so unfortunately, the survey data doesn't allow to say with certainty whether a larger proportion of males or females thinks that CLL was oversexualised—or if this opinion is held in equal proportion by both sexes."
   ]
  },
  {
   "cell_type": "markdown",
   "id": "f6291090",
   "metadata": {},
   "source": [
    "When considering sexual orientation in addition to sex, we see that **straight males in the sample are almost twice as likely to say `Yes` compared to straight females, whereas non-straight females are about 20% more likely to say `Yes` than non-straight males.** This is the opposite I was expecting to find: I thought straight males would be less likely than straight females to say `Yes`.\n",
    "\n",
    "(**Note:** the chart below does *not* say what percentage of straight or non-straight `OSX-yes` respondents are male or female; rather, it says what is the percentage of respondents of a given sex and orientation who replied `Yes`. So, for example, we see that among straight females, 24.1% said `Yes`, which is different from the percentage of `OSX-yes` respondents who are straight females—nearly 19%.)"
   ]
  },
  {
   "cell_type": "markdown",
   "id": "0def9481-b9bd-4dad-b8c1-a262e5a6677b",
   "metadata": {},
   "source": [
    "![](figures/figure_27.svg)"
   ]
  },
  {
   "cell_type": "markdown",
   "id": "aae8e872-0372-419d-9936-7da7fc96196e",
   "metadata": {},
   "source": [
    "_`Figure 27. Percentage of OSX-yes respondents, by orientation and sex. The chart compares percentages from different categories (e.g., % of OSX-yes straight females vs % of OSX-yes straight males). They shouldn't be summed together nor do they necessarily add up to 100%.`_"
   ]
  },
  {
   "cell_type": "markdown",
   "id": "c22c2297-f44f-47b7-8fe3-0e3c1db7437d",
   "metadata": {},
   "source": [
    "This is true also of different non-straight subgroups: in the sample, each and every non-straight male subgroup is at most as likely as the corresponding female subgroup to say `Yes`, sometimes much less likely."
   ]
  },
  {
   "cell_type": "markdown",
   "id": "a83296b3-3f57-4bab-84a2-42376bc68856",
   "metadata": {},
   "source": [
    "![](figures/figure_28.svg)"
   ]
  },
  {
   "cell_type": "markdown",
   "id": "ac0ed583-d279-4726-851c-1ad5ce44105f",
   "metadata": {},
   "source": [
    "_`Figure 28. The 'Other' group of Figure 26, further broken down by sexual orientation.`_"
   ]
  },
  {
   "cell_type": "markdown",
   "id": "facdc7c2-a525-4099-8488-bf8c04c530a3",
   "metadata": {},
   "source": [
    "Finally, in terms of age we see that the percentage of `No`'s is higher than all the others in all cohorts except one (`35-44`). Barring that exception, the pecentage of `No`'s increases with age and vice-versa for the `Yes` option, while the percentage of unsure respondents is much smaller and oscillates much less across all cohorts. Overall, older respondents in the sample are less likely to think that CLL was oversexualised, while younger ones are more likely to think so. This makes sense not only because of the fondness that older players may have for Classic Lara, but also because the perception of what constitutes oversexualisation may have changed over the years; anecdotally, younger people seem to be more sensitive in this regard. Given a larger sample, I would expect to see evidence that these trends hold at a fandom level."
   ]
  },
  {
   "cell_type": "markdown",
   "id": "64c2e1f7-9bf7-4402-a40b-46a4655c725f",
   "metadata": {},
   "source": [
    "![](figures/figure_29.svg)"
   ]
  },
  {
   "cell_type": "markdown",
   "id": "7f2c27de-856e-42ea-90e3-f1d292bb577d",
   "metadata": {},
   "source": [
    "_`Figure 29. Percentage of different OSX opinions by age cohort.`_"
   ]
  },
  {
   "cell_type": "markdown",
   "id": "f35b56e3",
   "metadata": {
    "tags": []
   },
   "source": [
    "#### Sources of bias"
   ]
  },
  {
   "cell_type": "markdown",
   "id": "9400b184-a9fb-49b5-8df3-748619437ee8",
   "metadata": {},
   "source": [
    "There are two possible sources of bias that correlate with the respondents' opinion on the subject of Classic/LAU Lara's oversexualisation and may well have influenced it: how much respondents enjoyed different _Tomb Raider_ series (\"Series bias\") and their personal preferences for different versions of Lara (\"Lara bias\"). Let's dive into each of them individually."
   ]
  },
  {
   "cell_type": "markdown",
   "id": "b160b595-ba97-4077-8144-ba0b299cc06f",
   "metadata": {
    "tags": []
   },
   "source": [
    "##### Series bias"
   ]
  },
  {
   "cell_type": "markdown",
   "id": "df90fb06",
   "metadata": {},
   "source": [
    "If we divide the entire sample into groups of enjoyment level for each _Tomb Raider_ series and plot the percentage of each group that answered `Yes` to the question of Classic/LAU Lara's oversexualisation, a correlation becomes apparent. The higher the enjoyment of Classic or LAU games, the lower the percentage of `OSX-yes` respondents; conversely, the same percentage grows with higher levels of enjoyment of _Survivor_ games. (The option `Didn't play` is excluded because it makes no sense to speak of enjoyment in that case.)"
   ]
  },
  {
   "cell_type": "markdown",
   "id": "8726d484-beae-4efd-b07b-c4b66ec47ee1",
   "metadata": {},
   "source": [
    "![](figures/figure_30.svg)"
   ]
  },
  {
   "cell_type": "markdown",
   "id": "e8242163-349d-48fb-adc3-6a3b462e6e3a",
   "metadata": {},
   "source": [
    "_`Figure 30. Percentage of OSX-yes respondents, by series enjoyment.`_"
   ]
  },
  {
   "cell_type": "markdown",
   "id": "19cec419-7220-48b0-9fad-0e781b3e6086",
   "metadata": {},
   "source": [
    "The numbers in parentheses indicate the total number of people who said they enjoyed the specific series `Not at all`, `A little`, etc; the green lines indicate the percentage of `OSX-yes` respondents among them. So, for example, across the whole sample, only 5 people said they enjoyed the Classic series only `A little`, and about 80% of them said that CLL was oversexualised.\n",
    "\n",
    "It's very obvious that the percentage of `OSX-yes` respondents declines significantly as the enjoyment of the Classic series goes up; conversely, the same percentages creeps up when the enjoyment of the _Survivor_  series goes up. The LAU series is somewhere in between, both literally and figuratively, as while the percentage of `OSX-yes` respondents goes clearly down with enjoyment, it does so much more slowly than it does in the case of the Classic series. At a sample level, this seems to suggest that hardcore Classic and _Survivor_ fans might feel more strongly about this issue than LAU fans.\n",
    "\n",
    "If we exclude the `OSX-unsure` people and recalculate the percentages above, we can see whether different levels of enjoyment for different series correlate with a skew towards `OSX-yes` or `OSX-no`. In the charts below, the blue lines illustrate the difference between the recalculated percentages of `OSX-yes` and `OSX-no` respondents for each enjoyment group of every series. A positive difference means a group is more skewed towards `OSX-yes` (green area), while a negative difference means it's more skewed towards `OSX-no` (red area). The closer that the blue line is to zero, the more similar to each other are the two percentages."
   ]
  },
  {
   "cell_type": "markdown",
   "id": "f71cf1b1-672b-494d-80d2-9956945f6102",
   "metadata": {},
   "source": [
    "![](figures/figure_31.svg)"
   ]
  },
  {
   "cell_type": "markdown",
   "id": "74cc865f-3c46-488a-a8f0-d25598df348b",
   "metadata": {},
   "source": [
    "_`Figure 31. Difference between the percentage of OSX-yes and OSX-no respondents, by series and enjoyment levels. OSX-unsure respondents have been excluded entirely from the calculation.`_"
   ]
  },
  {
   "cell_type": "markdown",
   "id": "7af244ef-f492-44fe-ac1c-f5014881337e",
   "metadata": {},
   "source": [
    "So, for example, if we consider only respondents with a definite yes-or-no opinion, among those who enjoyed Classic games only `A little`, the `OSX-yes` respondents were 60% more than the `OSX-no`. Among respondents who enjoyed LAU games only `A little`, the two percentaces are pretty much equal, while among players who enjoyed Survivor games `Somewhat`, the `OSX-yes` respondents were about 25% less than the `OSX-no`.\n",
    "\n",
    "From the charts, we can see that, in most cases, respondents who disliked Classic games are firmly in `OSX-yes` territory, crossing the boundary only as enjoyment becomes unequivocally positive. Instead, even as enjoyment of _Survivor_ games goes up, a higher percentage of respondents replied `No` to the question of whether Classic/LAU Lara was oversexualised, inching towards the boundary with each subsequent level and finally crossing it only as the enjoyment is very high. Summing up, **it appears that, in the sample, disliking Classic games correlates with being in the `OSX-yes` camp more than liking _Survivor_ games does.** Liking or disliking LAU games appears to matter much less, and barring an outlier with sample size 1 again, respondents are in the `OSX-no` camp irrespective of enjoyment level, though often barely so."
   ]
  },
  {
   "cell_type": "markdown",
   "id": "b8db64ec",
   "metadata": {
    "tags": []
   },
   "source": [
    "##### Lara bias"
   ]
  },
  {
   "cell_type": "markdown",
   "id": "eeed9b18-f6f8-458d-bd2c-75d3c55b6e27",
   "metadata": {},
   "source": [
    "Whether and to what extent a respondent likes a specific version of Lara may well correlate and influence their opinion on the oversexualisation of CLL. \n",
    "\n",
    "In the following, I combined which versions of Lara the respondents find attractive with which version is their favourite to obtain the following \"appreciation scale\", arranged from the lowest to the highest degree:\n",
    "\n",
    "- `Attractive`: the respondent finds the given version of Lara physically attractive.\n",
    "- `Exclusively attractive`: the respondent finds physically attractive _only_ the given version of Lara, and not any other.\n",
    "- `Favourite`: the given version of Lara is the respondent's favourite in every respect.\n",
    "\n",
    "The reasoning behind this arrangement is that a respondent who finds, say, LAU Lara exclusively attractive likes her more than the other two versions, because he or she isn't attracted to them at all. Respondents were asked to determine their favourite Lara considering everything about her—including appearance—and while they could be attracted to more than one version, they could indicate only one as their favourite, so this seems a natural choice for the highest degree on the appreciation scale.\n",
    "\n",
    "I did not prepare the survey questions with this scale in mind, and more granular questions about each version of Lara would be necessary to better quantify how much a respondent likes it. However, even this simplistic scale can reveal some interesting trends in the data."
   ]
  },
  {
   "cell_type": "markdown",
   "id": "f8657327-375c-4c7d-b59a-a849174acca1",
   "metadata": {},
   "source": [
    "![](figures/figure_32.svg)"
   ]
  },
  {
   "cell_type": "markdown",
   "id": "b0c4cc62-bef1-4d37-b90f-c51c470de1ba",
   "metadata": {},
   "source": [
    "_`Figure 32. Percentage of OSX-yes among respondents, by appreciation level for each Lara.`_"
   ]
  },
  {
   "cell_type": "markdown",
   "id": "98443eb9-d17f-4a12-9fe7-fbcfe1f95f6e",
   "metadata": {},
   "source": [
    "It's obvious that, as preference for Survivor Lara grows, the percentage of respondents saying that Classic/LAU Lara was oversexualised grows too. Conversely, the higher the preference for Classic or LAU Lara, the lower the percentage of `OSX-yes`, especially in the case of Classic Lara. However, strangely enough, the percentage of `OSX-yes` goes up around 10% in both cases when Classic or LAU Lara are a respondent's favourite. In absence of other data, it's probable that this is an artefact due to how the appreciation scale was built. A scale with more and more articulate options would probably work better.\n",
    "\n",
    "Note that, while there is considerable difference overall between the `OSX-yes` lines of Classic and LAU Lara, the difference shrinks down significantly when looking at `OSX-no` lines. Both are fairly high up in the chart below, unlike the Survivor line, all of which generally suggests that **liking Classic/LAU Lara to _any_ extent pushes respondents towards the `OSX-no` camp with similarly high chance, while liking Survivor Lara to _any_ extent correlates with higher chances of `OSX-yes`.**"
   ]
  },
  {
   "cell_type": "markdown",
   "id": "48e4cf20-679c-4e05-82ab-79a5ef47a403",
   "metadata": {},
   "source": [
    "![](figures/figure_33.svg)"
   ]
  },
  {
   "cell_type": "markdown",
   "id": "c70def40-b26e-4515-9274-d47dccb7f6fc",
   "metadata": {},
   "source": [
    "_`Figure 33. Percentage of OSX-no among respondents, by appreciation level for each Lara.`_"
   ]
  },
  {
   "cell_type": "markdown",
   "id": "cad79b31-12ce-4bd0-86ae-148545e3edb0",
   "metadata": {},
   "source": [
    "Also note how any kind of appreciation for Classic/LAU Lara correlates with lower degrees of uncertainty; the opposite is true for Survivor Lara, although the trend presents more variation."
   ]
  },
  {
   "cell_type": "markdown",
   "id": "0f0ddb6a-cdcf-452a-92c7-e649e00ab975",
   "metadata": {},
   "source": [
    "![](figures/figure_34.svg)"
   ]
  },
  {
   "cell_type": "markdown",
   "id": "6e98f6d6-e8d9-425f-ad82-801b1361d13b",
   "metadata": {},
   "source": [
    "_`Figure 34. Percentage of OSX-unsure among respondents, by appreciation level for each Lara.`_"
   ]
  },
  {
   "cell_type": "markdown",
   "id": "d28b3ba9-0bfc-4e46-b455-9fc48c0f3805",
   "metadata": {},
   "source": [
    "In conclusion, **while liking Survivor Lara more correlates with a higher chance of being in the `OSX-yes` camp, and vice-versa for the other two versions of Lara, it looks like Classic/LAU Lara fans are overall more certain of their OSX opinion than Survivor fans.** This might be explained, for example, by a higher prevalence of respondents in the sample who aren't very familiar with Classic/LAU Lara (and therefore reserve judgement) amongst _Survivor_ fans."
   ]
  },
  {
   "cell_type": "markdown",
   "id": "3b9d044c",
   "metadata": {
    "tags": [],
    "toc-hr-collapsed": true
   },
   "source": [
    "### _How_ was Classic/LAU Lara oversexualised?"
   ]
  },
  {
   "cell_type": "markdown",
   "id": "75980e66-c73c-45bb-abe2-3fb26c7a5edc",
   "metadata": {},
   "source": [
    "`OSX-yes` respondents were asked to specify how Classic/LAU Lara was oversexualised by choosing from a list all the options they thought applied. The options corresponded each to a feature of Lara, and can be subdivided into \"physical\" and \"non-physical\", as in pertaining directly to Lara's body appearance or not. In the charts below, these options are indicated by the following abbreviations:\n",
    "\n",
    "|**Type**|**Option** |**Abbreviation**|\n",
    "|:---    |           |            ---:|\n",
    "| Physical |_Her face was too sensual._|`FACE`|\n",
    "| Physical |_Her breasts were unrealistically large._|`BREASTS`|\n",
    "| Physical |_Her waist was unrealistically thin._|`WAIST`|\n",
    "| Physical |_Her hips were unrealistically wide._|`HIPS`|\n",
    "| Non-physical |_Her behaviour was too suggestive._|`BEHAVIOUR`|\n",
    "| Non-physical |_Her clothes were too revealing._|`CLOTHES`|\n",
    "| Non-physical |_Promotional artwork for the games was sometimes inappropriate/suggestive._|`ARTWORK`|\n",
    "| Non-physical |_Her appearances in unrelated commercials were inappropriate/suggestive._|`ADS`|\n",
    "| Unspecified |_Other_|`OTHER`|\n",
    "\n",
    "Note that the `OTHER` option didn't allow respondents to further elaborate.\n",
    "\n",
    "The chart below displays the percentage of `OSX-yes` respondents who ticked each option, in decreasing order; physical features are highlighted in green. Keep in mind that as respondents could choose any number of options they liked, percentages don't have to add up to 100%."
   ]
  },
  {
   "cell_type": "markdown",
   "id": "caf3a8bc-40a8-40a1-9525-b93c13491a0a",
   "metadata": {},
   "source": [
    "![](figures/figure_35.svg)"
   ]
  },
  {
   "cell_type": "markdown",
   "id": "2bb60974-9488-4d9f-a582-69f0a1260f0c",
   "metadata": {},
   "source": [
    "_`Figure 35. Oversexualised features of CLL, by percentage of OSX-yes respondents who voted for them.`_"
   ]
  },
  {
   "cell_type": "markdown",
   "id": "61a7208d-e54e-4741-8115-b5ce4651b5d5",
   "metadata": {},
   "source": [
    "The option with the highest percentage is `BREASTS`, which is hardly surprising: it's difficult to find any critique of Lara Croft that \n",
    "won't disapprove of her allegedly \"impossibly large\" bust, and the views of the respondents might have been influenced by exposure to this commonly held opinion. The `WAIST` option, instead, only comes in third place although a case could be made that it deserved to be first.\n",
    "\n",
    "As said in the introduction, my original project was larger in scope than just this survey, and included taking Classic and LAU Lara's body measurements from her 3D models in different games, so that I could compare them to the official ones stated by her designers and verify if and to what extent they were unrealistic. As I found out, while not small or necessarily common, her breast size isn't unheard of for women, unlike her waist circumference, which averages 49 centimetres across all Classic and LAU games, with an all-time lowest of merely 41 centimetres and a maximum of 56 centimetres. Very few critics ever seem to pay attention to this, but the percentage of fans who voted for the `WAIST` option is nonetheless decent. \n",
    "\n",
    "It's interesting that 35% of the respondents thought Lara's hips were \"unrealistically wide\"; according to my measurements, her in-game hip circumference is the most consistent measurement across all the games; it matches pretty much exactly her official hip circumference and is very common among real-life female models. (It should be noted that what constitutes an \"unrealistic\" measurement wasn't explicitly defined and therefore likely varied for each respondent.)\n",
    "\n",
    "Other high percentages, such as those of `ARTWORK` and `ADS`, are in agreement with the general sentiment on commonly criticised aspects of the franchise, which especially in the early days was well known for its sex-appeal-centric marketing campaign. \n",
    "\n",
    "The percentages above can vary somewhat when broken down by sex or orientation of the respondents, revealing some interesting trends."
   ]
  },
  {
   "cell_type": "markdown",
   "id": "50674607-3d12-4285-a003-3d5bb58a6171",
   "metadata": {},
   "source": [
    "![](figures/figure_36.svg)"
   ]
  },
  {
   "cell_type": "markdown",
   "id": "14beee9c-aec9-4106-a143-58a1582857d1",
   "metadata": {},
   "source": [
    "_`Figure 36. Oversexualised features of CLL, by percentage of OSX-yes respondents who voted for them. Categorised by sex of the respondent.`_"
   ]
  },
  {
   "cell_type": "markdown",
   "id": "a074661b-d473-43ce-ac34-4233e6e22e0f",
   "metadata": {},
   "source": [
    "It's interesting that males and females disagree by and large on every option except `BREASTS`, on which they agree in virtually identical percentages. Also note that, in percentage, female respondents picked nearly every option more frequently than male respondents did, except `BREASTS`, `HIPS` and `WAIST`, which is somewhat surprising. About 50% of them noticed Lara's abnormally tiny waist, which is a fair percentage, but the fact that 20% more males than females did is noteworthy. (The assumption being that women would probably have a better idea than men about what is or isn't a realistic female waist size.) \n",
    "\n",
    "Overall, it would seem that **`OSX-yes` females are slightly-to-fairly more critical of Classic/LAU Lara than `OSX-yes` males in all regards _except_ physical features,** which seems counterintuitive.\n",
    "\n",
    "Perhaps even more interesting patterns emerge when looking at the difference between responses of straight and non-straight survey takers. **Non-straight people generally focussed on non-physical traits more than they did on physical traits, while the opposite is true for straight people**. Additionally, non-straight respondents often focussed on non-physical traits more than straight people did, whereas they focussed on physical traits at most as much as straight people did."
   ]
  },
  {
   "cell_type": "markdown",
   "id": "2b37ae2a-8e98-42d5-a641-d07e6d8dcd88",
   "metadata": {},
   "source": [
    "![](figures/figure_37.svg)"
   ]
  },
  {
   "cell_type": "markdown",
   "id": "66847f80-00d6-4254-88e8-851460a332b0",
   "metadata": {},
   "source": [
    "_`Figure 35. Comparison between the percentage of the votes of straight and non-straight OSX-yes respondents received by each feature.`_"
   ]
  },
  {
   "cell_type": "markdown",
   "id": "8cb9c8a4-de41-475c-b930-9e8470c1f096",
   "metadata": {},
   "source": [
    "However, the difference between votes of straight and non-straight respondents is often minimal when it comes to physical features, barring the `BREASTS` option which was voted by about 20% more heterosexual people. It's tempting to hypothesise that, **for straight people, what constitutes oversexualisation of a character might be the hyperaccentuation of their sex-specific physical traits; for non-straight people, the way a character is presented and acts might be more important.** However, while the two subsamples have comparable sizes, a larger sample and more specific questions would definitely be needed to test this hypothesis; for example, in a sample of this size, it might well be that fewer straight people than others happened to see a lot of promotional _Tomb Raider_ promotional artwork, entirely out of random chance.\n",
    "\n",
    "Straight males and straight females appeared to focus on non-physical features to a similar extent, although they disagree on nearly every individual feature, sometimes dramatically so. Notably, straight females also were much less likely than straight males to vote for physical features, except for `BREASTS`, which was voted for by a slightly higher percentage of straight females instead. However, the straight-female subsample is not comparable in size to the straight-male one, and is in itself too small to draw any meaningful conclusions. Nonetheless, like the previous one, the chart below suggests that oversexualisation might be more about physical features than others for straight people."
   ]
  },
  {
   "cell_type": "markdown",
   "id": "007f5308-1095-49bc-80d1-edd621702cb1",
   "metadata": {},
   "source": [
    "![](figures/figure_38.svg)"
   ]
  },
  {
   "cell_type": "markdown",
   "id": "cca06521-535e-46ad-9920-5d16fa3010b0",
   "metadata": {},
   "source": [
    "_`Figure 34. Comparison between the percentage of the votes of straight male and female OSX-yes respondents received by each feature.`_"
   ]
  },
  {
   "cell_type": "markdown",
   "id": "0c6f2638-cd2f-4372-abaf-347be90438c5",
   "metadata": {
    "tags": [],
    "toc-hr-collapsed": true
   },
   "source": [
    "## Conclusions"
   ]
  },
  {
   "cell_type": "markdown",
   "id": "c72f3b4e-44ca-4ba5-8399-ca926111bba5",
   "metadata": {},
   "source": [
    "In this project, I tried to answer some questions about the perception that the _Tomb Raider_ fandom has of Classic and LAU Lara Croft, as well as to gain insights on the fandom itself. The dataset, obtained through a survey I ran on different social media outlets, contained the answers to 20 different questions of 208 total respondents.\n",
    "\n",
    "The sample in the dataset is mostly male, with younger people between the ages of 18 and 34 constituting the overwhelming majority. While nearly half of the respondents are heterosexual, other orientations exist in relatively large percentages. Overall, Classic _Tomb Raider_ games are the respondents' favourite, especially compared to _Survivor_ games which are the least liked. While age does seem to play a role in how much Classic, LAU, and _Survivor_ games are liked, _Survivor_ games are liked significantly less across all age cohorts.\n",
    "\n",
    "I set out to establish whether Lara's exaggerated sex appeal in Classic and LAU games made the games unlikeable to female players, or anyway less likeable than for males. I further wanted to see if female players prefer _Survivor_ games, for this or any other reason. My analysis revealed that **female players in the sample enjoyed Classic games more than LAU games, and LAU games more than _Survivor_ games, whose enjoyment score is over 30% lower than that of Classic games.**\n",
    "\n",
    "Additionally, sampled female players like Classic games more than males do when measured by overall enjoyment score, although by a small margin. They like both LAU and _Survivor_ games less than males, again not by much. Fewer females than males, in percentage, gave a positive enjoyment score to _Survivor_ games, and more gave a negative one. \n",
    "\n",
    "Generalising these findings to the whole fandom wasn't possible, because some some subsamples (such as the respondents who liked the Classic series only `A little`, among others) were too small to build reliable confidence intervals. However, at a sample level, **the data contradict the hypothesis that female players didn't enjoy Classic and LAU games, and that they prefer _Survivor_ games instead.**\n",
    "\n",
    "Another question I set out to answer was whether Classic and LAU Lara are less liked than Survivor Lara by female players because of their over-the-top sex appeal, and whether straight male players like them more than Survivor Lara for the same reason. The data shows that **Classic Lara is favoured by about 40% of all respondents;** the other two versions virtually tie at around 26%. Although the margin of error for these estimates is large, the analysis showed that, **at a fandom level, we can be 95% sure that Classic Lara is preferred by a larger percentage of the fanbase than the other two versions of Lara.** In the sample, these preferences appear to be influenced somewhat by age, and especially Classic Lara's popularity is higher among older respondents. That notwithstanding, **Survivor Lara is not the absolute favourite of any age cohort.**\n",
    "\n",
    "When broken down by sex, these preferences reveal that, in percentage, **more females than males in the sample prefer Classic and LAU Lara, whereas males prefer Survivor Lara in a fairly higher percentage than females do.** For both sexes, the favourite remains Classic Lara. The least favourites are LAU Lara for males and Survivor Lara for females. At a fandom level, all we could determine with 95% confidence is that **Survivor Lara is unlikely to be the favourite of female fans, with Classic Lara being most likely their favourite;** instead, any other version might be the males' favourite, including Survivor Lara. While all three versions might be liked in equal proportions by both sexes, the analysis suggests that the percentage of male fans preferring Survivor Lara is up to over 20% larger than that of her female fans. Classic and LAU Lara, instead, are more likely to be preferred by a larger proportion of female fans.\n",
    "\n",
    "About **straight males specifically, in the sample they unequivocally prefer Survivor Lara (38%)**, Classic Lara trailing nearly 13 percentage points behind and being their least favourite. Once more, age seems to play a role, with Classic Lara generally scoring higher among older cohorts and vice-versa for Survivor Lara. Preference for LAU Lara goes up and down with age, a trend that was observed many times for both her and LAU games overall, not only as a function of age.\n",
    "\n",
    "When sexual attraction is removed from the equation, preferences among straight males do change, but in an unexpected way. Among straight males who said they were _not_ attracted to Classic Lara, the percentage of those whose favourite was still Classic Lara decreased only by 6.8% compared to the baseline. (That is, the preferences expressed by all straight males in the sample.) This same decline is much more sharp for LAU Lara (24.6%) and Survivor Lara (32.4%), suggesting **preference for LAU or Survivor Lara among straight males may depend on sex appeal more than it does in the case of Classic Lara.**  \n",
    "\n",
    "95% confidence intervals don't allow to rule out any version of Lara as the one preferred by a larger proportion of male fans, but **in the case of non-straight males, Classic Lara is likely the fandom's favourite.**\n",
    "\n",
    "Out of the 208 respondents, **only short of 39% think CLL was oversexualised** (`OSX-yes` for short). Nearly 50% disagreed, and 12% were undecided. At a 95% confidence level, it is possible that the percentage of `OSX-yes` and `OSX-no` may be equal, but that chance is low.\n",
    "Males and females in the sample agree, disagree, and are undecided on this issue in very similar percentages, though the margin of error is high, and at a fandom level these percentages might differ by as much as 30% in a worst-case scenario.  \n",
    "\n",
    "It should be noted that the enjoyment level of each _Tomb Raider_ series appears to affect the respondents' opinion: **higher levels of enjoyment of Classic and LAU games correlate with lower percentages of `OSX-yes`, and vice-versa for _Survivor_ games.** However, the data seems to indicate that disliking Classic games is a better predictor of a respondent being `OSX-yes` than liking _Survivor_ games is. Similarly, **the more a respondent likes Classic or LAU Lara, the less likely they are to be `OSX-yes`, anv vice-versa for Survivor Lara.**\n",
    "\n",
    "In terms of which features were oversexualised, **males and females tended to disagree to varying extents about nearly every feature;** females appeared to be slightly more critical overall—except physical features, about which, interestingly, they were fairly less critical than males. Finally, an interesting trend in the data suggests that **straight and non-straight respondents may have different definitions of \n",
    "oversexualisation of a character,** with non-straight respondents putting far more emphasis on character presentation than straight respondents do. Accentuation of physical traits appears to matter for both parties, though arguably more for straight respondents.\n",
    "\n",
    "#### Caveats\n",
    "\n",
    "When I conceived this survey, I did not plan to do anything but a simple exploratory analysis of the results; the idea to apply statistical methods to them was an afterthought and is intended only as an exercise. Overall, the sample and its many subsamples are too small to draw accurate conclusions on the entire _Tomb Raider_ fandom, as shown by the large margin of errors we've seen. Additionally, the social media outlets through which the survey was shared may over- or underrepresent different demographic groups, which has likely skewed the sample. All conclusions are tentative and would require a larger sample and/or more specific questions to be confirmed or rejected at a fandom level."
   ]
  }
 ],
 "metadata": {
  "kernelspec": {
   "display_name": "Python 3 (ipykernel)",
   "language": "python",
   "name": "python3"
  },
  "language_info": {
   "codemirror_mode": {
    "name": "ipython",
    "version": 3
   },
   "file_extension": ".py",
   "mimetype": "text/x-python",
   "name": "python",
   "nbconvert_exporter": "python",
   "pygments_lexer": "ipython3",
   "version": "3.9.12"
  },
  "toc-showtags": false
 },
 "nbformat": 4,
 "nbformat_minor": 5
}
