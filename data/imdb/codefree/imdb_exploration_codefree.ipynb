{
 "cells": [
  {
   "cell_type": "markdown",
   "id": "4b538051-1dd3-4167-bb88-c8781e85491c",
   "metadata": {},
   "source": [
    "# Movie Curiosities: An IMDB Exploration (code-free)"
   ]
  },
  {
   "cell_type": "markdown",
   "id": "7e628c05-e7cf-40ac-9672-c3aede53fd46",
   "metadata": {
    "tags": []
   },
   "source": [
    "## Introduction"
   ]
  },
  {
   "cell_type": "markdown",
   "id": "255831fd-890b-4ebc-8a37-63ef928d08ed",
   "metadata": {},
   "source": [
    "In this project, I'm going to explore a movie dataset to attempt to answer few, broad questions regarding movie budgets, revenues, scores, etc. I built this dataset combining together three separate ones; if you're interested, you can see how I did it in the notebook [imdb_wrangling.ipynb](https://github.com/NicolaBagala/portfolio/blob/master/imdb/imdb_wrangling.ipynb) found in the same repository as this one. \n",
    "\n",
    "Some of the charts in this notebook are \"convenience\" charts made on-the-fly to spot interesting patterns, as opposed to more sophisticated charts intended for presentations.\n",
    "\n",
    "(**Note:** this is a code-free version of the project. If you want to look at my code, see [imdb_exploration.ipynb](https://github.com/NicolaBagala/portfolio/blob/master/imdb/imdb_exploration.ipynb) in this same repository.)"
   ]
  },
  {
   "cell_type": "markdown",
   "id": "0589d830-b822-4331-9f66-fe3ed88078b5",
   "metadata": {
    "tags": []
   },
   "source": [
    "## The dataset"
   ]
  },
  {
   "cell_type": "markdown",
   "id": "a54c69cf-32a6-44a8-a638-5bd36abb733c",
   "metadata": {},
   "source": [
    "Let's quickly familiarise ourselves with the dataset. It contains 20 columns, briefly summarised below:\n",
    "\n",
    "- `ID` is a unique alphanumeric string automatically assigned by IMDB to each movie.\n",
    "\n",
    "- `TITLE` is the original title of a movie.\n",
    "- `RELEASE_YEAR` is the year when a movie was [first released](https://help.imdb.com/article/contribution/titles/release-dates/GVUUDEPJNAW6G35P#) to the public.\n",
    "- `GENRE` is a string specifying the genres that apply to a movie.\n",
    "- `LENGTH_MIN` is the length of a movie, in minutes.\n",
    "- `COUNTRY` is a string specifying the origin country (or countries) of a movie.\n",
    "- `BUDGET_USD` and `GLOBAL_GROSS_USD` are the budget and worldwide gross of a movie, expressed in inflation-adjusted 2021 United State Dollars.\n",
    "- `WAVG_SCORE` is a weighted average of the scores that IMDB users have given to the movie. This value is calculated by IMDB according to a formula that [they chose not to disclose](https://help.imdb.com/article/imdb/track-movies-tv/weighted-average-ratings/GWT2DSBYVT2F25SK?ref_=helpsect_pro_2_8#). In the text, I sometimes refer to this score as the 'IMDB score'.\n",
    "- `VOTES` is the number of votes that a movie has received from IMDB users. (Users can vote only once for each given movie, so `VOTES` is equivalent to the number of IMDB users who cast a vote on a given movie.)\n",
    "- `M_AVG_SCORE` and `F_AVG_SCORE` contain the average score given to each movie by male and female IMDB users, respectively.\n",
    "- `M_017_AVG_SCORE` to `M_45PLUS_AVG_SCORE` break down a movie's average score by age brackets for male voters (`45PLUS` means age 45 and above). For example, if `M_017_AVG_SCORE` was 7.3 for *The Prestige*, it would mean that the average score that IMDB male users between the ages of 0 and 17 gave to that movie is 7.3. Similarly, columns `F_017_AVG_SCORE` to `F_45PLUS_AVG_SCORE` refer to female users only."
   ]
  },
  {
   "cell_type": "markdown",
   "id": "96fccf62-b760-46ae-a178-2ce47db432c8",
   "metadata": {
    "tags": []
   },
   "source": [
    "## Exploring the dataset"
   ]
  },
  {
   "cell_type": "markdown",
   "id": "e03a5fec-2813-4189-9a40-0ad0164cdcc2",
   "metadata": {},
   "source": [
    "Broadly speaking, we'll deal with three kinds of questions, plus any further questions that may originate from them as we go:\n",
    "\n",
    "- questions regarding movie budgets and revenues,\n",
    "- questions about movie length, and\n",
    "- questions about movie scores."
   ]
  },
  {
   "cell_type": "markdown",
   "id": "790975df-62a2-4cc0-84ed-5ff1992e4e8c",
   "metadata": {
    "tags": []
   },
   "source": [
    "### Of budgets and revenues"
   ]
  },
  {
   "cell_type": "markdown",
   "id": "853de0dc-6904-4edc-a7bc-f8a1ad7fc2dc",
   "metadata": {},
   "source": [
    "In this section, we're going to try to answer three main questions:\n",
    "\n",
    "1. **How did movie budgets change over time?**\n",
    "2. **How did movie revenues change over time?**\n",
    "3. **Is there a correlation between movie budgets and movie revenues?**\n",
    "\n",
    "(You'll notice I'm using the word \"revenue\" to refer to the global gross of movies, indicated in the dataset column `GLOBAL_GROSS_USD`. That's because a) \"revenue\" is shorter than \"global gross\", and b) the word \"gross\" is, well, gross.) \n",
    "\n",
    "Of course, changes in budgets and revenues can depend on many things—for example, it's possible that budgets would go up in some countries, but down in others. What we're aiming for is a broad overview, so in general, we're going to settle for worldwide averages. (Keep in mind that several budget and revenue values were intentionally eliminated from the dataset during the wrangling phase, because they were unsuitable for various reasons.)"
   ]
  },
  {
   "cell_type": "markdown",
   "id": "f8811391-2985-4124-8bc8-c1e7fe0c4bed",
   "metadata": {
    "tags": []
   },
   "source": [
    "#### Budgets go up..."
   ]
  },
  {
   "cell_type": "markdown",
   "id": "0735841d-da58-4f18-a218-d7a0e7ef41fb",
   "metadata": {},
   "source": [
    "We don't have budget information for all movies in the dataset: only short of 14000 movies come with that information, and the number of movies with known budget varies pretty much each year.\n",
    "\n",
    "![](figures/movies_with_budget.png)"
   ]
  },
  {
   "cell_type": "markdown",
   "id": "b484e13c-961b-4619-a978-2f2773675036",
   "metadata": {},
   "source": [
    "_`Figure 1. Movies with budget vs movies in the dataset, by year.`_"
   ]
  },
  {
   "cell_type": "markdown",
   "id": "3b4094df-964d-4e8c-8dc3-882a59058e97",
   "metadata": {},
   "source": [
    "This means that, for some years, we'll likely have a less accurate average budget, because we have far fewer budgets to calculate it from. With that caveat in mind, let's plot the average budget for each given year.\n",
    "\n",
    "![](figures/avg_budget_by_year.png)"
   ]
  },
  {
   "cell_type": "markdown",
   "id": "9863b3df-02e1-4a58-85c8-b74a0e881a15",
   "metadata": {},
   "source": [
    "_`Figure 2. Average movie budget by year.`_"
   ]
  },
  {
   "cell_type": "markdown",
   "id": "38ec63f7-2a8f-4d36-9599-2cbe23d22e07",
   "metadata": {},
   "source": [
    "At a glance, it looks like **movie budgets have been growing somewhat steadily, though with a lot of ups and downs.** This might be for a number of reasons—for example, fewer (or more) movies might have been produced in a given year, or maybe they were less (or more) expensive compared to movies from other years."
   ]
  },
  {
   "cell_type": "markdown",
   "id": "de0a0bd0-2036-4f96-afe7-9845ee4d80a4",
   "metadata": {
    "tags": []
   },
   "source": [
    "#### ...but revenues go down"
   ]
  },
  {
   "cell_type": "markdown",
   "id": "839aa518-e04b-4b0c-b56b-31260c2904c3",
   "metadata": {},
   "source": [
    "Next, we can look into how movie revenues have been changing over the years. As before, we don't know the revenue for every movie in the dataset. Before the 60s, there's basically no revenue information to speak of.\n",
    "\n",
    "![](figures/movies_with_revenue.png)"
   ]
  },
  {
   "cell_type": "markdown",
   "id": "eb6bf6ee-99ea-4ade-a46c-48ced70a1a93",
   "metadata": {},
   "source": [
    "_`Figure 3. Movies with revenue vs movies in the dataset, by year.`_"
   ]
  },
  {
   "cell_type": "markdown",
   "id": "29d361b0-3f4d-4552-9067-9c1c590d716c",
   "metadata": {},
   "source": [
    "If we plot the average worldwide movie revenue by year, you can immediately tell that something's off.\n",
    "\n",
    "![](figures/revenue_by_year.png)"
   ]
  },
  {
   "cell_type": "markdown",
   "id": "09b2d2b4-4bea-4c72-89f1-375b081c547d",
   "metadata": {},
   "source": [
    "_`Figure 4. Average movie revenue by year.`_"
   ]
  },
  {
   "cell_type": "markdown",
   "id": "9784f2cf-99fb-4ba3-9c02-41fe36c33a90",
   "metadata": {},
   "source": [
    "There are _huge_ spikes around the 1940s, and while there may well be ridiculously high-grossing outliers from that time ([_Gone with the Wind_](https://en.wikipedia.org/wiki/Gone_with_the_Wind_(film)) being one), this is likely an artefact due to the lack of revenue data for that time period. Let's have a look at what's causing the spikes; then we'll try to restrict the chart to a more sensible time frame. The table below shows the 10 top-grossing movies from 1939 to 1942.\n",
    "\n",
    "![](figures/revenue_outliers.png)"
   ]
  },
  {
   "cell_type": "markdown",
   "id": "3b3ca36a-3f68-4432-8a20-6d7472fb39db",
   "metadata": {},
   "source": [
    "_`Table 1. Ten top-grossing movies from 1937 to 1942.`_"
   ]
  },
  {
   "cell_type": "markdown",
   "id": "c1db63b7-7fb4-4fa1-82d1-b22b5ed910c8",
   "metadata": {},
   "source": [
    "The ten movies above have made a lot of money—sometimes in the order of _billions!_ However, only a handful of movies from the same period come with revenue data, so this is what's causing the absurdly huge spikes. From the chart in `Figure 3`, it is difficult to tell exactly how many movies come with revenue data each year, so let's choose a threshold manually. Around the time of the spikes, there are only about 8 known revenues per year; that is very little, so, let's say instead that we want at least 25 known revenues in a year to bother calculating the average revenue for that year, and let's plot that subset of the data.\n",
    "\n",
    "![](figures/avg_median_revenue_by_year_restricted.png)"
   ]
  },
  {
   "cell_type": "markdown",
   "id": "05b2d228-60ad-420d-a75b-b88e858805e3",
   "metadata": {},
   "source": [
    "_`Figure 5. Average and median movie revenue by year. (Only years with 25 or more movies.)`_"
   ]
  },
  {
   "cell_type": "markdown",
   "id": "3b831438-3579-4ca3-b028-5dd581a14b15",
   "metadata": {},
   "source": [
    "Naturally, the same trend we saw in `Figure 4` is still there—it seems that **movie revenues are slowly going down on average.** This is not related to how many data points we have: especially after the year 2000, there's plenty of revenue information for all years, except for 2020 (which is around the time when the original dataset was created). Even the median revenue per year (in red) shows a decline spanning from the late 70s to the year 2000. However, before and after this timeframe, the median is essentially flat; this is true also for the median across _all_ available revenues.\n",
    "\n",
    "![](figures/median_revenue_by_year.png)"
   ]
  },
  {
   "cell_type": "markdown",
   "id": "680be1e1-0c5a-4434-abe4-99c4f0155cf7",
   "metadata": {},
   "source": [
    "_`Figure 6. Median movie revenue by year. (All years in the dataset.)`_"
   ]
  },
  {
   "cell_type": "markdown",
   "id": "d539ea67-5864-4d12-a337-0c9ea5eb6abf",
   "metadata": {},
   "source": [
    "Barring the exceptional spikes from the 40s and before, it seems that the median movie revenue has been virtually the same, around 1.000.000 2021-USD, _except_ for a sudden peak in the late 70s that took over 20 years to fully disappear. In the chart below, we're showing revenues from three time frames: 1945-1975, 1976-2000, and 2000-2020. The maximum revenue, represented by the end of each top whisker, is very similar across the three time frames, and the three average revenues—in blue—aren't that far apart from each other either. However, the three median revenues (in red) all have different orders of magnitude: the 1945-1975 median is around \\\\$460.000; the 1976-2000 median is about \\\\$11 million, and the 2001-2020 median is around \\\\$1 million. This means, for example, that 50\\% of the movies from 1976-2000 grossed at least $11 million. Below the upper edge of each golden box lie seventy-five percent of the revenues, so **50\\% of the movies from 1976-2000 had a higher revenue than 75\\% of the movies from both the other two time frames!**\n",
    "\n",
    "![](figures/revenue_box_plot.png)"
   ]
  },
  {
   "cell_type": "markdown",
   "id": "1537bbdf-42d9-4861-87dd-0175c8d33d06",
   "metadata": {},
   "source": [
    "_`Figure 7. Mean, median and quartiles of movie revenues from 1945-1975, 1976-2000, and 2000-2020.`_"
   ]
  },
  {
   "cell_type": "markdown",
   "id": "331dfb07-960c-4b21-bbb1-bdcddea57166",
   "metadata": {},
   "source": [
    "In short, this suggests that **movies between 1976 and 2000 generally grossed more than movies from the other two time periods**, although the rather different number of revenues available might be affecting this result. Movies outside the 1976-2000 peak _did_ gross less on average, but the peak may well be just an exception. What might have caused it is an interesting question, but it's beyond the scope of this project."
   ]
  },
  {
   "cell_type": "markdown",
   "id": "f7f97f3c-eda2-4fb9-b71c-89515b1c82e3",
   "metadata": {
    "tags": []
   },
   "source": [
    "#### Spend more, earn more?"
   ]
  },
  {
   "cell_type": "markdown",
   "id": "ded8a0ee-f45f-4d7b-b54e-adeea0343bc6",
   "metadata": {},
   "source": [
    "It's fair to wonder whether more expensive movies tend to make more money than less expensive ones. To try to answer that question, we can look for a correlation between movie budgets and movie revenues. There are 7148 movies with both budget and revenue information in the dataset, and the Pearson correlation coefficient between these two values is just below 0.6. That is a moderate positive correlation, suggesting that the two values may indeed go up or down together in a linear fashion. However, a quick scatter plot shows that most movies cluster to the bottom left of the chart.\n",
    "\n",
    "![](figures/budget_vs_revenue_scatter.png)"
   ]
  },
  {
   "cell_type": "markdown",
   "id": "9c90d2e7-c53d-4191-9b9f-d79df6b2cd32",
   "metadata": {},
   "source": [
    "_`Figure 8. Movie revenue vs movie budget.`_"
   ]
  },
  {
   "cell_type": "markdown",
   "id": "6821049e-84b5-4440-b229-7934d95e90e2",
   "metadata": {},
   "source": [
    "While we can see a slight upward trend as the budget grows, the jungle of points in the lower-left quadrant makes it difficult to spot any pattern. We can try to \"zoom in\" on movies with a budget below 200.000.000 USD, and take a smaller random sample to avoid an overly crowded chart.\n",
    "\n",
    "![](figures/budget_vs_revenue_scatter_zoomed.png)"
   ]
  },
  {
   "cell_type": "markdown",
   "id": "e37cb915-0709-4f21-9df4-fe7cd858029d",
   "metadata": {},
   "source": [
    "_`Figure 9. Movie revenue vs budget. (Half of budgets below $200.000.000.)`_"
   ]
  },
  {
   "cell_type": "markdown",
   "id": "df16d34e-a468-46d0-83b0-f865add26a6c",
   "metadata": {},
   "source": [
    "There's a bit of an uptick past about 100.000.000 USD, but the situation is still too crowded to make sense of it with a scatter plot. Another option is to subdivide our budget range into convenient intervals, group together budgets that fall in the same interval, and calculate their average revenue.\n",
    "\n",
    "![](figures/revenue_by_budget_interval.png)"
   ]
  },
  {
   "cell_type": "markdown",
   "id": "592ae8e0-6d66-4873-9d07-e00c093d3ca5",
   "metadata": {},
   "source": [
    "_`Figure 10. Average revenue by budget range.`_"
   ]
  },
  {
   "cell_type": "markdown",
   "id": "c0fc4606-0e29-4310-8564-84d871ed0de1",
   "metadata": {},
   "source": [
    "The chart leaves no doubt that, on average, the higher the budget, the higher the revenue, especially for very high budgets. This applies only to the subset of movies with budget and revenue information we have available, though, and doesn't take into account the year the movie was released. (Many different factors may influence movie revenues, and it may well be that, for a particular year, movie revenues were low on their own, no matter the budget.)"
   ]
  },
  {
   "cell_type": "markdown",
   "id": "0046a891-a0f8-4769-b864-86e2f642fb38",
   "metadata": {
    "tags": [],
    "toc-hr-collapsed": true
   },
   "source": [
    "### Does size matter?"
   ]
  },
  {
   "cell_type": "markdown",
   "id": "c3cae9ce-dc78-459f-8d8a-4e9f196ca558",
   "metadata": {},
   "source": [
    "Back in the 90s, about 90-100 minutes were pretty typical lengths for movies. However, one gets the impression that movies have been getting longer in more recent years, so it's fair to wonder whether movie length has been increasing in a consistent fashion over time. In this section, we're going to check that; additionally, we're going to see if longer movies are more expensive (which is reasonable to expect) and whether there's any correlation between the length of a movie and how well it scores.\n",
    "\n",
    "![](figures/avg_length_by_year.png)"
   ]
  },
  {
   "cell_type": "markdown",
   "id": "0f0bca46-bc9f-47f0-9e36-985dc9a20646",
   "metadata": {},
   "source": [
    "_`Figure 11. Average movie length by year.`_"
   ]
  },
  {
   "cell_type": "markdown",
   "id": "434eebbd-f70a-4685-ab40-c8ed941ebbc6",
   "metadata": {},
   "source": [
    "The question of length was easy to settle—quite clearly, **the average movie length has been going up over the years.** The more jagged line up until about the 1930s is likely due to the low number of movies we have for that time frame, although it would be interesting to see what are the outliers of the early 1920s that pushed the average movie length all the way up to present-day levels.\n",
    "\n",
    "![](figures/length_outliers.png)"
   ]
  },
  {
   "cell_type": "markdown",
   "id": "69cc63ff-b6a4-4e27-b241-37c969237922",
   "metadata": {},
   "source": [
    "_`Figure 12. Average movie length between 1920 and 1930. The highlights show extreme outliers.`_"
   ]
  },
  {
   "cell_type": "markdown",
   "id": "f6a29153-18a5-4cc8-9fe7-d4ec90a4cf9e",
   "metadata": {},
   "source": [
    "From the line chart above, two years stand out in particular: 1923 and 1924. Compared to other years of the decade, they have the highest percentages of movies whose length was above the average of the time, which was about 87 minutes.\n",
    "\n",
    "![](figures/movies_above_avg_length.png)"
   ]
  },
  {
   "cell_type": "markdown",
   "id": "49bef1f5-541e-44ac-a6ae-c63cc8bce1d1",
   "metadata": {},
   "source": [
    "_`Figure 13. Percentage of movies of length above each year's average, 1920-1930.`_"
   ]
  },
  {
   "cell_type": "markdown",
   "id": "dfc89dcc-2160-4266-8c94-26ef6c6d055a",
   "metadata": {},
   "source": [
    "Now that we know where to look, we can find the five longest movies from those two years that were above average length.\n",
    "\n",
    "![](figures/top-5_longest.png)"
   ]
  },
  {
   "cell_type": "markdown",
   "id": "5b01ad65-0ad2-4cbd-9170-719511cbf98c",
   "metadata": {},
   "source": [
    "_`Figure 14. Length of top-5 longest movies from 1923 and 1924.`_"
   ]
  },
  {
   "cell_type": "markdown",
   "id": "c58cc337-8d5c-4274-a6d3-c91e24eddf77",
   "metadata": {},
   "source": [
    "With a bit of a stretch, you could say that, in 1924, the top-5 longest movies were fairly comparable both in length and in how much longer than average they were; **in 1923, the longest movie was about three times longer than the other four in the top-5!**\n",
    "\n",
    "Next, we can have a look at any possible correlation between movie length and movie budget. Intuitively, we expect a strong positive correlation: the longer the movie, the higher its cost and thus its budget should be; instead, with a Pearson coefficient barely above 0.4, the correlation between the two is weak-ish—certainly weaker than I was expecting. If we look at a scatter plot over all movies, we see that up to some point between 150 and 200 minutes, budgets _do_ tend to increase with movie length; however, past that point, budget size decreases again, being relatively low for some length outliers. (Movies with no budget information are not shown.)\n",
    "\n",
    "![](figures/length_vs_budget_scatter.png)"
   ]
  },
  {
   "cell_type": "markdown",
   "id": "ef407e89-5303-435d-a5ab-742ddc6edf8b",
   "metadata": {},
   "source": [
    "_`Figure 15. Movie budget vs movie length.`_"
   ]
  },
  {
   "cell_type": "markdown",
   "id": "8620510c-61eb-4186-a897-1953b83b82f7",
   "metadata": {},
   "source": [
    "It makes sense to see whether budgets increase _on average_ with movie length. Let's categorise each movie based on its duration as follows:\n",
    "\n",
    "- `Up to 1 hr`\n",
    "- `1-2 hr`\n",
    "- `2-3 hr`\n",
    "- `3-4 hr`\n",
    "- `Over 4 hr`\n",
    "\n",
    "Unfortunately, this categorisation will produce rather different category sizes, but it's better than the alternative. Categories with comparable numbers of movies tend to include movies with length ranges that are either too short (such as 86-93 minutes) or too long (112-808 minutes!).\n",
    "\n",
    "![](figures/length_vs_budget_line.png)\n"
   ]
  },
  {
   "cell_type": "markdown",
   "id": "51168e27-3e1d-4bfd-8fd0-e20321cd2971",
   "metadata": {},
   "source": [
    "_`Figure 16. Average movie budget by length category.`_"
   ]
  },
  {
   "cell_type": "markdown",
   "id": "0d74c521-c43c-4e9d-9673-926b40f4241c",
   "metadata": {},
   "source": [
    "The chart above seems to confirm what the scatterplot said: up to around 4 hours, the longer the movie, the higher the budget; however, the steepness of the line decreases with movie length, which means that **budget increases become more and more modest as the length of the movie goes up.** After the 4-hour mark, budgets drop.\n",
    "\n",
    "Finally, we can see if the length of a movie and how high it scores are correlated in any way. Intuitively, we should expect they don't; and indeed, the Pearson coefficient is just above 0.2, so there's basically no (linear) relationship between the two variables, as shown by the scatterplot below: **within the 200-minute mark, virtually all possible scores are attained many, many times.** However, after the 400-minute mark, movies do tend to score fairly high. Still, these are exceptions, as movies that long are extremely rare, and are probably works of art whose high score is unlikely to depend on their length.\n",
    "\n",
    "![](figures/length_vs_score_scatter.png)"
   ]
  },
  {
   "cell_type": "markdown",
   "id": "2aab10ce-0244-4f34-be4d-48829260c2c9",
   "metadata": {},
   "source": [
    "_`Figure 18. Average movie score vs. movie length.`_"
   ]
  },
  {
   "cell_type": "markdown",
   "id": "15117401-64e0-4642-b4e3-00a571223bd1",
   "metadata": {
    "tags": []
   },
   "source": [
    "### IMDB scores inside out"
   ]
  },
  {
   "cell_type": "markdown",
   "id": "f88feb24-0241-47f2-8d38-08720bb9aff1",
   "metadata": {},
   "source": [
    "Let's start with an overview of the movie scores on IMDB. What does the `WAVG_SCORE` distribution look like?\n",
    "\n",
    "![](figures/score_distribution.png)"
   ]
  },
  {
   "cell_type": "markdown",
   "id": "12529b52-be11-4a81-9722-38841227ed28",
   "metadata": {},
   "source": [
    "_`Figure 19. Distribution of movies in the dataset by their average IMDB score.`_"
   ]
  },
  {
   "cell_type": "markdown",
   "id": "c4436bae-a086-4105-a58a-d6d7f6c889c5",
   "metadata": {},
   "source": [
    "The distribution is fairly left-skewed. On average, the `WAVG_SCORE` of a movie on IMDB is 5.9; the median is barely above that at 6.1, while the most frequent `WAVG_SCORE` is 6.4. This means around 25,000 movies on IMDB are considered to be about average, in that their score gravitates around the average score across the entire dataset. Slightly more movies could be defined as \"good\", that is with an average score between about 6.5 and 7. Very good movies are more rare: the number of movies drops dramatically when the score is just above 7, and truly outstanding movies, scoring above 8, are extremely rare.\n",
    "\n",
    "Another interesting, generic question we can ask ourselves is: **do older movies score worse or better than modern movies?** That's easy to see.\n",
    "\n",
    "![](figures/avg_score_by_year.png)"
   ]
  },
  {
   "cell_type": "markdown",
   "id": "5fab16e3-6414-4fd7-918e-bfa9866644fa",
   "metadata": {},
   "source": [
    "_`Figure 20. Average movie score by year.`_"
   ]
  },
  {
   "cell_type": "markdown",
   "id": "1c4f7896-ea03-404d-8c9d-5131193d9cdb",
   "metadata": {},
   "source": [
    "On average, movie scores seem to be plummeting with time. **Let's keep in mind, however, that this does not reflect how \"picky\" viewers from different times may be:** IMDB was not around [before 1990](https://www.britannica.com/topic/IMDb), so what we're seeing here is how modern viewers rate movies from different years, and it appears that, on average, they rate older movies more highly. This may be for a variety of reasons: it might be that there are only few titles for older years and they all happen to be rated fairly highly; it might be that only movie _connaisseurs_ watch and rate older movies, and they may be more likely to rate them highly than the average modern viewer; or, it might be that older movies were actually better according to the average viewer."
   ]
  },
  {
   "cell_type": "markdown",
   "id": "c7303c31-7c6a-4587-8d02-2652dc893c0c",
   "metadata": {},
   "source": [
    "#### Scores and budgets"
   ]
  },
  {
   "cell_type": "markdown",
   "id": "9415a7a3-b931-42a4-8d6b-e239f2983411",
   "metadata": {},
   "source": [
    "Moving on to more specific questions, we can try to see whether throwing more money at a movie increases its chances of being successful. In more formal terms: **do higher budgets correlate with higher scores?** We can start by looking at the Pearson correlation coefficient: about 0.28. Any correlation, if at all present, is very weak. The scatter plot below, however, seems to suggest that rather than a _linear_ correlation, measured by the Pearson coefficient, the two variables might have a _logarithmic_ correlation: `WAVG_SCORE` does increase with `BUDGET_USD`, but the increase becomes less and less important with larger budgets. (At a point, this must happen anyway, because the `WAVG_SCORE` can't be more than 10.)\n",
    "\n",
    "![](figures/budget_vs_score_scatter.png)"
   ]
  },
  {
   "cell_type": "markdown",
   "id": "c39069b2-82e8-4277-bcc9-00e9b1633673",
   "metadata": {},
   "source": [
    "_`Figure 21. Average score vs budget.`_"
   ]
  },
  {
   "cell_type": "markdown",
   "id": "4dfce4a2-1b07-4fe7-b162-135b94022ff2",
   "metadata": {},
   "source": [
    "At a glance, most movies have budgets up to \\\\$100.000.000, yet their score range is rather dense and wide, spanning from the minimum all the way to the maximum. Most of the data points representing movies with budget up to a hundred million dollars cluster around score 6, suggesting that decent—and even very good—movies can be produced even with a relatively modest budget.\n",
    "\n",
    "Movies with a budget larger than \\\\$100.000.000 are more rare, but they're also less likely to score below 5. Movies with extremely high budgets don't really break through the ceiling of score 8 to any significant extent; movies with more modest budgets do that much more often, but of course, lower-budget movies are vastly more common, so, statistically speaking, this is to be expected. \n",
    "\n",
    "As we did before for different variables, we can group movies into budget groups, calculate the average score for each group, and see how this average varies.\n",
    "\n",
    "![](figures/budget_vs_score_line.png)"
   ]
  },
  {
   "cell_type": "markdown",
   "id": "db67e974-fb1e-43ec-9e54-4a1de2079cba",
   "metadata": {},
   "source": [
    "_`Figure 22. Average score by budget group.`_"
   ]
  },
  {
   "cell_type": "markdown",
   "id": "3bca3943-d78a-438c-acfd-964d3041ee26",
   "metadata": {},
   "source": [
    "As the scatter plot in `Figure 21` suggested, the average IMDB score does grow with budget size, but the growth is indeed logarithmic-looking: faster at first, slower later on. This suggests that, **after a certain point, more money won't necessarily make the movie better**; not everything about movie quality depends on how much you can spend on it."
   ]
  },
  {
   "cell_type": "markdown",
   "id": "5ff2eeb6-772b-4bda-a60e-8b67f92240b2",
   "metadata": {},
   "source": [
    "#### Scores and revenue"
   ]
  },
  {
   "cell_type": "markdown",
   "id": "083804ae-5d91-44f2-a5bf-dec33af5722f",
   "metadata": {},
   "source": [
    "The next question we can tackle is whether a higher score correlates with a higher revenue, which seems reasonable to expect: the higher a movie is rated, the more the people that will likely be willing to pay to see it. As usual, let's first get a sense for it by checking the Pearson coefficient and a scatter plot. The coefficient is about 0.15, suggesting no linear correlation, though the two variables might be correlated in some other way.\n",
    "\n",
    "![](figures/score_vs_revenue_scatter.png)"
   ]
  },
  {
   "cell_type": "markdown",
   "id": "b763526a-2a4a-4f39-b6ae-7335f1bfe6c0",
   "metadata": {},
   "source": [
    "_`Figure 23. Movie revenue vs. average score.`_"
   ]
  },
  {
   "cell_type": "markdown",
   "id": "34507cc5-03f7-4fcb-a40c-3201d6b6c76b",
   "metadata": {},
   "source": [
    "There is certainly no shortage of movies that didn't gross a lot despite scoring very high. However, it does look like that revenue increases with score—slower at first, then faster and faster until about score 7.5, when the revenue slightly decreases again. By grouping movies by scores, we can see if this trends holds true on average.\n",
    "\n",
    "![](figures/score_vs_revenue_line.png)"
   ]
  },
  {
   "cell_type": "markdown",
   "id": "7d93b670-cf7a-4eb3-8e35-cebe93635300",
   "metadata": {},
   "source": [
    "_`Figure 24. Average revenue by score group.`_"
   ]
  },
  {
   "cell_type": "markdown",
   "id": "83bf66ee-1c6a-4d8e-ac83-ee2ee695116a",
   "metadata": {},
   "source": [
    "In general, the trend seems confirmed; however, we need to keep in mind that among movies that scored 7 or higher, there are a few outliers that happen to have high-to-very-high revenues, and if we excluded them, the curve wouldn't rise quite so steeply."
   ]
  },
  {
   "cell_type": "markdown",
   "id": "9fd1ccca-a07b-4263-99df-23deeabbe27d",
   "metadata": {},
   "source": [
    "#### Average movie score by country"
   ]
  },
  {
   "cell_type": "markdown",
   "id": "2049d538-4852-4a76-8b07-96e7be3bcae6",
   "metadata": {},
   "source": [
    "It would be interesting to find out what's the average rating for movies of each given country; we can calculate this as the average `WAVG_SCORE` (so, an average of averages) of all movies that come from each country. In some cases, a movie was produced by more than one country, which means that such a movie will be counted in multiple averages. For example, if a movie was a joint collaboration between the US and the UK, its score would be factored in in the average for both countries. Note that the country of origin of a movie isn't always known; we'll ignore these movies. To get an idea of the reliability of this average, we'll also keep track of how many movies there are for each country and the average number of votes per movie, calculated as the total number of votes for all movies of a given country divided by the total number of movies from that country. The results for the ten top-scoring countries can be seen in the table below.\n",
    "\n",
    "![](figures/score_by_country_top_10.png)"
   ]
  },
  {
   "cell_type": "markdown",
   "id": "18e003f8-8674-4f5c-be65-789a6a06889a",
   "metadata": {},
   "source": [
    "_`Table 2. Top-10 countries by average score of their movies.`_"
   ]
  },
  {
   "cell_type": "markdown",
   "id": "61053636-bdcc-414d-8903-3a6b7dcb354b",
   "metadata": {},
   "source": [
    "Most of the 10 top-scoring countries in the table above aren't exactly the first that come to mind when you think of famous or very good movies. This doesn't mean that they *can't* produce good movies, but for most of them, we only know about a handful of movies they've produced, which is not enough to tell how good movies from those countries may be on average. We need to choose a cut-off point, a minimum number of movies that a country must have for us to consider it. Up to 50% of all countries in the dataset have far too few movies—21 at most. This is admittedly rather arbitrary, but let's choose as the cut-off point the 75% mark, that is only countries with more than 224 movies on record.\n",
    "\n",
    "![](figures/score_by_country_top_10_filtered.png)"
   ]
  },
  {
   "cell_type": "markdown",
   "id": "a7c326b6-df05-462a-8438-eca7d4f775e7",
   "metadata": {},
   "source": [
    "_`Table 3. Top-10 countries by average score of their movies. (Only countries with 224 or more movies.)`_"
   ]
  },
  {
   "cell_type": "markdown",
   "id": "fe852072-50c4-4b70-b8ac-66bffea7daae",
   "metadata": {},
   "source": [
    "The list we got is a bit \"better\": there are much many more movies per country, and the average number of votes per movie is decent too. Still, intuitively one would probably expect to see the USA somewhere among the top-10, yet it's not there. Where is it?\n",
    "\n",
    "![](figures/score_by_country_bottom_5.png)"
   ]
  },
  {
   "cell_type": "markdown",
   "id": "78f7c405-fe8e-481b-924e-3c3e86880086",
   "metadata": {},
   "source": [
    "_`Table 4. Bottom-5 countries by average score of their movies. (Only countries with 224 or more movies.)`_"
   ]
  },
  {
   "cell_type": "markdown",
   "id": "cf80e9ec-1e46-4fa3-ae90-b98321cfcd50",
   "metadata": {},
   "source": [
    "Nearly at the bottom, with a rather mediocre score. We can compare the distribution of IMDB average scores for the USA against that of the world in the chart below.\n",
    "\n",
    "![](figures/usa_vs_world_score.png)"
   ]
  },
  {
   "cell_type": "markdown",
   "id": "5ea7b7b3-fa44-4e51-b7db-98f0ea22ba2e",
   "metadata": {},
   "source": [
    "_`Figure 25. Proportion of movies across the average score range, USA vs. world.`_"
   ]
  },
  {
   "cell_type": "markdown",
   "id": "d135eb6a-1d4c-4d1e-ae79-0022e5c3f6f6",
   "metadata": {},
   "source": [
    "Compared to the entire world, it seems the USA has a higher percentage of \"bad\" scores, i.e. below 6, and a lower percentage of scores above 6. Compare this with movies from the Soviet Union, which is at the top of our list:\n",
    "\n",
    "![](figures/urss_vs_world_score.png)"
   ]
  },
  {
   "cell_type": "markdown",
   "id": "e41e2831-0395-426e-b2d5-31795d70313e",
   "metadata": {},
   "source": [
    "_`Figure 26. Proportion of movies across the average score range, URSS vs. world.`_"
   ]
  },
  {
   "cell_type": "markdown",
   "id": "acf3dfe5-d7cf-4b24-b499-c472ac11d4fa",
   "metadata": {},
   "source": [
    "The distribution is _dramatically_ different from that of the entire world, with over 70% of Soviet Union movies scoring on average around 7, and nearly 20% around 8. It may well be that Soviet Union movies are just that good, though the stark difference from the world distribution is a little suspect. A possible explanation may lie in _who_ watches these movies. For example, if they were only available in Russian without subtitles, it's possible that they're watched mostly by Russian people, who might rate them more highly than other people would because they can relate to them more.\n",
    "\n",
    "If this were true, the fact that movies from _Russia_, instead, are at the bottom of the list just above the USA might seem a bit of a puzzle; it could be explained by the fact that Russia (as in, the modern Russian Federation) came to be in 1991, after the Soviet Union collapsed, so Russian movies are more recent and perhaps more likely to have reached a wider audience. It's also possible that country data might be mixed up and therefore causing errors: for example, the dataset contains movies from the Soviet Union released _after_ its collapse, and movies from Russia from well before it was created: the newest Soviet Union movie in the dataset is from 1995, and the oldest Russian movie in the dataset is from 1911.\n",
    "\n",
    "In any case, checking whether there is any \"country bias\" in the votes is not possible, because the dataset doesn't contain very granular location data. (The original dataset only categorised voters as being either located in the US or not.)"
   ]
  },
  {
   "cell_type": "markdown",
   "id": "69187a38-6966-4a40-acf4-9108dc1eecd1",
   "metadata": {},
   "source": [
    "#### Influence of voter sex and movie genre on scores"
   ]
  },
  {
   "cell_type": "markdown",
   "id": "32f40822-b9cc-4452-b6f5-d9ee3ef86d59",
   "metadata": {},
   "source": [
    "It's natural to wonder which movie genres rank the highest on IMDB. To figure it out, we can use the same kind of list we used to check average scores by country.\n",
    "\n",
    "![](figures/score_by_genre.png)"
   ]
  },
  {
   "cell_type": "markdown",
   "id": "1b47d81c-8d4a-46ef-b049-c7fd05d80814",
   "metadata": {},
   "source": [
    "_`Table 5. Movie genre by average score.`_"
   ]
  },
  {
   "cell_type": "markdown",
   "id": "a8c9f32c-c176-4593-bbe6-52587c773437",
   "metadata": {},
   "source": [
    "Just like before, some scores don't necessarily describe the overall quality of their respective genre, because they were calculated basing on too few movies. Only 25% of all genre scores are based on less than 1583 movies, so let's restrict ourselves to genres with at least that many movies on record.\n",
    "\n",
    "![](figures/score_by_genre_filtered.png)"
   ]
  },
  {
   "cell_type": "markdown",
   "id": "3d81388e-de4d-4b3d-b4b0-2c59e594d2c8",
   "metadata": {},
   "source": [
    "_`Table 6. Movie genre by average score. (Only genres with at least 1583 movies.)`_"
   ]
  },
  {
   "cell_type": "markdown",
   "id": "3587848f-8e04-4842-97b4-3492dc26a188",
   "metadata": {},
   "source": [
    "None of the genres appear to be outstanding. The top-scoring half scores about average, and from there it's pretty much all downhill. However, it should be noted that these scores aren't representative of \"pure\" genres, because many of the movies in the dataset were tagged with several genres, so that, for example, the score of the same individual movie may have influenced both the overall `Thriller` and `Sci-Fi` scores. Regardless, according to the IMDB userbase, it seems the best three movie genres out there are biography, history, and war.\n",
    "\n",
    "This per se isn't particularly interesting, but any difference in scoring between male and female voters might be. **Does the same list look any different in terms of score, if we break it down by sex?**\n",
    "\n",
    "![](figures/score_by_sex.png)"
   ]
  },
  {
   "cell_type": "markdown",
   "id": "7c7e4feb-8f4c-46e1-b523-ce1aa3ca2ff3",
   "metadata": {},
   "source": [
    "_`Table 7. Movie genre by average score and average score by sex. (Only genres with at least 1583 movies.)`_"
   ]
  },
  {
   "cell_type": "markdown",
   "id": "edb2e956-5042-460e-8799-8bffc918c1e9",
   "metadata": {},
   "source": [
    "The columns `M_AVG_SCORE` and `F_AVG_SCORE` show the average score across all movies of each genre by voter sex; the values in the `M_F_DIFF` column have been calculated as `M_AVG_SCORE` minus `F_AVG_SCORE`. These differences are all fairly small, each being less than half a point, but they're all negative, which means that **on average, male voters scored each and every movie genre lower than female voters did.** This is true also of the genres we excluded because of their low movie count. With the data we have, it's difficult to even speculate as to why female voters seem to be ever so slightly more generous than males, but the fact they're _consistently_ so across all movie genres is interesting.\n",
    "\n",
    "The histograms below show the proportion of movies whose average score was 1, 2, etc, by sex. **The proportion of average \"bad\" scores (1-5) from female voters is nearly always lower than for males; vice-versa, the proportion of average \"good\" scores (6-10) from females is higher.** For example, male users gave an average score between 7 and 8 to about 8% of the movies they rated; female users gave the same average score to 15% of the movies they rated!\n",
    "\n",
    "![](figures/female_vs_male_score.png)"
   ]
  },
  {
   "cell_type": "markdown",
   "id": "a504c74c-e781-42f2-bf4f-ae2f3228f76d",
   "metadata": {},
   "source": [
    "_`Figure 27. Proportion of movies by average score assigned by male (blue) and female (purple) voters.`_"
   ]
  },
  {
   "cell_type": "markdown",
   "id": "81302239-0d7b-4c10-b1be-230378058b1e",
   "metadata": {},
   "source": [
    "The above is a broad overview that doesn't take into account voter age. It would be interesting to see if this phenomenon changes in any way when age cohorts are considered. Doing so across all movie genres is beyond the scope of this project, but to conclude this exploration, we can calculate how the average male and female scores change overall with age.\n",
    "\n",
    "![](figures/female_vs_male_score_by_age.png)"
   ]
  },
  {
   "cell_type": "markdown",
   "id": "632b2f4f-2928-46f4-8650-dab94f1eae47",
   "metadata": {},
   "source": [
    "_`Figure 28. Average IMDB score by age cohort and sex.`_"
   ]
  },
  {
   "cell_type": "markdown",
   "id": "c34901fa-c45f-468f-957c-b5c6982d3534",
   "metadata": {},
   "source": [
    "According to the chart above, **the average score given by a cohort of people of either sex to any movie, regardless of its genre or anything else, decreses as the cohort's age increases.** For example, we see that, on average, female IMDB voters between the ages of 18 and 29 rate movies just above 6.3; the same rating drops to less than 6.1 for female voters aged 30 to 44, and it drops even further for the next cohort.\n",
    "\n",
    "This chart too suggests that females are slightly more generous when scoring movies than males are, and on top of that, males become more critical than females do with age. For some reason, the females younger than 17 appear a bit more critical than males of the same age range, but the difference is minimal and doesn't negate the overall trends observed."
   ]
  },
  {
   "cell_type": "markdown",
   "id": "9abca913-6d1c-4e3f-90a6-df5869be4be3",
   "metadata": {},
   "source": [
    "## Conclusions"
   ]
  },
  {
   "cell_type": "markdown",
   "id": "1043c3cd-4bc6-45bd-b93c-08caf7d84718",
   "metadata": {},
   "source": [
    "During this quick exploration of a dataset of nearly 90000 movies, we tried to answer a few questions about movie budgets, revenues, length, and scores. We found out that:\n",
    "\n",
    "- on average, **budgets have slowly but fairly steadily grown** from the early 1900s to 2020;\n",
    "\n",
    "- if a few outliers from the 1940s are excluded, on average **revenues grew slowly from the early 1900s to about 1980,** when they began to slowly taper off. However, when looking at the median revenue, we saw that it was a fairly flat line throughout the entire century, barring the aforementioned outliers and **a prominent peak around the 1980s that took about 20 years to disappear**. We saw that, indeed, movies from the 1976-2000 time frame often grossed much more than movies in 1945-1975 and 2001-2020;\n",
    "\n",
    "- on average, **movies with higher budgets gross more**, which seems to be especially true in the case of very large budgets;\n",
    "\n",
    "- **the average movie has become longer and longer over the past century**, from about 55 minutes in 1900 to over an hour and half in 2020. **Longer movies are more expensive on average**, with the average budget growing up to almost 100 million USD for movies in the 3 to 4 hours range. Movies longer than four hours are rather rare, but their budget is closer to 20 million USD on average;\n",
    "\n",
    "- **IMDB users rate older movies more highly than newer ones on average**. Movies from the 1930s score around 6.8 on average, but from there, the average rating plummets all the way down to 5.6 for movies from 2020;\n",
    "\n",
    "- **Higher budgets show a very weak correlation with higher scores.** In particular, between 10 and 100 million USD, budgets don't seem to make much of a difference in terms of score, which gravitates around 6.3. With higher budgets, the average score reaches up to 7 points;\n",
    "\n",
    "- **The revenue range for movies scoring up to 7 points is on average fairly narrow,** up to 50.000.000 USD. From that point on, there's a rather steep growth that takes the average revenue all the way up to over 300 million USD for movies scoring around 9. We shouldn't forget, however, that the presence of few high-scoring, very high-grossing outliers skews this average upward;\n",
    "\n",
    "- **Very few western countries are among the top-10 in terms of movie scores.** Somewhat surprisingly, Soviet Union movies have an average score of about 7.1 and are at the top of the list, while the United States are almost at the very bottom of the list of all countries, with a meagre average score of 5.6. It might be that, in the cases of some countries, the location of the voters influences the scores in a way or another (for example, if most voters of a certain movie all come from the same country that produced the movie), but this is not something we could verify because this kind of information was simply not available in the dataset;\n",
    "\n",
    "- **On average, female voters score _every_ movie genre higher than male voters.** The difference is small but present for all genres, which suggests that male voters might be more \"picky,\" and that they grow more so with age. On average, a movie scored by young males up to 17 years old scores 6.2, against 5.6 in the case of males aged 45 and older. Female voters too become \"pickier\" with age, but much less so: across all age cohorts, the difference between the maximum and minimum average score from female voters is about a mere 0.3."
   ]
  }
 ],
 "metadata": {
  "kernelspec": {
   "display_name": "Python 3 (ipykernel)",
   "language": "python",
   "name": "python3"
  },
  "language_info": {
   "codemirror_mode": {
    "name": "ipython",
    "version": 3
   },
   "file_extension": ".py",
   "mimetype": "text/x-python",
   "name": "python",
   "nbconvert_exporter": "python",
   "pygments_lexer": "ipython3",
   "version": "3.9.7"
  }
 },
 "nbformat": 4,
 "nbformat_minor": 5
}
