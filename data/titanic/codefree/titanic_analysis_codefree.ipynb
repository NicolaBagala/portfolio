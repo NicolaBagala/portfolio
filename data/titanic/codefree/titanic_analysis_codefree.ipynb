{
 "cells": [
  {
   "cell_type": "markdown",
   "id": "1de0c4c0-05f7-48ed-a1f5-5ff7b4cf1a2f",
   "metadata": {},
   "source": [
    "# Women And Children First (Code-free)"
   ]
  },
  {
   "cell_type": "markdown",
   "id": "63e4eb93-c835-4ecb-baff-01511bb75261",
   "metadata": {},
   "source": [
    "## Introduction"
   ]
  },
  {
   "cell_type": "markdown",
   "id": "f7d05305-5864-458c-94cd-27a8bb17500c",
   "metadata": {},
   "source": [
    "The goal of this short project is to **assess whether survival rates on the _Titanic_ obeyed the non-written rule \"women and children first.\"** To do that, I put together a more comprehensive dataset than you'd normally find on most ML websites and such likes; see the [data wrangling](https://github.com/NicolaBagala/portfolio/blob/master/titanic/titanic_wrangling.ipynb) part of this project for more information on the data sources. Note that this is the code-free version of the project; if you want to see the code, you can do so [here](https://github.com/NicolaBagala/portfolio/blob/master/titanic/titanic_analysis.ipynb).\n",
    "\n",
    "The fact that victims of the _Titanic_ were mostly men, both in absolute and percentage terms, is actually nothing new, but I was curious to see whether this fact was true also when accounting for factors like age, affiliation (i.e., passenger or crew member), class, etc. That's what we'll do in this project."
   ]
  },
  {
   "cell_type": "markdown",
   "id": "8d1c5d60-8250-488c-9f92-9b6fb5732411",
   "metadata": {},
   "source": [
    "## The dataset"
   ]
  },
  {
   "cell_type": "markdown",
   "id": "0d1e611e-2b32-4b63-97e0-35d2f4d5cf8d",
   "metadata": {},
   "source": [
    "The dataset contains information about 2165 people in total, which is just barely short of the estimated full number of people onboard ([2,224](https://en.wikipedia.org/wiki/Titanic) according to Wikipedia.) Of these, 1304 were passengers and 861 were crew. The dataset is organised into columns as follows:\n",
    "\n",
    "- `NAME`, `AGE`, and `SEX` are just standard demographic information. \n",
    "- `AGE_BRACKET` is a broader categorisation of each person's age: `0-9`, `10-19`, `20-29`, etc.\n",
    "- `AFFILIATION` is either `Crew` or `Passengers`, and it is used exclusively to be able to quickly separate the two sets of people.\n",
    "- `GROUP` applies to crew members only, and it identifies the eight broader groups to which a crew member could belong: Officers, Deck, Engineering, Victualling, Restaurant, Postal clerks, Guarantee group, and Orchestra. For passengers, this column has value `Not applicable`.\n",
    "- `POSITION` identifies the specific job of each crew member. For passengers, this column has value `Not applicable`.\n",
    "- `CLASS` can be `First`, `Second`, or `Third` in the case of passengers and of the Guarantee group crew members, who for some reason were given passenger accommodations. For other crew members, this column has value `Not applicable`.\n",
    "- `SURVIVED` is `True` for people who survived the disaster, and `False` for those who didn't make it.\n",
    "\n",
    "In some instances, we're going to compare actual survival and death rates with partly randomised ones, obtained by randomly choosing 1462 people as victims and the rest as survivors. (As we'll see later on, 1462 is the number of actual victims in the dataset.) The overall randomised death and survival rates will be identical to the originals, but all other possible influencing factors will be eliminated. In other words, we'll know there are 1462 victims whose age, sex, affiliation, etc played no role in their fate. For the rest of the analysis, we'll refer to the ensemble of randomly chosen survivors and victims as the *shuffled Titanic*; the *shuffled crew*, the *shuffled passengers*, etc, will refer to randomly chosen survivors/victims among the crew, the passengers, etc. We'll often use the abbreviation \"SHF\" to refer to shuffled groups of people."
   ]
  },
  {
   "cell_type": "markdown",
   "id": "6f20597e-6e8b-482c-92a6-e3408cc81536",
   "metadata": {
    "tags": []
   },
   "source": [
    "## Broad overview"
   ]
  },
  {
   "cell_type": "markdown",
   "id": "811e7e61-639d-44de-93b7-72216c119612",
   "metadata": {},
   "source": [
    "Before analysing death and survival rates of crew and passengers, let's familiarise a bit with both on a broader level.\n",
    "\n",
    "On average, both crew members and passengers of the _Titanic_ were fairly young; the mean age on board was just above 30, and most of the people were between 20 and 40, especially among the crew. If age-wise the two groups are quite different, they're even more so sex-wise."
   ]
  },
  {
   "cell_type": "markdown",
   "id": "f341e119-2e62-4bd7-81c1-f7e8e8f3cdbb",
   "metadata": {},
   "source": [
    "![](figures/fig_1.png)"
   ]
  },
  {
   "cell_type": "markdown",
   "id": "ec360fba-f64f-4aa1-acf6-84065328a4eb",
   "metadata": {},
   "source": [
    "_`Figure 1. Age and sex distribution of the Titanic's crew and passengers.`_"
   ]
  },
  {
   "cell_type": "markdown",
   "id": "1ebdd113-b963-4225-8b51-d008ca9b893d",
   "metadata": {},
   "source": [
    "Overall, most people on the ship were male. Women constituted only a very small fraction of the crew, and only about 36% of the passengers."
   ]
  },
  {
   "cell_type": "markdown",
   "id": "8343f5da-8a15-4177-add8-51a3816b56ad",
   "metadata": {},
   "source": [
    "![](figures/fig_2.png)"
   ]
  },
  {
   "cell_type": "markdown",
   "id": "1026dbcb-e664-483b-b694-cb6488a344a7",
   "metadata": {},
   "source": [
    "_`Figure 2. Sex distribution of the Titanic's passengers.`_"
   ]
  },
  {
   "cell_type": "markdown",
   "id": "5f1c43b6-82ef-4660-b607-504a37a602e1",
   "metadata": {},
   "source": [
    "Below is a bar chart visualising the composition of the different crew groups by sex. The victualling and engineering people constituted the vast majority of the crew; most women belonged to the victualling crew, and only very few of them were part of the restaurant crew."
   ]
  },
  {
   "cell_type": "markdown",
   "id": "451a1fe9-5c59-4d25-b9b5-b3c4168fd9e2",
   "metadata": {},
   "source": [
    "![](figures/fig_3.png)"
   ]
  },
  {
   "cell_type": "markdown",
   "id": "caf3d203-5575-408c-95a4-8d9b4057a522",
   "metadata": {},
   "source": [
    "_`Figure 3. The Titanic's crew, by group and sex.`_"
   ]
  },
  {
   "cell_type": "markdown",
   "id": "fdfaed7e-bc76-452b-bd20-eb92d6284ee1",
   "metadata": {},
   "source": [
    "With the exception of the nine people in the Guarantee group, crew members had different accomodations than the passengers that weren't divided by class in the same way. For both sexes, the majority of the passengers had a third-class accommodation (which is unsurprising because of price considerations), but the percentages of men and women in third class differ significantly, about 60% and 45% respectively. Slightly more female passengers, in percentage, occupied second-class accommodations, and about 11% more females than males occupied first-class accommodations."
   ]
  },
  {
   "cell_type": "markdown",
   "id": "942521d3-c29c-4d3e-9e52-63b4e62c9db3",
   "metadata": {},
   "source": [
    "![](figures/fig_4.png)"
   ]
  },
  {
   "cell_type": "markdown",
   "id": "fd5c480b-c2b2-4789-a100-ceedac9e1f91",
   "metadata": {},
   "source": [
    "_`Figure 4. Passengers of the Titanic, by sex and class.`_"
   ]
  },
  {
   "cell_type": "markdown",
   "id": "df2ac8c2-997d-4e25-8d3d-0f5f55731884",
   "metadata": {},
   "source": [
    "## Analysis of the survivors"
   ]
  },
  {
   "cell_type": "markdown",
   "id": "89f74c73-ca5f-4606-93d9-16180de30840",
   "metadata": {},
   "source": [
    "Let's move on to survival and death rates, to see if and how they vary when accounting for different factors. Let's start with the larger picture: **Overall, 67.5% of the people aboard the ship died—that is 1462 people.**"
   ]
  },
  {
   "cell_type": "markdown",
   "id": "517406e9-6cb3-4229-9da3-e1b630896107",
   "metadata": {},
   "source": [
    "![](figures/fig_5.png)"
   ]
  },
  {
   "cell_type": "markdown",
   "id": "a72bd298-44c2-4c78-897a-7aeaf4844fad",
   "metadata": {},
   "source": [
    "_`Figure 5. Survival and death rates on the whole ship.`_"
   ]
  },
  {
   "cell_type": "markdown",
   "id": "8e08235d-b69f-4cb1-8ab5-0455382e06f9",
   "metadata": {},
   "source": [
    "**Amongst the dead, around 91% were men, while only about 9% were women.** The split among survivors is instead nearly 50-50 between males and females. Put another way, if you picked a _Titanic_ survivor at random, they could be almost equally likely a man or a woman; if you picked a random victim, the odds are the person was male."
   ]
  },
  {
   "cell_type": "markdown",
   "id": "043cee94-3567-4ade-aa23-2a4f410b6508",
   "metadata": {},
   "source": [
    "![](figures/fig_6.png)"
   ]
  },
  {
   "cell_type": "markdown",
   "id": "26de7bad-179d-4b2d-b402-302d840d900b",
   "metadata": {},
   "source": [
    "_`Figure 6. Percentages of male and females among victims and survivors. Real and shuffled Titanic.`_"
   ]
  },
  {
   "cell_type": "markdown",
   "id": "3f9d5572-d01d-4094-b2f1-5981c5513170",
   "metadata": {},
   "source": [
    "Since men were more numerous than women, if survival and death were up only to chance you would expect to see more men than women among both victims and survivors, in roughly the same percentages as they appear in the sample: 77% for men and 22% for women, which is what happens on the shuffled _Titanic_. On the real _Titanic_, we see instead that **the actual rates are extremely skewed in favour of women.** \n",
    "\n",
    "Another question is what percentage of men and women survived—or equivalently, if you picked a random man (woman) from all the people who were onboard, what are the odds that he (she) was a survivor? The data shows that **a randomly chosen woman has just above a 73% survival chance, whereas a randomly chosen man only has around 20.5% chance of being among male survivors.** On the shuffled _Titanic_, men and women would die and survive in roughly the same percentages, of course with more victims overall because we set the general death rate very high."
   ]
  },
  {
   "cell_type": "markdown",
   "id": "1ea3ba00-eb6e-4580-ae52-860382f26196",
   "metadata": {},
   "source": [
    "![](figures/fig_7.png)"
   ]
  },
  {
   "cell_type": "markdown",
   "id": "2d2ef583-369f-476b-872c-f27d6670790f",
   "metadata": {},
   "source": [
    "_`Figure 7. Percentages of victims and survivors among males and females. Real and shuffled Titanic.`_"
   ]
  },
  {
   "cell_type": "markdown",
   "id": "b3cd81d4-b5b8-456a-8743-2787e81622fe",
   "metadata": {},
   "source": [
    "Let's see whether the percentage of survivors for males and females changes when age is taken into account. The histogram below shows all people on the _Titanic_ categorised by age group, together with the survivors and shuffled survivors for each bracket.  (Note that the green percentages only refer to the real _Titanic_; the green bars and the red line are absolute counts in this and similar charts.) We see that, with few exceptions, survivors are always below 50% for each bracket; the numbers of shuffled survivors for each age bracket are often close to those actually observed, suggesting that age might not have been a very important factor determining survival."
   ]
  },
  {
   "cell_type": "markdown",
   "id": "c2d27b13-9f73-4d95-a7c9-fb2bed7bb5a8",
   "metadata": {},
   "source": [
    "![](figures/fig_8.png)"
   ]
  },
  {
   "cell_type": "markdown",
   "id": "76fb8c34-acb4-4d78-8d62-16a681b94d5a",
   "metadata": {},
   "source": [
    "_`Figure 8. Titanic survivors by age bracket. Real and shuffled Titanic.`_"
   ]
  },
  {
   "cell_type": "markdown",
   "id": "06270531-24fa-47d0-817d-02777d58419a",
   "metadata": {},
   "source": [
    "The situation changes quite dramatically when sex is taken into account: **the percentage of female survivors is always significantly above 50%, no matter the age bracket; for males, only two brackets have a percentage of survivors higher than 50%,** while all others are between 0 and 22 percent. While the difference in size of each age bracket between the sexes is significant, the pattern is perfectly consistent; for each shared age bracket, female survival rates are moderately to much higher compared to male survival rates. Additionally, if we compare the real _Titanic_ to the shuffled _Titanic_, we see that on the latter far fewer females survived per age bracket, sometimes significantly so; the opposite is true for males, for nearly every age bracket."
   ]
  },
  {
   "cell_type": "markdown",
   "id": "a2a4a029-7d4f-4210-a7c2-f1182bd4177d",
   "metadata": {},
   "source": [
    "![](figures/fig_9.png)"
   ]
  },
  {
   "cell_type": "markdown",
   "id": "4e318926-fb90-4557-832a-2b99aa26a9dd",
   "metadata": {},
   "source": [
    "_`Figure 9. Survivors of both the real and shuffled Titanic, by sex and age bracket.`_"
   ]
  },
  {
   "cell_type": "markdown",
   "id": "75ded871-da82-4529-b7ad-51c0dc326152",
   "metadata": {},
   "source": [
    "So far, we've looked at all the people on board, regardless of whether they were crew or passengers. This might skew the results significantly if, for whatever reason, crew members were more (or less) likely to survive than passengers; so, let's look at how the picture changes when affiliation is taken into account."
   ]
  },
  {
   "cell_type": "markdown",
   "id": "75fb83ed-f7fd-4374-9d4b-5f7e0f0fab23",
   "metadata": {
    "tags": []
   },
   "source": [
    "### Crew survival"
   ]
  },
  {
   "cell_type": "markdown",
   "id": "b785b3c1-b404-47bb-8db6-1f81e5e3c05f",
   "metadata": {},
   "source": [
    "Let's start by answering the question: **Were crew members more or less likely to survive, compared to passengers?** In percentage, crew members were fewer than passengers both among victims and survivors; in other words, both a random victim and a random survivor are less likely to have been a crew member. Note however that, if being crew or passenger made no difference in terms of survival chances, you'd expect to see the same crew-passenger split among victims and survivors as you do on the whole ship, i.e. about 40-60, while we see that the situation is slightly better for passengers."
   ]
  },
  {
   "cell_type": "markdown",
   "id": "daec56cf-1e8e-4b81-b16f-29da146fe7a0",
   "metadata": {},
   "source": [
    "![](figures/fig_10.png)"
   ]
  },
  {
   "cell_type": "markdown",
   "id": "a9c54c80-cde2-4e71-8c30-bf4c5ae28247",
   "metadata": {},
   "source": [
    "_`Figure 10. Percentages of passengers and crew among victims and survivors.`_"
   ]
  },
  {
   "cell_type": "markdown",
   "id": "6cac565e-3f8f-4a2c-a59f-9614949bec38",
   "metadata": {},
   "source": [
    "Indeed, **a random crew member has almost an 80% chance of being a victim, against about 60% for a random passenger.** Since most crew members were men, this suggests that at least some of the imbalance seen in the survival rates of men and women may not depend on the unwritten rule \"women and children first\", but rather on a possible \"passengers first\" rule. It's likely that many crew members, such as officers or deck staff, were left behind as they supervised the evacuation of the ship. Others still, like engineers, were deep in the belly of the ship, and escaping was harder for them. (Not to mention that they tried to keep the electrical systems going almost until the very end.)"
   ]
  },
  {
   "cell_type": "markdown",
   "id": "f7e79729-9951-4843-b913-db121102bc8f",
   "metadata": {},
   "source": [
    "![](figures/fig_11.png)"
   ]
  },
  {
   "cell_type": "markdown",
   "id": "f01c25f1-a72d-483d-a97e-fac435f918a9",
   "metadata": {},
   "source": [
    "_`Figure 11. Survival and death rate among crew and passengers.`_"
   ]
  },
  {
   "cell_type": "markdown",
   "id": "82699efe-c8bc-484d-b4a5-127d5fa6ba33",
   "metadata": {},
   "source": [
    "Since women were a negligible part of the crew, seeing what pecentage of survivors and victims amongst the crew were women wouldn't be very informative; it was perforce a very small percentage in both cases. It's going to be more interesting to see what percentage of men and women of the crew survived or died."
   ]
  },
  {
   "cell_type": "markdown",
   "id": "0390722b-a407-436a-8d49-0f1a75f8a4be",
   "metadata": {},
   "source": [
    "![](figures/fig_12.png)"
   ]
  },
  {
   "cell_type": "markdown",
   "id": "553b5042-84b7-498d-9739-29e825cf89af",
   "metadata": {},
   "source": [
    "_`Figure 12. Survival and death rates on both the real and shuffled Titanic, by sex.`_"
   ]
  },
  {
   "cell_type": "markdown",
   "id": "c23a5594-bfbf-4a9e-a67e-4451ee362e10",
   "metadata": {},
   "source": [
    "From the charts above, we can see that the survival chances of male and female crew members is comparable to that of people on the ship as a whole—or at least, it is for males. \n",
    "\n",
    "- **Male crew members have a death rate of about 78%;** across the whole ship, the same rate for males is 79%.\n",
    "- **Female crew members have a death rate of 13%;** across the whole ship, the same rate for females is about 26.5%.\n",
    "\n",
    "Put in another way, **a randomly chosen male on the _Titanic_ has a very high chance to be a victim to begin with; if we know that he was crew, this changes virtually nothing.** This isn't true for females, who are half as likely to be amongst victims if they're crew, although both likelihoods are much lower than they are for males. Since only 23 women in total were part of the crew, it's not impossible that their high survival rate might have been due to mere chance; however, on the shuffled _Titanic_, where _everything_ was up to mere chance, we see that both males and females died and survived in very similar percentages.\n",
    "\n",
    "As we've seen in `Figure 3`, female crew were only part of the Restaurant or Victualling crew. Twenty-one of them were in Victualling, while the remaining two women were in the Restaurant crew. Since nearly all female crew survived, we automatically know that nearly all the female Victualling crew survived too, despite the fact that, as we can see below, Victualling was one of the groups with the highest death rates. (As a side note, both women in the Restaurant group survived.)"
   ]
  },
  {
   "cell_type": "markdown",
   "id": "a70682ca-2473-44ba-b7f6-442acd60583a",
   "metadata": {},
   "source": [
    "![](figures/fig_13.png)"
   ]
  },
  {
   "cell_type": "markdown",
   "id": "064e9032-76ce-4e9c-975d-ef2764eca361",
   "metadata": {},
   "source": [
    "_`Figure 13. Survival and death rates of the crew on the real Titanic, by crew group.`_"
   ]
  },
  {
   "cell_type": "markdown",
   "id": "650fe213-3067-4c6d-9e2b-eb88c54e2753",
   "metadata": {},
   "source": [
    "With a group size of merely 21 individuals, random chance *might* have caused the high survival rate of Victualling women, but it's hard not to notice that all female groups we've seen so far have had very high survival rates, regardless of size; instead, Postal clerks, the Orchestra, and the Guarantee group—small all-male groups with less than 10 people each—all had a 100% death rate. \n",
    "\n",
    "Below is the number of survivors among crew members, illustrated by age bracket."
   ]
  },
  {
   "cell_type": "markdown",
   "id": "a2522a58-a5d3-40c7-b1b6-e4986cae74eb",
   "metadata": {},
   "source": [
    "![](figures/fig_14.png)"
   ]
  },
  {
   "cell_type": "markdown",
   "id": "561f7ead-4847-4e4a-b5f5-ba86a64ed5e6",
   "metadata": {},
   "source": [
    "_`Figure 14. Survival of the crew by age bracket. Real and shuffled Titanic.`_"
   ]
  },
  {
   "cell_type": "markdown",
   "id": "1d006fea-c558-4952-9564-81f51425cecc",
   "metadata": {},
   "source": [
    "As we can see below, **female crew survived in much higher percentages than male crew in every bracket.** While female age brackets have far fewer people than male age brackets, the situation on the shuffled _Titanic_ is nonetheless very different. There's a noticeable reduction in female survivors, and small-to-modest increases in the number of male survivors per bracket."
   ]
  },
  {
   "cell_type": "markdown",
   "id": "93d50b18-6fa4-45ba-adcd-c22f9d2a9759",
   "metadata": {},
   "source": [
    "![](figures/fig_15.png)"
   ]
  },
  {
   "cell_type": "markdown",
   "id": "f86893b7-c4d5-4688-adb2-a8e407b4b71f",
   "metadata": {},
   "source": [
    "_`Figure 15. Crew survival and death rates by sex and age bracket. Real and shuffled Titanic. (Note that the y-axis is different for each chart.)`_"
   ]
  },
  {
   "cell_type": "markdown",
   "id": "fa8c202c-1f60-41f6-956c-797d90bddfb0",
   "metadata": {},
   "source": [
    "Before moving on to analysing the passengers' survival rates, it would be interesting to take a small detour to see which jobs among the crew were the most dangerous—that is, those with the highest death rates. To make sure the results are meaningful, we'll only consider positions occupied by at least 10 crew members."
   ]
  },
  {
   "cell_type": "markdown",
   "id": "21dcb8aa-0ee0-49e3-8e0b-814a6075289a",
   "metadata": {},
   "source": [
    "![](figures/fig_16.png)"
   ]
  },
  {
   "cell_type": "markdown",
   "id": "a9b5eca6-786e-4622-961b-02f449d0f360",
   "metadata": {},
   "source": [
    "_`Figure 16. Jobs on the Titanic by absolute death rate. Only jobs with at least 10 people considered. Totals shown for comparison.`_"
   ]
  },
  {
   "cell_type": "markdown",
   "id": "1d36a4a0-8432-4568-bc09-0e39c86d6089",
   "metadata": {},
   "source": [
    "The chart above shows the absolute death rate instead of percentages, because given the significant difference between the sizes of the groups, percentages could be misleading. For example, 100% of waiters on the _Titanic_ died, but there were less than 20 of them in total and it surely wasn't a more dangerous job than that of engineers. With such a small number of waiters, random chance may well have been the most important factor that determined the fate of these unlucky people. By contrast, \"only\" about 72% of the Firemen/Stokers died, but as they were much more numerous, it's reasonable to conclude that so many of them died not because of chance, but because of their job's inherent risk in the event of the ship sinking. Indeed, they were part of the engineering team, who due to their physical location on the ship, as well as their desperate attempts to keep the systems of the ship going for as long as possible, had it arguably worse than anybody else onboard. (Incidentally, note that \"Stewardess\"—a job obviously done only by women—is at the bottom of the list, both in absolute and relative terms.)"
   ]
  },
  {
   "cell_type": "markdown",
   "id": "9ff4270e-0161-487b-b8ed-fc81fd03d39e",
   "metadata": {},
   "source": [
    "### Passenger survival"
   ]
  },
  {
   "cell_type": "markdown",
   "id": "070d8d6d-19ae-4a69-8b4a-8fffdacd6e6d",
   "metadata": {},
   "source": [
    "The charts below show the death and survival rates for male and female passengers aboard the real and the shuffled _Titanic_, and it tells the same story as the charts illustrating sex-dependent survival rates for crew memebers and for the whole ship: males were vastly more likely to die than females. Once again, the situation on the shuffled _Titanic_ is far more balanced."
   ]
  },
  {
   "cell_type": "markdown",
   "id": "589eaa6d-b027-48cb-9a7e-93f7555d190f",
   "metadata": {},
   "source": [
    "![](figures/fig_17.png)"
   ]
  },
  {
   "cell_type": "markdown",
   "id": "bed54ae4-221b-4181-847d-f5b7ed223dfd",
   "metadata": {},
   "source": [
    "_`Figure 17. Passenger survival and death rates by sex. Real and shuffled Titanic.`_"
   ]
  },
  {
   "cell_type": "markdown",
   "id": "2f6f5d2c-5583-4cdd-9a8a-f6a7566e9b3d",
   "metadata": {
    "tags": []
   },
   "source": [
    "It's worth asking whether passengers of different classes had different survival rates, and the answer is a predictable \"yes\"."
   ]
  },
  {
   "cell_type": "markdown",
   "id": "4813d19b-cbc7-4b63-b8a4-4593b0c46797",
   "metadata": {},
   "source": [
    "![](figures/fig_18.png)"
   ]
  },
  {
   "cell_type": "markdown",
   "id": "318a2819-bc66-4a6a-8ea6-378aaf858f35",
   "metadata": {},
   "source": [
    "_`Figure 18. Passenger survival and death rates, by class.`_"
   ]
  },
  {
   "cell_type": "markdown",
   "id": "b7fe2ab1-7514-44e9-a631-ffaee1293711",
   "metadata": {},
   "source": [
    "The chart leaves no doubt that class and death rates on the _Titanic_ were correlated: the lower the class, the higher the death rate, and obviously vice-versa for the survival rate. The reasons for this may be many, for example the location of cabins of different classes, possible discrimination operated by the crew, or the strings that higher-class passengers might have been able to pull to more easily secure a place on a lifeboat. However, once more this trend changes significantly when sex is accounted for."
   ]
  },
  {
   "cell_type": "markdown",
   "id": "23901952-464e-4f3a-bae4-ce8a47662944",
   "metadata": {},
   "source": [
    "![](figures/fig_19.png)"
   ]
  },
  {
   "cell_type": "markdown",
   "id": "c04f56d2-4b57-4d0c-9424-4709d83a57c6",
   "metadata": {},
   "source": [
    "_`Figure 19. Survival and death rates by sex and class. Real (top) and shuffled (bottom) Titanic.`_"
   ]
  },
  {
   "cell_type": "markdown",
   "id": "02050463-6301-44dd-aaa8-80bd2d66e8d8",
   "metadata": {},
   "source": [
    "The pattern \"high class, low death\" is not only preserved, but it is even more evident when looking at female passengers only: **death rates for female passengers decrease almost four-fold with each step from lower to higher class.** However, death rates among males are virtually identical (slightly above 80%) for second and third class passengers; first-class male passengers had it only slightly better, with a death rate of about 65%. A randomly chosen third-class female passenger of the _Titanic_ has a pretty much fair chance of being a survivor, about 15% higher than for a randomly chosen first-class male passenger. **A higher-class ticket always came with significantly better survival chances for female passengers; not so for males.** On the shuffled _Titanic_, class privilege is just not a thing; female and male passengers survive and die in very similar percentages across all classes.\n",
    "\n",
    "Age is another factor that could impact survival: older passengers might have had a harder time fleeing or finding their way to the lifeboats, and the same is true for very young children, who most likely could not escape without the assistance of an adult. We can check that by plotting passenger survival rates by age bracket."
   ]
  },
  {
   "cell_type": "markdown",
   "id": "dc5cf005-192b-445a-a7d1-ce7d365c863b",
   "metadata": {},
   "source": [
    "![](figures/fig_20.png)"
   ]
  },
  {
   "cell_type": "markdown",
   "id": "7d3d3844-d44b-49b6-a946-66319fc31bf8",
   "metadata": {},
   "source": [
    "_`Figure 20. Passenger and survived passenger count on the Titanic, by age bracket. The red line shows the survivor count on the shuffled Titanic.`_"
   ]
  },
  {
   "cell_type": "markdown",
   "id": "6beb46ba-ae47-4fde-ba1d-c82592d4bb36",
   "metadata": {},
   "source": [
    "Survival rates are actually higher amongst the youngest and oldest, though their small number, especially for the latter cohort, is likely an important factor. It's not so strange, however that the youngest cohort had such a high survival rate, as their parents must surely have tried their hardest to ensure they wouldn't die. Survival rates are anyway fairly low amongst people between 60 and 79, for reasons that may include self-sacrifice or higher difficulty in escaping, but on which we can ultimately only speculate. Note, however, that just like in `Figure 8` we saw that the real survival rates by bracket were very close to shuffled ones for the whole ship, they're fairly close to each other for passengers only as well, again suggesting that the role of age might have been limited.\n",
    "\n",
    "Once again, **splitting the above histogram by sex reveals very different trends among males and females;** among male passengers, only children aged 0-9 and men aged 80-89 had exceptionally high survival rates; among female passengers, survival rates were always very high, 64% at a minimum. While these two distributions have a different number of age brackets of rather different sizes compared to the same distributions for the crew, the situation is again very similar: very low survival rates for (most) males, very high survival rates for all females. The situation is much more balanced on the shuffled _Titanic_ —which, let's not forget, has nonetheless the same overall death rate as the real _Titanic_."
   ]
  },
  {
   "cell_type": "markdown",
   "id": "375e8f6a-45a5-4975-9a2c-128742a4a74b",
   "metadata": {},
   "source": [
    "![](figures/fig_21.png)"
   ]
  },
  {
   "cell_type": "markdown",
   "id": "e82284f0-261c-4fbd-8ca2-af4fa3d20f63",
   "metadata": {},
   "source": [
    "_`Figure 21. Passenger count and survived passenger count by sex and age bracket. The red line shows the survivor count on the shuffled Titanic.`_"
   ]
  },
  {
   "cell_type": "markdown",
   "id": "35c9e290-043a-429e-8959-2eb2cff3c927",
   "metadata": {},
   "source": [
    "What we've seen so far highlights quite clearly the different survival rates for men and women, but it's not very clear at this point if more children or more adults lost their lives on the _Titanic_. A glance at the charts above is enough to tell that more adults died in absolute terms, but let's try to quantify this more precisely: let's define \"adult\" as anyone aged at least 18 and \"child\" anyone younger than 18. The table below shows the four categories sorted by their percentage of survivors. **Female adults have the highest percentage,** followed by female children and male children. Male adults come in last, with less than 21% of survivors. The `TOTAL` column shows the total count of people that were in each category."
   ]
  },
  {
   "cell_type": "markdown",
   "id": "133af9b5-94ca-4fe6-ad61-cf25598a2595",
   "metadata": {},
   "source": [
    "![](figures/table_1.png)"
   ]
  },
  {
   "cell_type": "markdown",
   "id": "ce67376e-54c4-4ba2-bb3d-7aa2463c870d",
   "metadata": {},
   "source": [
    "_`Table 1. Total count and percentage of survivors\\dead among adults and children of both sexes.`_"
   ]
  },
  {
   "cell_type": "markdown",
   "id": "d8371991-4076-49f9-94e8-69af8b482605",
   "metadata": {},
   "source": [
    "## Conclusions"
   ]
  },
  {
   "cell_type": "markdown",
   "id": "2c13fa26-edc2-4575-84f3-56d62569a152",
   "metadata": {},
   "source": [
    "We've analysed the survival rates for different groups of people aboard the _Titanic_, and compared some of them to those observed on the \"shuffled _Titanic_\"—that is, an imaginary ship that had the exact same overall death and survival rates, but whose victims and survivors were chosen entirely randomly.\n",
    "\n",
    "The analysis leaves little doubt that **women and children did indeed come first:** no matter how you look at it, women had much lower death rates than males, irrespective of affiliation, age, or class. The number of women on the _Titanic_ was very small compared to that of men, and thus it might be that at least in the case of some particularly small subset of women, random chance might have determined their high survival rates. This, however, happened systematically for each and every group of women considered, while it hardly ever happened for any group of men, no matter how small. Additionally, on the shuffled _Titanic_, women and men died in very similar percentages, and no bias in favour of female (or male) survival was observed, irrespective of group size. (It should be noted that, on the shuffled _Titanic_, any possible influencing factor was eliminated, not just sex.) We also saw that, on the real _Titanic_, female adults had the highest survival rates, followed by female children, male children, and finally adult males.\n",
    "\n",
    "Given the above, it's very unlikely that the imbalance in survival rates observed on the _Titanic_ was due to mere chance; \"women and children first\" was definitely at play, whether intentionally or by unconscious bias. Naturally, it is also possible that some other factor might have been at play—women might have a stronger survival instinct, for example, or be more resilient to the conditions everyone was exposed to during the tragedy—but this is mere speculation and not something we can infer from the data."
   ]
  }
 ],
 "metadata": {
  "kernelspec": {
   "display_name": "Python 3 (ipykernel)",
   "language": "python",
   "name": "python3"
  },
  "language_info": {
   "codemirror_mode": {
    "name": "ipython",
    "version": 3
   },
   "file_extension": ".py",
   "mimetype": "text/x-python",
   "name": "python",
   "nbconvert_exporter": "python",
   "pygments_lexer": "ipython3",
   "version": "3.9.7"
  }
 },
 "nbformat": 4,
 "nbformat_minor": 5
}
